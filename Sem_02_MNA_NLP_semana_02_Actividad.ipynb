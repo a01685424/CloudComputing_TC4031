{
  "nbformat": 4,
  "nbformat_minor": 0,
  "metadata": {
    "colab": {
      "provenance": [],
      "include_colab_link": true
    },
    "kernelspec": {
      "name": "python3",
      "display_name": "Python 3"
    },
    "language_info": {
      "name": "python"
    }
  },
  "cells": [
    {
      "cell_type": "markdown",
      "metadata": {
        "id": "view-in-github",
        "colab_type": "text"
      },
      "source": [
        "<a href=\"https://colab.research.google.com/github/a01685424/CloudComputing_TC4031/blob/main/Sem_02_MNA_NLP_semana_02_Actividad.ipynb\" target=\"_parent\"><img src=\"https://colab.research.google.com/assets/colab-badge.svg\" alt=\"Open In Colab\"/></a>"
      ]
    },
    {
      "cell_type": "markdown",
      "source": [
        "#**Maestría en Inteligencia Artificial Aplicada**\n",
        "##**Curso: Procesamiento de Lenguaje Natural (NLP)**\n",
        "###Tecnológico de Monterrey\n",
        "###Prof Luis Eduardo Falcón Morales\n",
        "\n",
        "## **Actividad de la Semana 02**\n",
        "###**Introducción al procesamiento de texto.**\n",
        "\n",
        "\n",
        "## **ALUMNO: Fernando Alfredo Rojas Estrella - A01685424**"
      ],
      "metadata": {
        "id": "759SG4TyfbUn"
      }
    },
    {
      "cell_type": "markdown",
      "source": [
        "En esta actividad deberás utilizar los datos del siguiente archivo que se encuentra en Canvas:\n",
        "\n",
        "MNA_NLP_semana_02_Actividad_datos.txt\n",
        "\n",
        "El archivo contiene comentarios en inglés sobre servicios de comida de la página de Yelp: https://www.yelp.com/ . \n",
        "\n",
        "Son mil comentarios y forman parte del conjunto de datos que se encuentra en el Machine Learning Repository de la UCI, llamado \"Sentiment Labelled Sentences\": https://archive.ics.uci.edu/ml/datasets/Sentiment+Labelled+Sentences#\n"
      ],
      "metadata": {
        "id": "6ue1YAKx3XDo"
      }
    },
    {
      "cell_type": "markdown",
      "source": [
        "#**Parte 1. Cargamos los datos.**   "
      ],
      "metadata": {
        "id": "Zj-h4drXD-X9"
      }
    },
    {
      "cell_type": "markdown",
      "source": [
        "Cargar los datos del archivo indicado y obtener una lista de longitud de 1000 strings/comentarios. \n",
        "\n",
        "Por el momento solamente requerimos las bibliotecas de Numpy y re, para el manejo de los arreglos y de las expresiones regulares en Python.\n",
        "\n",
        "En particular, no necesitarás en esta actividad la biblioteca de Pandas.\n",
        "\n",
        "###**NOTA: En esta actividad no debes importar nada más, con estas dos bibliotecas será *suficiente*.**"
      ],
      "metadata": {
        "id": "BY6yifxscfrx"
      }
    },
    {
      "cell_type": "code",
      "source": [
        "import numpy as np    # importamos Numpy para el manejo de los arreglos.\n",
        "import re             # importamos re para el manejo de las expresiones regulares."
      ],
      "metadata": {
        "id": "OJ26dAfhdFnf"
      },
      "execution_count": 1,
      "outputs": []
    },
    {
      "cell_type": "code",
      "source": [
        "# Ejecuta las siguientes instrucciones para cargar la información del achivo dado:\n",
        "\n",
        "with open('Sem 02 - MNA_NLP_semana_02_Actividad_datos.txt',        # puedes actualizar la ruta a tu archivo, en dado caso.\n",
        "          mode='r',     # abrimos el archivo en modo lectura.\n",
        "          ) as f:\n",
        "    docs = f.readlines()    # separamos cada comentario por líneas\n",
        "\n",
        "f.close()  # ya que tenemos la información en la variable docs, cerramos el archivo"
      ],
      "metadata": {
        "id": "QHUmJyjDdGNP"
      },
      "execution_count": 3,
      "outputs": []
    },
    {
      "cell_type": "code",
      "source": [
        "type(docs) == list   # Verifica que tu variable \"docs\" es una lista"
      ],
      "metadata": {
        "id": "L6WzrSrodG-Y",
        "colab": {
          "base_uri": "https://localhost:8080/"
        },
        "outputId": "4ce4464c-ba03-4b5f-eb88-8e6be64de9e6"
      },
      "execution_count": 4,
      "outputs": [
        {
          "output_type": "execute_result",
          "data": {
            "text/plain": [
              "True"
            ]
          },
          "metadata": {},
          "execution_count": 4
        }
      ]
    },
    {
      "cell_type": "code",
      "source": [
        "len(docs)==1000  # verifica que la longitud de \"docs\" es de mil comentarios."
      ],
      "metadata": {
        "id": "QIK1u9WS2FtS",
        "colab": {
          "base_uri": "https://localhost:8080/"
        },
        "outputId": "93421162-8d73-4855-f753-db1421a30b8a"
      },
      "execution_count": 5,
      "outputs": [
        {
          "output_type": "execute_result",
          "data": {
            "text/plain": [
              "True"
            ]
          },
          "metadata": {},
          "execution_count": 5
        }
      ]
    },
    {
      "cell_type": "code",
      "source": [
        "docs[0:10]     # observa algunos de los primeros comentarios"
      ],
      "metadata": {
        "id": "9AMLIfQvJqNZ",
        "colab": {
          "base_uri": "https://localhost:8080/"
        },
        "outputId": "7aa54e3d-3646-4ddd-9a65-8085f9f2a973"
      },
      "execution_count": 6,
      "outputs": [
        {
          "output_type": "execute_result",
          "data": {
            "text/plain": [
              "['Wow... Loved this place.\\n',\n",
              " 'Crust is not good.\\n',\n",
              " 'Not tasty and the texture was just nasty.\\n',\n",
              " 'Stopped by during the late May bank holiday off Rick Steve recommendation and loved it.\\n',\n",
              " 'The selection on the menu was great and so were the prices.\\n',\n",
              " 'Now I am getting angry and I want my damn pho.\\n',\n",
              " \"Honeslty it didn't taste THAT fresh.)\\n\",\n",
              " 'The potatoes were like rubber and you could tell they had been made up ahead of time being kept under a warmer.\\n',\n",
              " 'The fries were great too.\\n',\n",
              " 'A great touch.\\n']"
            ]
          },
          "metadata": {},
          "execution_count": 6
        }
      ]
    },
    {
      "cell_type": "markdown",
      "source": [
        "#**Parte 2: sección de preguntas (regex).**   \n"
      ],
      "metadata": {
        "id": "k_ewoagic5jc"
      }
    },
    {
      "cell_type": "markdown",
      "source": [
        "##**Instrucciones:**\n",
        "\n",
        "###**A continuación deberás contestar cada una de las preguntas que te piden usando expresiones regulares (regex).**\n",
        "\n",
        "###**Por el momento no hay restricción en cuanto al número de líneas de código que agregues, pero trata de incluir las mínimas posibles.**"
      ],
      "metadata": {
        "id": "X-eMJa3DFCIV"
      }
    },
    {
      "cell_type": "markdown",
      "source": [
        "*   **Pregunta 1.** \n",
        "\n",
        "Busca y elimina todos los saltos de línea '\\n' que se encuentran al final de cada comentario. \n",
        "\n",
        "Una vez finalizado, imprime los primeros 10 comentarios del resultado obtenido.\n"
      ],
      "metadata": {
        "id": "78nJMemzn5a5"
      }
    },
    {
      "cell_type": "code",
      "source": [
        "'''import copy\n",
        "docs_02 = copy.copy(docs)\n",
        "docs_02[0:5]\n",
        "\n",
        "type(docs_02)\n",
        "docs_02_str = ' '.join(docs_02)\n",
        "type(docs_02_str)\n",
        "docs_02_str[0:50]\n",
        "x01 = re.findall(r'\\n+', docs_02_str)\n",
        "x02 = re.findall(r\"(?:[\\n])*\", docs_02_str)\n",
        "x03 = re.split(r'[\\n]', docs_02_str)  # salto de línea.\n",
        "\n",
        "print(\"docs_02_str= \", docs_02_str[0:60])\n",
        "print(\"x01= \", x01[0:10])\n",
        "print(\"x02= \", x02[0:10])\n",
        "print(\"x03= \", x03[0:10])'''"
      ],
      "metadata": {
        "id": "PwbYYIuZn8pE",
        "colab": {
          "base_uri": "https://localhost:8080/"
        },
        "outputId": "73c85437-37f1-4722-c88c-979b70bed693"
      },
      "execution_count": 34,
      "outputs": [
        {
          "output_type": "stream",
          "name": "stdout",
          "text": [
            "docs_02_str=  Wow... Loved this place.\n",
            " Crust is not good.\n",
            " Not tasty and \n",
            "x01=  ['\\n', '\\n', '\\n', '\\n', '\\n', '\\n', '\\n', '\\n', '\\n', '\\n']\n",
            "x02=  ['', '', '', '', '', '', '', '', '', '']\n",
            "x03=  ['Wow... Loved this place.', ' Crust is not good.', ' Not tasty and the texture was just nasty.', ' Stopped by during the late May bank holiday off Rick Steve recommendation and loved it.', ' The selection on the menu was great and so were the prices.', ' Now I am getting angry and I want my damn pho.', \" Honeslty it didn't taste THAT fresh.)\", ' The potatoes were like rubber and you could tell they had been made up ahead of time being kept under a warmer.', ' The fries were great too.', ' A great touch.']\n"
          ]
        }
      ]
    },
    {
      "cell_type": "code",
      "source": [
        "# -------------------------------\n",
        "# --   RESPUESTA Pregunta 1    --\n",
        "# -------------------------------\n",
        "\n",
        "import copy\n",
        "docs_03 = copy.copy(docs)\n",
        "docs_03_str = ' '.join(docs_03)\n",
        "respuesta01 = re.split(r'[\\n]', docs_03_str)  # Sin salto de línea.\n",
        "print(\"Respuesta 01\")\n",
        "respuesta01[0:10]"
      ],
      "metadata": {
        "colab": {
          "base_uri": "https://localhost:8080/"
        },
        "id": "chX6leKU57r3",
        "outputId": "724f92e1-3fbe-420d-fbec-1da20deac1ac"
      },
      "execution_count": 106,
      "outputs": [
        {
          "output_type": "stream",
          "name": "stdout",
          "text": [
            "Respuesta 01\n"
          ]
        },
        {
          "output_type": "execute_result",
          "data": {
            "text/plain": [
              "['Wow... Loved this place.',\n",
              " ' Crust is not good.',\n",
              " ' Not tasty and the texture was just nasty.',\n",
              " ' Stopped by during the late May bank holiday off Rick Steve recommendation and loved it.',\n",
              " ' The selection on the menu was great and so were the prices.',\n",
              " ' Now I am getting angry and I want my damn pho.',\n",
              " \" Honeslty it didn't taste THAT fresh.)\",\n",
              " ' The potatoes were like rubber and you could tell they had been made up ahead of time being kept under a warmer.',\n",
              " ' The fries were great too.',\n",
              " ' A great touch.']"
            ]
          },
          "metadata": {},
          "execution_count": 106
        }
      ]
    },
    {
      "cell_type": "markdown",
      "source": [
        "*   **Pregunta 2.**  \n",
        "\n",
        "Busca e imprime todas las palabras que terminan con dos o más signos de admiración seguidos, por ejemplo \"!!!\". \n",
        "\n",
        "Debes imprimir tanto la palabra como la totalidad de signos de admiración que le siguen. \n",
        "\n",
        "Indica cuántos resultados obtuviste.\n",
        "\n"
      ],
      "metadata": {
        "id": "VWeKQC93ctEo"
      }
    },
    {
      "cell_type": "code",
      "source": [
        "'''coincidencias = re.findall(r'!+', docs_03_str)\n",
        "print(\"Longitud= \",len(coincidencias))\n",
        "print(\"coincidencias= \",coincidencias)\n",
        "\n",
        "coincidencias02 = re.findall(r'\\w+!{2}', docs_03_str)\n",
        "print(\"Longitud= \",len(coincidencias02))\n",
        "print(\"coincidencias02= \",coincidencias02)\n",
        "\n",
        "coincidencias03 = re.findall(r'\\w+\\w!+!+', docs_03_str)\n",
        "print(\"Longitud= \",len(coincidencias03))\n",
        "print(\"coincidencias02= \",coincidencias03)'''"
      ],
      "metadata": {
        "id": "0p3kMXfddICc",
        "colab": {
          "base_uri": "https://localhost:8080/"
        },
        "outputId": "9abd20e8-c93b-4332-82d0-27b0f6c81c25"
      },
      "execution_count": 93,
      "outputs": [
        {
          "output_type": "stream",
          "name": "stdout",
          "text": [
            "Longitud=  168\n",
            "coincidencias=  ['!', '!', '!', '!', '!!!!!', '!', '!', '!!!', '!', '!', '!', '!!!', '!', '!', '!', '!!!', '!', '!', '!', '!', '!', '!', '!!', '!', '!', '!', '!!!!', '!', '!', '!!', '!', '!', '!', '!', '!', '!', '!', '!', '!', '!!', '!', '!', '!', '!', '!', '!', '!', '!', '!', '!', '!', '!', '!', '!', '!', '!', '!!!!!!', '!', '!!!', '!', '!', '!!!!!', '!', '!', '!!!', '!', '!', '!', '!!', '!', '!', '!', '!', '!', '!', '!!!', '!', '!', '!', '!', '!', '!', '!', '!', '!', '!', '!', '!', '!', '!', '!', '!', '!', '!', '!', '!', '!', '!', '!', '!', '!', '!', '!', '!!', '!', '!', '!', '!', '!', '!', '!', '!', '!', '!!!', '!', '!', '!', '!', '!', '!', '!', '!', '!', '!', '!', '!!!', '!', '!', '!!', '!', '!', '!', '!!', '!', '!', '!!!!!!!!', '!', '!', '!', '!', '!', '!', '!!!', '!', '!', '!', '!!!!!!!!!!!!!!', '!', '!', '!', '!!', '!', '!', '!', '!!', '!', '!', '!', '!', '!', '!!!!!!!!!!!!!!!!!!!', '!', '!', '!', '!', '!!', '!!', '!']\n",
            "Longitud=  26\n",
            "coincidencias02=  ['Firehouse!!', 'APPETIZERS!!', 'amazing!!', 'buffet!!', 'good!!', 'it!!', 'DELICIOUS!!', 'amazing!!', 'shawarrrrrrma!!', 'yucky!!', 'steak!!', 'delicious!!', 'far!!', 'biscuits!!', 'dry!!', 'disappointing!!', 'awesome!!', 'Up!!', 'FLY!!', 'here!!', 'great!!', 'packed!!', 'otherwise!!', 'amazing!!', 'style!!', 'disappointed!!']\n",
            "Longitud=  26\n",
            "coincidencias02=  ['Firehouse!!!!!', 'APPETIZERS!!!', 'amazing!!!', 'buffet!!!', 'good!!', 'it!!!!', 'DELICIOUS!!', 'amazing!!', 'shawarrrrrrma!!!!!!', 'yucky!!!', 'steak!!!!!', 'delicious!!!', 'far!!', 'biscuits!!!', 'dry!!', 'disappointing!!!', 'awesome!!', 'Up!!', 'FLY!!!!!!!!', 'here!!!', 'great!!!!!!!!!!!!!!', 'packed!!', 'otherwise!!', 'amazing!!!!!!!!!!!!!!!!!!!', 'style!!', 'disappointed!!']\n"
          ]
        }
      ]
    },
    {
      "cell_type": "code",
      "source": [
        "# -------------------------------\n",
        "# --   RESPUESTA Pregunta 2    --\n",
        "# -------------------------------\n",
        "\n",
        "respuesta02 = re.findall(r'\\w+\\w!+!+', docs_03_str)\n",
        "print(\"Longitud= \",len(respuesta02))\n",
        "print(\"Respuesta 02\")\n",
        "respuesta02"
      ],
      "metadata": {
        "colab": {
          "base_uri": "https://localhost:8080/"
        },
        "id": "BmRuMDPxSZ9b",
        "outputId": "e6bd981a-00be-4326-87dc-cc2e6566cf47"
      },
      "execution_count": 105,
      "outputs": [
        {
          "output_type": "stream",
          "name": "stdout",
          "text": [
            "Longitud=  26\n",
            "Respuesta 02\n"
          ]
        },
        {
          "output_type": "execute_result",
          "data": {
            "text/plain": [
              "['Firehouse!!!!!',\n",
              " 'APPETIZERS!!!',\n",
              " 'amazing!!!',\n",
              " 'buffet!!!',\n",
              " 'good!!',\n",
              " 'it!!!!',\n",
              " 'DELICIOUS!!',\n",
              " 'amazing!!',\n",
              " 'shawarrrrrrma!!!!!!',\n",
              " 'yucky!!!',\n",
              " 'steak!!!!!',\n",
              " 'delicious!!!',\n",
              " 'far!!',\n",
              " 'biscuits!!!',\n",
              " 'dry!!',\n",
              " 'disappointing!!!',\n",
              " 'awesome!!',\n",
              " 'Up!!',\n",
              " 'FLY!!!!!!!!',\n",
              " 'here!!!',\n",
              " 'great!!!!!!!!!!!!!!',\n",
              " 'packed!!',\n",
              " 'otherwise!!',\n",
              " 'amazing!!!!!!!!!!!!!!!!!!!',\n",
              " 'style!!',\n",
              " 'disappointed!!']"
            ]
          },
          "metadata": {},
          "execution_count": 105
        }
      ]
    },
    {
      "cell_type": "markdown",
      "source": [
        "*   **Pregunta 3.**  \n",
        "\n",
        "Busca e imprime todas las palabras que están escritas totalmente en mayúsculas. Cada coincidencia debe ser una sola palabra.\n",
        "\n",
        "Indica cuántas palabras encontraste.\n",
        "\n"
      ],
      "metadata": {
        "id": "-s3okBqL96TT"
      }
    },
    {
      "cell_type": "code",
      "source": [
        "# -------------------------------\n",
        "# --   RESPUESTA Pregunta 3    --\n",
        "# -------------------------------\n",
        "\n",
        "respuesta03 = re.findall(r'\\w[A-Z]+', docs_03_str)\n",
        "print(\"Longitud= \",len(respuesta03))\n",
        "print(\"Respuesta 03\")\n",
        "respuesta03"
      ],
      "metadata": {
        "id": "yKHJkZKo_nW5",
        "colab": {
          "base_uri": "https://localhost:8080/"
        },
        "outputId": "77417a03-d850-4a81-fd2f-25c1ba484c16"
      },
      "execution_count": 104,
      "outputs": [
        {
          "output_type": "stream",
          "name": "stdout",
          "text": [
            "Longitud=  97\n",
            "Respuesta 03\n"
          ]
        },
        {
          "output_type": "execute_result",
          "data": {
            "text/plain": [
              "['THAT',\n",
              " 'APPETIZERS',\n",
              " 'WILL',\n",
              " 'NEVER',\n",
              " 'EVER',\n",
              " 'STEP',\n",
              " 'FORWARD',\n",
              " 'IN',\n",
              " 'IT',\n",
              " 'AGAIN',\n",
              " 'LOVED',\n",
              " 'AND',\n",
              " 'REAL',\n",
              " 'BITCHES',\n",
              " 'NYC',\n",
              " 'STALE',\n",
              " 'DELICIOUS',\n",
              " 'WORST',\n",
              " 'EXPERIENCE',\n",
              " 'EVER',\n",
              " 'ALL',\n",
              " 'BARGAIN',\n",
              " 'TV',\n",
              " 'NONE',\n",
              " 'FREEZING',\n",
              " 'AYCE',\n",
              " 'FLAVOR',\n",
              " 'NEVER',\n",
              " 'BBQ',\n",
              " 'UNREAL',\n",
              " 'OMG',\n",
              " 'BETTER',\n",
              " 'BLAND',\n",
              " 'RUDE',\n",
              " 'INCONSIDERATE',\n",
              " 'MANAGEMENT',\n",
              " 'WILL',\n",
              " 'NEVER',\n",
              " 'EVER',\n",
              " 'GO',\n",
              " 'BACK',\n",
              " 'AND',\n",
              " 'HAVE',\n",
              " 'TOLD',\n",
              " 'MANY',\n",
              " 'PEOPLE',\n",
              " 'WHAT',\n",
              " 'HAD',\n",
              " 'HAPPENED',\n",
              " 'TOTAL',\n",
              " 'WASTE',\n",
              " 'OF',\n",
              " 'TIME',\n",
              " 'FS',\n",
              " 'AZ',\n",
              " 'LOVED',\n",
              " 'CONCLUSION',\n",
              " 'BEST',\n",
              " 'GO',\n",
              " 'NOW',\n",
              " 'GC',\n",
              " 'AVOID',\n",
              " 'THIS',\n",
              " 'ESTABLISHMENT',\n",
              " 'AN',\n",
              " 'HOUR',\n",
              " 'NASTY',\n",
              " 'OMG',\n",
              " 'NO',\n",
              " 'BEST',\n",
              " 'THE',\n",
              " 'OWNERS',\n",
              " 'REALLY',\n",
              " 'REALLY',\n",
              " 'PERFECT',\n",
              " 'SCREAMS',\n",
              " 'LEGIT',\n",
              " 'MGM',\n",
              " 'BEST',\n",
              " 'FLY',\n",
              " 'FLY',\n",
              " 'FANTASTIC',\n",
              " 'GREAT',\n",
              " 'OK',\n",
              " 'WAY',\n",
              " 'MUST',\n",
              " 'HAVE',\n",
              " 'OK',\n",
              " 'OVERPRICED',\n",
              " 'BARE',\n",
              " 'HANDS',\n",
              " 'WEAK',\n",
              " 'SHOULD',\n",
              " 'RI',\n",
              " 'WAAAAAA',\n",
              " 'VERY',\n",
              " 'NOT']"
            ]
          },
          "metadata": {},
          "execution_count": 104
        }
      ]
    },
    {
      "cell_type": "markdown",
      "source": [
        "*   **Pregunta 4.**  \n",
        "\n",
        "Busca e imprime los comentarios en donde todos los caracteres alfabéticos (letras) están en mayúsculas. \n",
        "\n",
        "Cada coincidencia encontrada debe ser todo el comentario/enunciado.\n",
        "\n",
        "Indica cuántos resultados obtuviste.\n"
      ],
      "metadata": {
        "id": "GX8eYyDoMZma"
      }
    },
    {
      "cell_type": "code",
      "source": [
        "# -------------------------------\n",
        "# --   RESPUESTA Pregunta 4    --\n",
        "# -------------------------------\n",
        "\n",
        "docs_04 = copy.copy(docs)\n",
        "docs_04_str = ' '.join(docs_04)\n",
        "print(\"docs=\\n\", docs_04_str[0:120])\n",
        "respuesta04 = re.findall(r'(\\w[A-Z]+\\s*.*|\\w[A-Z]+.*\\s*)+', docs_04_str)\n",
        "print(\"\\nLongitud= \",len(respuesta04), \"\\n\")\n",
        "print(\"Respuesta 04\")\n",
        "respuesta04"
      ],
      "metadata": {
        "id": "K8VuZxvTMYj6",
        "colab": {
          "base_uri": "https://localhost:8080/"
        },
        "outputId": "cbb8ffef-515e-442d-dc80-cce41760de13"
      },
      "execution_count": 163,
      "outputs": [
        {
          "output_type": "stream",
          "name": "stdout",
          "text": [
            "docs=\n",
            " Wow... Loved this place.\n",
            " Crust is not good.\n",
            " Not tasty and the texture was just nasty.\n",
            " Stopped by during the late May \n",
            "\n",
            "Longitud=  60 \n",
            "\n",
            "Respuesta 04\n"
          ]
        },
        {
          "output_type": "execute_result",
          "data": {
            "text/plain": [
              "['THAT fresh.)',\n",
              " 'APPETIZERS!!!',\n",
              " 'WILL NEVER EVER STEP FORWARD IN IT AGAIN!\"',\n",
              " 'LOVED their mussels cooked in this wine reduction, the duck was tender, and their potato dishes were delicious.\"',\n",
              " 'AND we got a great deal!\"',\n",
              " 'REAL sushi lovers, let\\'s be honest - Yama is not that good.\"',\n",
              " 'BITCHES!\"',\n",
              " 'NYC bagels, good selections of cream cheese, real Lox with capers even.\"',\n",
              " 'STALE.\"',\n",
              " 'DELICIOUS!!',\n",
              " 'WORST EXPERIENCE EVER.',\n",
              " 'ALL needed salt and pepper..and of course there is none at the tables.\"',\n",
              " 'BARGAIN!',\n",
              " \"TV's.\",\n",
              " 'NONE of the rolls had sauces on them.\"',\n",
              " 'FREEZING cold.\"',\n",
              " 'AYCE sushi place I went to in Vegas.',\n",
              " 'FLAVOR!',\n",
              " 'NEVER see another dime from me!',\n",
              " 'BBQ, lighter fare, reasonable pricing and tell the public they are back to the old ways.\"',\n",
              " 'UNREAL!',\n",
              " 'OMG, the food was delicioso!\"',\n",
              " 'BETTER.\"',\n",
              " 'BLAND.',\n",
              " 'RUDE & INCONSIDERATE MANAGEMENT.',\n",
              " 'WILL NEVER EVER GO BACK AND HAVE TOLD MANY PEOPLE WHAT HAD HAPPENED.',\n",
              " 'TOTAL WASTE OF TIME.',\n",
              " 'FS restaurant has a wonderful breakfast/lunch.\"',\n",
              " 'AZ all the time and now have my new spot.',\n",
              " 'LOVED it!',\n",
              " 'CONCLUSION: Very filling meals.',\n",
              " 'BEST cheesecurds we have ever had!',\n",
              " 'GO NOW!',\n",
              " 'GC.',\n",
              " 'AVOID THIS ESTABLISHMENT!',\n",
              " 'AN HOUR... seriously?',\n",
              " 'NASTY!',\n",
              " 'OMG I felt like I had never eaten Thai food until this dish.',\n",
              " 'NO flavor.',\n",
              " 'BEST breakfast.',\n",
              " 'THE OWNERS REALLY REALLY need to quit being soooooo cheap let them wrap my freaking sandwich in two papers not one!',\n",
              " 'PERFECT for a sit-down family meal or get together with a few friends.',\n",
              " 'SCREAMS \"\"LEGIT\"\" in my book...somethat\\'s also pretty rare here in Vegas.\"',\n",
              " 'MGM!\"',\n",
              " 'BEST brick oven pizza with homemade dough!',\n",
              " 'FLY was in my apple juice.. A FLY!!!!!!!!',\n",
              " 'FANTASTIC!',\n",
              " 'GREAT place to eat!',\n",
              " 'OK, the beef is like shoe leather.\"',\n",
              " 'WAY too sugary for my taste.',\n",
              " 'MUST HAVE!',\n",
              " 'OK or even needed a water refill once they finally served us our food.',\n",
              " 'OVERPRICED!\"',\n",
              " 'BARE HANDS, no gloves.Everything is deep fried in oil.\"',\n",
              " 'WEAK, people!\"',\n",
              " 'SHOULD have been a hilarious, yummy Christmas Eve dinner to remember was the biggest fail of the entire trip for us.\"',\n",
              " 'RI style calamari was a joke.',\n",
              " 'WAAAAAAyyyyyyyyyy over rated is all I am saying.',\n",
              " 'VERY disappointed!!',\n",
              " 'NOT hard to make a decent hamburger.']"
            ]
          },
          "metadata": {},
          "execution_count": 163
        }
      ]
    },
    {
      "cell_type": "code",
      "source": [],
      "metadata": {
        "id": "PmKgX7sCMcDx"
      },
      "execution_count": null,
      "outputs": []
    },
    {
      "cell_type": "markdown",
      "source": [
        "*   **Pregunta 5.**  \n",
        "\n",
        "Busca e imprime todas las palabras que tengan una vocal acentuada, del tipo á, é, í, ó, ú. \n",
        "\n",
        "Indica cuántos resultados obtuviste."
      ],
      "metadata": {
        "id": "a1i6qv7-McmU"
      }
    },
    {
      "cell_type": "code",
      "source": [
        "# -------------------------------\n",
        "# --   RESPUESTA Pregunta 5    --\n",
        "# -------------------------------\n",
        "\n",
        "docs_05 = copy.copy(docs)\n",
        "docs_05_str = ' '.join(docs_05)\n",
        "respuesta05 = re.findall(r'\\w*[áéíóú]', docs_05_str)\n",
        "print(\"\\nLongitud= \",len(respuesta05), \"\\n\")\n",
        "print(\"Respuesta 05\")\n",
        "respuesta05"
      ],
      "metadata": {
        "id": "nZZ5zKUOMeGD",
        "colab": {
          "base_uri": "https://localhost:8080/"
        },
        "outputId": "fb15a86d-d49c-4886-858d-ce93198a1d44"
      },
      "execution_count": 169,
      "outputs": [
        {
          "output_type": "stream",
          "name": "stdout",
          "text": [
            "\n",
            "Longitud=  3 \n",
            "\n",
            "Respuesta 05\n"
          ]
        },
        {
          "output_type": "execute_result",
          "data": {
            "text/plain": [
              "['fiancé', 'Café', 'puré']"
            ]
          },
          "metadata": {},
          "execution_count": 169
        }
      ]
    },
    {
      "cell_type": "markdown",
      "source": [
        "*   **Pregunta 6.**  \n",
        "\n",
        "Busca e imprime todas las cantidades numéricas monetarias, enteras o con decimales, que inician con el símbolo $\\$$. \n",
        "\n",
        "Indica cuántos resultados obtuviste."
      ],
      "metadata": {
        "id": "ZmPiAI82Mfb3"
      }
    },
    {
      "cell_type": "code",
      "source": [
        "# -------------------------------\n",
        "# --   RESPUESTA Pregunta 6    --\n",
        "# -------------------------------\n",
        "\n",
        "docs_06 = copy.copy(docs)\n",
        "docs_06_str = ' '.join(docs_06)\n",
        "respuesta06 = re.findall(r'\\$.*\\d+', docs_06_str)\n",
        "print(\"\\nLongitud= \",len(respuesta06), \"\\n\")\n",
        "print(\"Respuesta 06\")\n",
        "respuesta06"
      ],
      "metadata": {
        "id": "6vhe9-Y-MhL9",
        "colab": {
          "base_uri": "https://localhost:8080/"
        },
        "outputId": "99a6e337-7a54-40c6-8172-e944ba1ff337"
      },
      "execution_count": 171,
      "outputs": [
        {
          "output_type": "stream",
          "name": "stdout",
          "text": [
            "\n",
            "Longitud=  8 \n",
            "\n",
            "Respuesta 06\n"
          ]
        },
        {
          "output_type": "execute_result",
          "data": {
            "text/plain": [
              "['$20', '$4.00', '$17', '$3', '$35', '$7.85', '$12', '$11.99']"
            ]
          },
          "metadata": {},
          "execution_count": 171
        }
      ]
    },
    {
      "cell_type": "markdown",
      "source": [
        "*   **Pregunta 7.**  \n",
        "\n",
        "Busca e imprime todas las palabras que sean variantes de la palabra \"love\", sin importar si incluyen mayúsculas o minúsculas, o la manera en que esté conjugada o alguna otra variación que se haga con dicha palabra.\n",
        "\n",
        "Indica cuántos resultados obtuviste."
      ],
      "metadata": {
        "id": "2j-HpvhwMhq2"
      }
    },
    {
      "cell_type": "code",
      "source": [
        "# -------------------------------\n",
        "# --   RESPUESTA Pregunta 7    --\n",
        "# -------------------------------\n",
        "\n",
        "docs_07 = copy.copy(docs)\n",
        "docs_07_str = ' '.join(docs_07)\n",
        "respuesta07 = re.findall(r'(lov\\w*|loV\\w*|lOv\\w*|lOV\\w*|Lov\\w*|LoV\\w*|LOv\\w*|LOV\\w*)', docs_07_str)\n",
        "#respuesta07_1 = re.findall(r'([lov]\\w*)', docs_07_str)\n",
        "\n",
        "print(\"\\nNúmero de resultados= \",len(respuesta07), \"\\n\")\n",
        "#print(\"\\nLongitud= \",len(respuesta07_1), \"\\n\")\n",
        "\n",
        "#print(\"Respuesta 07_1\")\n",
        "#respuesta07_1\n",
        "\n",
        "print(\"Respuesta 07\")\n",
        "respuesta07"
      ],
      "metadata": {
        "id": "kqqyRChVMjol",
        "colab": {
          "base_uri": "https://localhost:8080/"
        },
        "outputId": "c9e0743f-b21a-45bf-84e0-a398ff0a9a65"
      },
      "execution_count": 187,
      "outputs": [
        {
          "output_type": "stream",
          "name": "stdout",
          "text": [
            "\n",
            "Número de resultados=  37 \n",
            "\n",
            "Respuesta 07\n"
          ]
        },
        {
          "output_type": "execute_result",
          "data": {
            "text/plain": [
              "['Loved',\n",
              " 'loved',\n",
              " 'Loved',\n",
              " 'love',\n",
              " 'loves',\n",
              " 'LOVED',\n",
              " 'lovers',\n",
              " 'loving',\n",
              " 'love',\n",
              " 'lovers',\n",
              " 'Love',\n",
              " 'loved',\n",
              " 'loved',\n",
              " 'love',\n",
              " 'love',\n",
              " 'love',\n",
              " 'loved',\n",
              " 'love',\n",
              " 'loved',\n",
              " 'Love',\n",
              " 'LOVED',\n",
              " 'love',\n",
              " 'lovely',\n",
              " 'love',\n",
              " 'lovely',\n",
              " 'love',\n",
              " 'lover',\n",
              " 'loved',\n",
              " 'love',\n",
              " 'love',\n",
              " 'love',\n",
              " 'love',\n",
              " 'loves',\n",
              " 'love',\n",
              " 'love',\n",
              " 'love',\n",
              " 'love']"
            ]
          },
          "metadata": {},
          "execution_count": 187
        }
      ]
    },
    {
      "cell_type": "markdown",
      "source": [
        "*   **Pregunta 8.**  \n",
        "\n",
        "Busca e imprime todas las palabras, variantes de \"so\" y \"good\", que tengan dos o más \"o\" en \"so\" y 3 o más \"o\" en good. \n",
        "\n",
        "Indica cuántas encontraste.\n"
      ],
      "metadata": {
        "id": "Ctb-NTY3MkYG"
      }
    },
    {
      "cell_type": "code",
      "source": [
        "# -------------------------------\n",
        "# --   RESPUESTA Pregunta 8   --\n",
        "# -------------------------------\n",
        "\n",
        "docs_08 = copy.copy(docs)\n",
        "docs_08_str = ' '.join(docs_08)\n",
        "respuesta08 = re.findall(r'(goo[o+|O+]\\w*|goO[o+|O+]\\w*|gOo[o+|O+]\\w*|gOO[o+|O+]\\w*|Goo[o+|O+]\\w*|GoO[o+|O+]\\w*|GOo[o+|O+]\\w*|GOO[o+|O+]\\w*|so[o+|O+]\\w*|So[o+|O+]\\w*|sO[o+|O+]\\w*|SO[o+|O+]\\w*)', docs_07_str)\n",
        "print(\"\\nNúmero de resultados= \",len(respuesta08), \"\\n\")\n",
        "\n",
        "print(\"Respuesta 08\")\n",
        "respuesta08"
      ],
      "metadata": {
        "id": "A8Nf3B_cMlqg",
        "colab": {
          "base_uri": "https://localhost:8080/"
        },
        "outputId": "267b9ef5-1bf9-4a90-8e25-e244d2f68830"
      },
      "execution_count": 197,
      "outputs": [
        {
          "output_type": "stream",
          "name": "stdout",
          "text": [
            "\n",
            "Número de resultados=  14 \n",
            "\n",
            "Respuesta 08\n"
          ]
        },
        {
          "output_type": "execute_result",
          "data": {
            "text/plain": [
              "['Sooooo',\n",
              " 'soon',\n",
              " 'soooo',\n",
              " 'soon',\n",
              " 'soon',\n",
              " 'gooodd',\n",
              " 'soon',\n",
              " 'soon',\n",
              " 'soooooo',\n",
              " 'soon',\n",
              " 'soon',\n",
              " 'soooo',\n",
              " 'soon',\n",
              " 'soon']"
            ]
          },
          "metadata": {},
          "execution_count": 197
        }
      ]
    },
    {
      "cell_type": "markdown",
      "source": [
        "*   **Pregunta 9.**  \n",
        "\n",
        "Busca e imprime todas las palabras que tengan una longitud mayor estrictamente a 10 caracteres alfabéticos.\n",
        "\n",
        "No se consideran los signos de puntuación o caracteres especiales en la longitud de estas cadenas, solo caracteres alfabéticos en mayúsculas o minúsculas.\n",
        "\n",
        "Indica la cantidad de palabras encontradas.\n"
      ],
      "metadata": {
        "id": "hkak1opjMmlk"
      }
    },
    {
      "cell_type": "code",
      "source": [
        "# -------------------------------\n",
        "# --   RESPUESTA Pregunta 9   --\n",
        "# -------------------------------\n",
        "\n",
        "docs_09 = copy.copy(docs)\n",
        "docs_09_str = ' '.join(docs_09)\n",
        "respuesta09 = re.findall(r'\\w{11}', docs_09_str)\n",
        "print(\"\\nNúmero de resultados= \",len(respuesta09), \"\\n\")\n",
        "\n",
        "print(\"Respuesta 09\")\n",
        "respuesta09"
      ],
      "metadata": {
        "id": "PYxdp3uhMoD0",
        "colab": {
          "base_uri": "https://localhost:8080/"
        },
        "outputId": "251e994e-76c9-4212-aa7c-3ef9c71612b6"
      },
      "execution_count": 200,
      "outputs": [
        {
          "output_type": "stream",
          "name": "stdout",
          "text": [
            "\n",
            "Número de resultados=  141 \n",
            "\n",
            "Respuesta 09\n"
          ]
        },
        {
          "output_type": "execute_result",
          "data": {
            "text/plain": [
              "['recommendat',\n",
              " 'recommended',\n",
              " 'overwhelmed',\n",
              " 'inexpensive',\n",
              " 'establishme',\n",
              " 'imaginative',\n",
              " 'opportunity',\n",
              " 'experiencin',\n",
              " 'underwhelmi',\n",
              " 'relationshi',\n",
              " 'unsatisfyin',\n",
              " 'disappointi',\n",
              " 'outrageousl',\n",
              " 'disappointi',\n",
              " 'expectation',\n",
              " 'restaurants',\n",
              " 'suggestions',\n",
              " 'disappointe',\n",
              " 'considering',\n",
              " 'Unfortunate',\n",
              " 'immediately',\n",
              " 'ingredients',\n",
              " 'accommodati',\n",
              " 'maintaining',\n",
              " 'Interesting',\n",
              " 'disrespecte',\n",
              " 'accordingly',\n",
              " 'unbelievabl',\n",
              " 'cheeseburge',\n",
              " 'description',\n",
              " 'inexpensive',\n",
              " 'disappointe',\n",
              " 'Veggitarian',\n",
              " 'outstanding',\n",
              " 'recommendat',\n",
              " 'disappointe',\n",
              " 'disappointe',\n",
              " 'neighborhoo',\n",
              " 'disappointe',\n",
              " 'corporation',\n",
              " 'considering',\n",
              " 'exceptional',\n",
              " 'shawarrrrrr',\n",
              " 'disappointe',\n",
              " 'vinaigrette',\n",
              " 'immediately',\n",
              " 'unbelievabl',\n",
              " 'replenished',\n",
              " 'disappointe',\n",
              " 'enthusiasti',\n",
              " 'Outstanding',\n",
              " 'comfortable',\n",
              " 'interesting',\n",
              " 'INCONSIDERA',\n",
              " 'considering',\n",
              " 'transcendan',\n",
              " 'disappointm',\n",
              " 'disappointe',\n",
              " 'disappointe',\n",
              " 'overwhelmed',\n",
              " 'professiona',\n",
              " 'Furthermore',\n",
              " 'combination',\n",
              " 'connoisseur',\n",
              " 'profiterole',\n",
              " 'outstanding',\n",
              " 'acknowledge',\n",
              " 'ventilation',\n",
              " 'beautifully',\n",
              " 'establishme',\n",
              " 'extraordina',\n",
              " 'disappointe',\n",
              " 'cheesecurds',\n",
              " 'disappointe',\n",
              " 'interesting',\n",
              " 'experienced',\n",
              " 'opportunity',\n",
              " 'disgraceful',\n",
              " 'restaurants',\n",
              " 'ESTABLISHME',\n",
              " 'recommended',\n",
              " 'disappointe',\n",
              " 'recommended',\n",
              " 'acknowledge',\n",
              " 'presentatio',\n",
              " 'Philadelphi',\n",
              " 'disappointe',\n",
              " 'disappointi',\n",
              " 'grandmother',\n",
              " 'drastically',\n",
              " 'informative',\n",
              " 'Disappointe',\n",
              " 'constructed',\n",
              " 'comfortable',\n",
              " 'Smashburger',\n",
              " 'cheeseburge',\n",
              " 'neighborhoo',\n",
              " 'disappointe',\n",
              " 'hospitality',\n",
              " 'recommendin',\n",
              " 'disappointe',\n",
              " 'deliciously',\n",
              " 'compliments',\n",
              " 'recommendat',\n",
              " 'establishme',\n",
              " 'calligraphy',\n",
              " 'traditional',\n",
              " 'combination',\n",
              " 'Unfortunate',\n",
              " 'Wienerschni',\n",
              " 'unfortunate',\n",
              " 'considering',\n",
              " 'highlighted',\n",
              " 'Mediterrane',\n",
              " 'unprofessio',\n",
              " 'anticipated',\n",
              " 'disappointi',\n",
              " 'unexperienc',\n",
              " 'disrespecte',\n",
              " 'professiona',\n",
              " 'restaurants',\n",
              " 'Disappointi',\n",
              " 'WAAAAAAyyyy',\n",
              " 'reservation',\n",
              " 'imagination',\n",
              " 'undercooked',\n",
              " 'disappointe',\n",
              " 'disappointm',\n",
              " 'disappointm',\n",
              " 'deuchebagge',\n",
              " 'disappointe',\n",
              " 'disappointm',\n",
              " 'immediately',\n",
              " 'Unfortunate',\n",
              " 'disapppoint',\n",
              " 'circumstanc',\n",
              " 'undercooked',\n",
              " 'caterpillar',\n",
              " 'presentatio',\n",
              " 'disappointe',\n",
              " 'underwhelmi']"
            ]
          },
          "metadata": {},
          "execution_count": 200
        }
      ]
    },
    {
      "cell_type": "code",
      "source": [],
      "metadata": {
        "id": "BR7e2F4FMof-"
      },
      "execution_count": null,
      "outputs": []
    },
    {
      "cell_type": "markdown",
      "source": [
        "*   **Pregunta 10.**  \n",
        "\n",
        "Busca e imprime todas las palabras que inician con una letra mayúscula y terminan con una minúscula, pero que además no sea la primera palabra del comentario/string. \n",
        "\n",
        "Indica la cantidad de resultados obtenidos."
      ],
      "metadata": {
        "id": "ApjTNzSxMpDc"
      }
    },
    {
      "cell_type": "code",
      "source": [
        "# -------------------------------\n",
        "# --   RESPUESTA Pregunta NN   --\n",
        "# -------------------------------\n",
        "\n",
        "docs_NN = copy.copy(docs)\n",
        "docs_NN_str = ' '.join(docs_NN)\n",
        "respuestaNN = re.findall(r'(goo[o+|O+]\\w*|goO[o+|O+]\\w*|gOo[o+|O+]\\w*|gOO[o+|O+]\\w*|Goo[o+|O+]\\w*|GoO[o+|O+]\\w*|GOo[o+|O+]\\w*|GOO[o+|O+]\\w*|so[o+|O+]\\w*|So[o+|O+]\\w*|sO[o+|O+]\\w*|SO[o+|O+]\\w*)', docs_07_str)\n",
        "print(\"\\nNúmero de resultados= \",len(respuestaNN), \"\\n\")\n",
        "\n",
        "print(\"Respuesta NN\")\n",
        "respuestaNN"
      ],
      "metadata": {
        "id": "Vb0ndRGAMqdL"
      },
      "execution_count": null,
      "outputs": []
    },
    {
      "cell_type": "code",
      "source": [],
      "metadata": {
        "id": "dLPTRPnTMqqx"
      },
      "execution_count": null,
      "outputs": []
    },
    {
      "cell_type": "markdown",
      "source": [
        "*   **Pregunta 11.**  \n",
        "\n",
        "Busca e imprime la secuencia de dos o más palabras que están separadas por un guion, \"-\", sin que tengan espacios en blanco entre ellas.\n",
        "\n",
        "Por ejemplo \"Go-Kart\" sería válido, pero \"Go  -Kart\" o \"Go  -  Kart\" no lo serían. \n",
        "\n",
        "Indica la cantidad de resultados obtenidos."
      ],
      "metadata": {
        "id": "u7nfm4KhMrNW"
      }
    },
    {
      "cell_type": "code",
      "source": [
        "# -------------------------------\n",
        "# --   RESPUESTA Pregunta NN   --\n",
        "# -------------------------------\n",
        "\n",
        "docs_NN = copy.copy(docs)\n",
        "docs_NN_str = ' '.join(docs_NN)\n",
        "respuestaNN = re.findall(r'(goo[o+|O+]\\w*|goO[o+|O+]\\w*|gOo[o+|O+]\\w*|gOO[o+|O+]\\w*|Goo[o+|O+]\\w*|GoO[o+|O+]\\w*|GOo[o+|O+]\\w*|GOO[o+|O+]\\w*|so[o+|O+]\\w*|So[o+|O+]\\w*|sO[o+|O+]\\w*|SO[o+|O+]\\w*)', docs_07_str)\n",
        "print(\"\\nNúmero de resultados= \",len(respuestaNN), \"\\n\")\n",
        "\n",
        "print(\"Respuesta NN\")\n",
        "respuestaNN"
      ],
      "metadata": {
        "id": "OwU-a7eGMsub"
      },
      "execution_count": null,
      "outputs": []
    },
    {
      "cell_type": "code",
      "source": [],
      "metadata": {
        "id": "SgzIL74ZMtGw"
      },
      "execution_count": null,
      "outputs": []
    },
    {
      "cell_type": "markdown",
      "source": [
        "*   **Pregunta 12.**  \n",
        "\n",
        "Busca e imprime todas las palabras que terminan en \"ing\" o \"ed\". \n",
        "\n",
        "Indica la cantidad de palabras que encontraste de cada una."
      ],
      "metadata": {
        "id": "DEIgl79HMthr"
      }
    },
    {
      "cell_type": "code",
      "source": [
        "# -------------------------------\n",
        "# --   RESPUESTA Pregunta NN   --\n",
        "# -------------------------------\n",
        "\n",
        "docs_NN = copy.copy(docs)\n",
        "docs_NN_str = ' '.join(docs_NN)\n",
        "respuestaNN = re.findall(r'(goo[o+|O+]\\w*|goO[o+|O+]\\w*|gOo[o+|O+]\\w*|gOO[o+|O+]\\w*|Goo[o+|O+]\\w*|GoO[o+|O+]\\w*|GOo[o+|O+]\\w*|GOO[o+|O+]\\w*|so[o+|O+]\\w*|So[o+|O+]\\w*|sO[o+|O+]\\w*|SO[o+|O+]\\w*)', docs_07_str)\n",
        "print(\"\\nNúmero de resultados= \",len(respuestaNN), \"\\n\")\n",
        "\n",
        "print(\"Respuesta NN\")\n",
        "respuestaNN"
      ],
      "metadata": {
        "id": "I4TSofBMMv9y"
      },
      "execution_count": null,
      "outputs": []
    },
    {
      "cell_type": "code",
      "source": [],
      "metadata": {
        "id": "AhGq6De2Mvyh"
      },
      "execution_count": null,
      "outputs": []
    },
    {
      "cell_type": "markdown",
      "source": [
        "#**Parte 3. Proceso de limpieza.**"
      ],
      "metadata": {
        "id": "70StdqAZa9E9"
      }
    },
    {
      "cell_type": "markdown",
      "source": [
        "*   **Pregunta 13.**  \n",
        "\n",
        "Ahora realiza un proceso de limpieza del corpus que incluya los siguientes procesos:\n",
        "\n",
        "*   Solo se deben considerar caracteres alfabéticos. Es decir, se eliminan todos los signos de puntuación y caracteres especiales.\n",
        "*   Todos los caracteres alfabéticos se transforman a minúsculas.\n",
        "*   Se deben eliminar todos los espacios en blanco adicionales que se puedan encontrar en cada comentario.\n",
        "\n",
        "Al finalizar dicho proceso de limpieza, imprime el resultado de los primeros 10 comentarios resultantes. \n",
        "   \n",
        "\n",
        "\n"
      ],
      "metadata": {
        "id": "xaDUFXHrMvX2"
      }
    },
    {
      "cell_type": "code",
      "source": [],
      "metadata": {
        "id": "K3kQzPOPMx0w"
      },
      "execution_count": null,
      "outputs": []
    },
    {
      "cell_type": "code",
      "source": [],
      "metadata": {
        "id": "mYEDlHSFMyJN"
      },
      "execution_count": null,
      "outputs": []
    },
    {
      "cell_type": "markdown",
      "source": [
        "*   **Pregunta 14.**  \n",
        "\n",
        "Con el resultado de la limpieza obtenido en la pregunta anterior, realiza ahora un proceso de tokenización por palabras del corpus. \n",
        "\n",
        "Es decir, al final de este proceso de tokenización, debes tener como resultado una lista de listas, donde cada comentario estará tokenizado por palabras.\n",
        "\n",
        "Al terminar calcula el total de tokens obtenido en todo el corpus. "
      ],
      "metadata": {
        "id": "WZwEhg2lUSAX"
      }
    },
    {
      "cell_type": "code",
      "source": [],
      "metadata": {
        "id": "kbAL9-v0V-jx"
      },
      "execution_count": null,
      "outputs": []
    },
    {
      "cell_type": "code",
      "source": [],
      "metadata": {
        "id": "DZs_etmiV-fd"
      },
      "execution_count": null,
      "outputs": []
    },
    {
      "cell_type": "markdown",
      "source": [
        "*   **Pregunta 15.**  \n",
        "\n",
        "Finalmente, en este ejercicio definiremos nuestro conjunto de palabras \"stopwords\", las cuales deberás eliminar de todo el corpus. \n",
        "\n",
        "Recuerda que ejemplos de stopwords son artículos, adverbios, conectivos, etcétera, que tienen frecuencias de aparición muy altas en cualquier documento, pero que no brindan mucho significado en cuanto al significado de un enunciado.\n",
        "\n",
        "Con base a la lista de stopwords que se te proporciona, realiza un proceso de limpieza eliminando todas estas palabras del corpus obtenido en el ejercicio anterior.\n",
        "\n",
        "Obtener cuántos tokens/palabras quedan finalmente en todo el corpus.\n",
        "\n",
        "Obtener cuántos de estos tokens/palabras son diferentes, es decir, cuántos tokens únicos tendrá lo que llamaremos más adelante nuestro vocabulario."
      ],
      "metadata": {
        "id": "EFeu0OJ7WDPD"
      }
    },
    {
      "cell_type": "code",
      "source": [
        "# Considera la siguiente lista como tu conjunto de stopwords:\n",
        "mis_stopwords = ['i', 'me', 'my', 'myself', 'we', 'our', 'ours', 'ourselves', 'you', 'your', 'yours', 'he', 'him', 'his', 'himself', 'she', 'her', 'hers', 'herself', 'it', 'its', 'itself', 'they', 'them', 'their', 'theirs', 'themselves', 'what', 'which', 'who', 'whom', 'this', 'that', 'these', 'those', 'am', 'is', 'are', 'was', 'were', 'be', 'been', 'being', 'have', 'has', 'had', 'having', 'do', 'does', 'did', 'doing', 'a', 'an', 'the', 'and', 'but', 'if', 'or', 'because', 'as', 'until', 'while', 'of', 'at', 'by', 'for', 'with', 'about', 'against', 'between', 'into', 'through', 'during', 'before', 'after', 'above', 'below', 'to', 'from', 'up', 'down', 'in', 'out', 'on', 'over', 'under', 'again', 'further', 'then', 'once', 'here', 'there', 'when', 'where', 'why', 'how', 'all', 'any', 'both', 'each', 'few', 'more', 'most', 'other', 'some', 'such', 'only', 'own', 'same', 'so', 'than', 'too', 'very', 's', 't', 'can', 'will', 'just', 'should', 'now', 'll']"
      ],
      "metadata": {
        "id": "6FP4FF3KXGxm"
      },
      "execution_count": null,
      "outputs": []
    },
    {
      "cell_type": "code",
      "source": [],
      "metadata": {
        "id": "CD8yjyq1ZrwY"
      },
      "execution_count": null,
      "outputs": []
    },
    {
      "cell_type": "code",
      "source": [],
      "metadata": {
        "id": "4ZPi5prKZro5"
      },
      "execution_count": null,
      "outputs": []
    },
    {
      "cell_type": "markdown",
      "source": [
        "*   **Comentarios**\n",
        "\n",
        "Incluye finalmente tus comentarios de la actividad."
      ],
      "metadata": {
        "id": "NDbKkuxRbLoX"
      }
    },
    {
      "cell_type": "markdown",
      "source": [
        "<< incluye aquí tus comentarios >>"
      ],
      "metadata": {
        "id": "o7fzbvqVbUGr"
      }
    },
    {
      "cell_type": "markdown",
      "source": [
        "##**Fin de la Actividad de la semana 2.**"
      ],
      "metadata": {
        "id": "PHaKw_6Ldbaf"
      }
    }
  ]
}