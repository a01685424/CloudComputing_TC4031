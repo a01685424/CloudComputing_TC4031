{
  "nbformat": 4,
  "nbformat_minor": 0,
  "metadata": {
    "colab": {
      "provenance": [],
      "include_colab_link": true
    },
    "kernelspec": {
      "name": "python3",
      "display_name": "Python 3"
    },
    "language_info": {
      "name": "python"
    }
  },
  "cells": [
    {
      "cell_type": "markdown",
      "metadata": {
        "id": "view-in-github",
        "colab_type": "text"
      },
      "source": [
        "<a href=\"https://colab.research.google.com/github/a01685424/CloudComputing_TC4031/blob/main/Sem_02_MNA_NLP_semana_02_Actividad.ipynb\" target=\"_parent\"><img src=\"https://colab.research.google.com/assets/colab-badge.svg\" alt=\"Open In Colab\"/></a>"
      ]
    },
    {
      "cell_type": "markdown",
      "source": [
        "#**Maestría en Inteligencia Artificial Aplicada**\n",
        "##**Curso: Procesamiento de Lenguaje Natural (NLP)**\n",
        "###Tecnológico de Monterrey\n",
        "###Prof Luis Eduardo Falcón Morales\n",
        "\n",
        "## **Actividad de la Semana 02**\n",
        "###**Introducción al procesamiento de texto.**\n",
        "\n",
        "\n",
        "## **ALUMNO: Fernando Alfredo Rojas Estrella - A01685424**"
      ],
      "metadata": {
        "id": "759SG4TyfbUn"
      }
    },
    {
      "cell_type": "markdown",
      "source": [
        "En esta actividad deberás utilizar los datos del siguiente archivo que se encuentra en Canvas:\n",
        "\n",
        "MNA_NLP_semana_02_Actividad_datos.txt\n",
        "\n",
        "El archivo contiene comentarios en inglés sobre servicios de comida de la página de Yelp: https://www.yelp.com/ . \n",
        "\n",
        "Son mil comentarios y forman parte del conjunto de datos que se encuentra en el Machine Learning Repository de la UCI, llamado \"Sentiment Labelled Sentences\": https://archive.ics.uci.edu/ml/datasets/Sentiment+Labelled+Sentences#\n"
      ],
      "metadata": {
        "id": "6ue1YAKx3XDo"
      }
    },
    {
      "cell_type": "markdown",
      "source": [
        "#**Parte 1. Cargamos los datos.**   "
      ],
      "metadata": {
        "id": "Zj-h4drXD-X9"
      }
    },
    {
      "cell_type": "markdown",
      "source": [
        "Cargar los datos del archivo indicado y obtener una lista de longitud de 1000 strings/comentarios. \n",
        "\n",
        "Por el momento solamente requerimos las bibliotecas de Numpy y re, para el manejo de los arreglos y de las expresiones regulares en Python.\n",
        "\n",
        "En particular, no necesitarás en esta actividad la biblioteca de Pandas.\n",
        "\n",
        "###**NOTA: En esta actividad no debes importar nada más, con estas dos bibliotecas será *suficiente*.**"
      ],
      "metadata": {
        "id": "BY6yifxscfrx"
      }
    },
    {
      "cell_type": "code",
      "source": [
        "import numpy as np    # importamos Numpy para el manejo de los arreglos.\n",
        "import re             # importamos re para el manejo de las expresiones regulares."
      ],
      "metadata": {
        "id": "OJ26dAfhdFnf"
      },
      "execution_count": 4,
      "outputs": []
    },
    {
      "cell_type": "code",
      "source": [
        "# Ejecuta las siguientes instrucciones para cargar la información del achivo dado:\n",
        "\n",
        "with open('Sem 02 - MNA_NLP_semana_02_Actividad_datos.txt',        # puedes actualizar la ruta a tu archivo, en dado caso.\n",
        "          mode='r',     # abrimos el archivo en modo lectura.\n",
        "          ) as f:\n",
        "    docs = f.readlines()    # separamos cada comentario por líneas\n",
        "\n",
        "f.close()  # ya que tenemos la información en la variable docs, cerramos el archivo"
      ],
      "metadata": {
        "id": "QHUmJyjDdGNP"
      },
      "execution_count": 5,
      "outputs": []
    },
    {
      "cell_type": "code",
      "source": [
        "type(docs) == list   # Verifica que tu variable \"docs\" es una lista"
      ],
      "metadata": {
        "id": "L6WzrSrodG-Y",
        "colab": {
          "base_uri": "https://localhost:8080/"
        },
        "outputId": "d3fee399-05ad-4b31-8c3a-036d8b6b55e6"
      },
      "execution_count": 6,
      "outputs": [
        {
          "output_type": "execute_result",
          "data": {
            "text/plain": [
              "True"
            ]
          },
          "metadata": {},
          "execution_count": 6
        }
      ]
    },
    {
      "cell_type": "code",
      "source": [
        "len(docs)==1000  # verifica que la longitud de \"docs\" es de mil comentarios."
      ],
      "metadata": {
        "id": "QIK1u9WS2FtS",
        "colab": {
          "base_uri": "https://localhost:8080/"
        },
        "outputId": "6f78543a-b8ee-4ea4-d753-b32848cf7b6c"
      },
      "execution_count": 7,
      "outputs": [
        {
          "output_type": "execute_result",
          "data": {
            "text/plain": [
              "True"
            ]
          },
          "metadata": {},
          "execution_count": 7
        }
      ]
    },
    {
      "cell_type": "code",
      "source": [
        "docs[0:10]     # observa algunos de los primeros comentarios"
      ],
      "metadata": {
        "id": "9AMLIfQvJqNZ",
        "colab": {
          "base_uri": "https://localhost:8080/"
        },
        "outputId": "b87d2371-7dd8-4af9-dea7-541ae832d1c2"
      },
      "execution_count": 8,
      "outputs": [
        {
          "output_type": "execute_result",
          "data": {
            "text/plain": [
              "['Wow... Loved this place.\\n',\n",
              " 'Crust is not good.\\n',\n",
              " 'Not tasty and the texture was just nasty.\\n',\n",
              " 'Stopped by during the late May bank holiday off Rick Steve recommendation and loved it.\\n',\n",
              " 'The selection on the menu was great and so were the prices.\\n',\n",
              " 'Now I am getting angry and I want my damn pho.\\n',\n",
              " \"Honeslty it didn't taste THAT fresh.)\\n\",\n",
              " 'The potatoes were like rubber and you could tell they had been made up ahead of time being kept under a warmer.\\n',\n",
              " 'The fries were great too.\\n',\n",
              " 'A great touch.\\n']"
            ]
          },
          "metadata": {},
          "execution_count": 8
        }
      ]
    },
    {
      "cell_type": "markdown",
      "source": [
        "#**Parte 2: sección de preguntas (regex).**   \n"
      ],
      "metadata": {
        "id": "k_ewoagic5jc"
      }
    },
    {
      "cell_type": "markdown",
      "source": [
        "##**Instrucciones:**\n",
        "\n",
        "###**A continuación deberás contestar cada una de las preguntas que te piden usando expresiones regulares (regex).**\n",
        "\n",
        "###**Por el momento no hay restricción en cuanto al número de líneas de código que agregues, pero trata de incluir las mínimas posibles.**"
      ],
      "metadata": {
        "id": "X-eMJa3DFCIV"
      }
    },
    {
      "cell_type": "markdown",
      "source": [
        "*   **Pregunta 1.** \n",
        "\n",
        "Busca y elimina todos los saltos de línea '\\n' que se encuentran al final de cada comentario. \n",
        "\n",
        "Una vez finalizado, imprime los primeros 10 comentarios del resultado obtenido.\n"
      ],
      "metadata": {
        "id": "78nJMemzn5a5"
      }
    },
    {
      "cell_type": "code",
      "source": [
        "'''import copy\n",
        "docs_02 = copy.copy(docs)\n",
        "docs_02[0:5]\n",
        "\n",
        "type(docs_02)\n",
        "docs_02_str = ' '.join(docs_02)\n",
        "type(docs_02_str)\n",
        "docs_02_str[0:50]\n",
        "x01 = re.findall(r'\\n+', docs_02_str)\n",
        "x02 = re.findall(r\"(?:[\\n])*\", docs_02_str)\n",
        "x03 = re.split(r'[\\n]', docs_02_str)  # salto de línea.\n",
        "\n",
        "print(\"docs_02_str= \", docs_02_str[0:60])\n",
        "print(\"x01= \", x01[0:10])\n",
        "print(\"x02= \", x02[0:10])\n",
        "print(\"x03= \", x03[0:10])'''"
      ],
      "metadata": {
        "id": "PwbYYIuZn8pE",
        "colab": {
          "base_uri": "https://localhost:8080/",
          "height": 109
        },
        "outputId": "3f52833b-d0d8-46ab-9bf6-327b33a3a20a"
      },
      "execution_count": 9,
      "outputs": [
        {
          "output_type": "execute_result",
          "data": {
            "text/plain": [
              "'import copy\\ndocs_02 = copy.copy(docs)\\ndocs_02[0:5]\\n\\ntype(docs_02)\\ndocs_02_str = \\' \\'.join(docs_02)\\ntype(docs_02_str)\\ndocs_02_str[0:50]\\nx01 = re.findall(r\\'\\n+\\', docs_02_str)\\nx02 = re.findall(r\"(?:[\\n])*\", docs_02_str)\\nx03 = re.split(r\\'[\\n]\\', docs_02_str)  # salto de línea.\\n\\nprint(\"docs_02_str= \", docs_02_str[0:60])\\nprint(\"x01= \", x01[0:10])\\nprint(\"x02= \", x02[0:10])\\nprint(\"x03= \", x03[0:10])'"
            ],
            "application/vnd.google.colaboratory.intrinsic+json": {
              "type": "string"
            }
          },
          "metadata": {},
          "execution_count": 9
        }
      ]
    },
    {
      "cell_type": "code",
      "source": [
        "# -------------------------------\n",
        "# --   RESPUESTA Pregunta 1    --\n",
        "# -------------------------------\n",
        "\n",
        "import copy\n",
        "docs_03 = copy.copy(docs)\n",
        "docs_03_str = ' '.join(docs_03)\n",
        "respuesta01 = re.split(r'[\\n]', docs_03_str)  # Sin salto de línea.\n",
        "print(\"Respuesta 01\")\n",
        "respuesta01[0:10]"
      ],
      "metadata": {
        "colab": {
          "base_uri": "https://localhost:8080/"
        },
        "id": "chX6leKU57r3",
        "outputId": "c8c0c753-681d-47c3-d205-44f1609732a7"
      },
      "execution_count": 10,
      "outputs": [
        {
          "output_type": "stream",
          "name": "stdout",
          "text": [
            "Respuesta 01\n"
          ]
        },
        {
          "output_type": "execute_result",
          "data": {
            "text/plain": [
              "['Wow... Loved this place.',\n",
              " ' Crust is not good.',\n",
              " ' Not tasty and the texture was just nasty.',\n",
              " ' Stopped by during the late May bank holiday off Rick Steve recommendation and loved it.',\n",
              " ' The selection on the menu was great and so were the prices.',\n",
              " ' Now I am getting angry and I want my damn pho.',\n",
              " \" Honeslty it didn't taste THAT fresh.)\",\n",
              " ' The potatoes were like rubber and you could tell they had been made up ahead of time being kept under a warmer.',\n",
              " ' The fries were great too.',\n",
              " ' A great touch.']"
            ]
          },
          "metadata": {},
          "execution_count": 10
        }
      ]
    },
    {
      "cell_type": "markdown",
      "source": [
        "*   **Pregunta 2.**  \n",
        "\n",
        "Busca e imprime todas las palabras que terminan con dos o más signos de admiración seguidos, por ejemplo \"!!!\". \n",
        "\n",
        "Debes imprimir tanto la palabra como la totalidad de signos de admiración que le siguen. \n",
        "\n",
        "Indica cuántos resultados obtuviste.\n",
        "\n"
      ],
      "metadata": {
        "id": "VWeKQC93ctEo"
      }
    },
    {
      "cell_type": "code",
      "source": [
        "'''coincidencias = re.findall(r'!+', docs_03_str)\n",
        "print(\"Longitud= \",len(coincidencias))\n",
        "print(\"coincidencias= \",coincidencias)\n",
        "\n",
        "coincidencias02 = re.findall(r'\\w+!{2}', docs_03_str)\n",
        "print(\"Longitud= \",len(coincidencias02))\n",
        "print(\"coincidencias02= \",coincidencias02)\n",
        "\n",
        "coincidencias03 = re.findall(r'\\w+\\w!+!+', docs_03_str)\n",
        "print(\"Longitud= \",len(coincidencias03))\n",
        "print(\"coincidencias02= \",coincidencias03)'''"
      ],
      "metadata": {
        "id": "0p3kMXfddICc",
        "colab": {
          "base_uri": "https://localhost:8080/",
          "height": 109
        },
        "outputId": "2ae9233d-7db2-493c-a9e0-8f85611f0a93"
      },
      "execution_count": 11,
      "outputs": [
        {
          "output_type": "execute_result",
          "data": {
            "text/plain": [
              "'coincidencias = re.findall(r\\'!+\\', docs_03_str)\\nprint(\"Longitud= \",len(coincidencias))\\nprint(\"coincidencias= \",coincidencias)\\n\\ncoincidencias02 = re.findall(r\\'\\\\w+!{2}\\', docs_03_str)\\nprint(\"Longitud= \",len(coincidencias02))\\nprint(\"coincidencias02= \",coincidencias02)\\n\\ncoincidencias03 = re.findall(r\\'\\\\w+\\\\w!+!+\\', docs_03_str)\\nprint(\"Longitud= \",len(coincidencias03))\\nprint(\"coincidencias02= \",coincidencias03)'"
            ],
            "application/vnd.google.colaboratory.intrinsic+json": {
              "type": "string"
            }
          },
          "metadata": {},
          "execution_count": 11
        }
      ]
    },
    {
      "cell_type": "code",
      "source": [
        "# -------------------------------\n",
        "# --   RESPUESTA Pregunta 2    --\n",
        "# -------------------------------\n",
        "\n",
        "respuesta02 = re.findall(r'\\w+\\w!+!+', docs_03_str)\n",
        "print(\"Longitud= \",len(respuesta02))\n",
        "print(\"Respuesta 02\")\n",
        "respuesta02"
      ],
      "metadata": {
        "colab": {
          "base_uri": "https://localhost:8080/"
        },
        "id": "BmRuMDPxSZ9b",
        "outputId": "da16372f-f1a8-4ad4-cde7-f769159f8a8b"
      },
      "execution_count": 12,
      "outputs": [
        {
          "output_type": "stream",
          "name": "stdout",
          "text": [
            "Longitud=  26\n",
            "Respuesta 02\n"
          ]
        },
        {
          "output_type": "execute_result",
          "data": {
            "text/plain": [
              "['Firehouse!!!!!',\n",
              " 'APPETIZERS!!!',\n",
              " 'amazing!!!',\n",
              " 'buffet!!!',\n",
              " 'good!!',\n",
              " 'it!!!!',\n",
              " 'DELICIOUS!!',\n",
              " 'amazing!!',\n",
              " 'shawarrrrrrma!!!!!!',\n",
              " 'yucky!!!',\n",
              " 'steak!!!!!',\n",
              " 'delicious!!!',\n",
              " 'far!!',\n",
              " 'biscuits!!!',\n",
              " 'dry!!',\n",
              " 'disappointing!!!',\n",
              " 'awesome!!',\n",
              " 'Up!!',\n",
              " 'FLY!!!!!!!!',\n",
              " 'here!!!',\n",
              " 'great!!!!!!!!!!!!!!',\n",
              " 'packed!!',\n",
              " 'otherwise!!',\n",
              " 'amazing!!!!!!!!!!!!!!!!!!!',\n",
              " 'style!!',\n",
              " 'disappointed!!']"
            ]
          },
          "metadata": {},
          "execution_count": 12
        }
      ]
    },
    {
      "cell_type": "markdown",
      "source": [
        "*   **Pregunta 3.**  \n",
        "\n",
        "Busca e imprime todas las palabras que están escritas totalmente en mayúsculas. Cada coincidencia debe ser una sola palabra.\n",
        "\n",
        "Indica cuántas palabras encontraste.\n",
        "\n"
      ],
      "metadata": {
        "id": "-s3okBqL96TT"
      }
    },
    {
      "cell_type": "code",
      "source": [
        "# -------------------------------\n",
        "# --   RESPUESTA Pregunta 3    --\n",
        "# -------------------------------\n",
        "\n",
        "respuesta03 = re.findall(r'\\w[A-Z]+', docs_03_str)\n",
        "print(\"Longitud= \",len(respuesta03))\n",
        "print(\"Respuesta 03\")\n",
        "respuesta03"
      ],
      "metadata": {
        "id": "yKHJkZKo_nW5",
        "colab": {
          "base_uri": "https://localhost:8080/"
        },
        "outputId": "ec5c0811-2b2c-4500-b0f8-e922f8198dfe"
      },
      "execution_count": 13,
      "outputs": [
        {
          "output_type": "stream",
          "name": "stdout",
          "text": [
            "Longitud=  97\n",
            "Respuesta 03\n"
          ]
        },
        {
          "output_type": "execute_result",
          "data": {
            "text/plain": [
              "['THAT',\n",
              " 'APPETIZERS',\n",
              " 'WILL',\n",
              " 'NEVER',\n",
              " 'EVER',\n",
              " 'STEP',\n",
              " 'FORWARD',\n",
              " 'IN',\n",
              " 'IT',\n",
              " 'AGAIN',\n",
              " 'LOVED',\n",
              " 'AND',\n",
              " 'REAL',\n",
              " 'BITCHES',\n",
              " 'NYC',\n",
              " 'STALE',\n",
              " 'DELICIOUS',\n",
              " 'WORST',\n",
              " 'EXPERIENCE',\n",
              " 'EVER',\n",
              " 'ALL',\n",
              " 'BARGAIN',\n",
              " 'TV',\n",
              " 'NONE',\n",
              " 'FREEZING',\n",
              " 'AYCE',\n",
              " 'FLAVOR',\n",
              " 'NEVER',\n",
              " 'BBQ',\n",
              " 'UNREAL',\n",
              " 'OMG',\n",
              " 'BETTER',\n",
              " 'BLAND',\n",
              " 'RUDE',\n",
              " 'INCONSIDERATE',\n",
              " 'MANAGEMENT',\n",
              " 'WILL',\n",
              " 'NEVER',\n",
              " 'EVER',\n",
              " 'GO',\n",
              " 'BACK',\n",
              " 'AND',\n",
              " 'HAVE',\n",
              " 'TOLD',\n",
              " 'MANY',\n",
              " 'PEOPLE',\n",
              " 'WHAT',\n",
              " 'HAD',\n",
              " 'HAPPENED',\n",
              " 'TOTAL',\n",
              " 'WASTE',\n",
              " 'OF',\n",
              " 'TIME',\n",
              " 'FS',\n",
              " 'AZ',\n",
              " 'LOVED',\n",
              " 'CONCLUSION',\n",
              " 'BEST',\n",
              " 'GO',\n",
              " 'NOW',\n",
              " 'GC',\n",
              " 'AVOID',\n",
              " 'THIS',\n",
              " 'ESTABLISHMENT',\n",
              " 'AN',\n",
              " 'HOUR',\n",
              " 'NASTY',\n",
              " 'OMG',\n",
              " 'NO',\n",
              " 'BEST',\n",
              " 'THE',\n",
              " 'OWNERS',\n",
              " 'REALLY',\n",
              " 'REALLY',\n",
              " 'PERFECT',\n",
              " 'SCREAMS',\n",
              " 'LEGIT',\n",
              " 'MGM',\n",
              " 'BEST',\n",
              " 'FLY',\n",
              " 'FLY',\n",
              " 'FANTASTIC',\n",
              " 'GREAT',\n",
              " 'OK',\n",
              " 'WAY',\n",
              " 'MUST',\n",
              " 'HAVE',\n",
              " 'OK',\n",
              " 'OVERPRICED',\n",
              " 'BARE',\n",
              " 'HANDS',\n",
              " 'WEAK',\n",
              " 'SHOULD',\n",
              " 'RI',\n",
              " 'WAAAAAA',\n",
              " 'VERY',\n",
              " 'NOT']"
            ]
          },
          "metadata": {},
          "execution_count": 13
        }
      ]
    },
    {
      "cell_type": "markdown",
      "source": [
        "*   **Pregunta 4.**  \n",
        "\n",
        "Busca e imprime los comentarios en donde todos los caracteres alfabéticos (letras) están en mayúsculas. \n",
        "\n",
        "Cada coincidencia encontrada debe ser todo el comentario/enunciado.\n",
        "\n",
        "Indica cuántos resultados obtuviste.\n"
      ],
      "metadata": {
        "id": "GX8eYyDoMZma"
      }
    },
    {
      "cell_type": "code",
      "source": [
        "# -------------------------------\n",
        "# --   RESPUESTA Pregunta 4    --\n",
        "# -------------------------------\n",
        "\n",
        "docs_04 = copy.copy(docs)\n",
        "docs_04_str = ' '.join(docs_04)\n",
        "print(\"docs=\\n\", docs_04_str[0:120])\n",
        "respuesta04 = re.findall(r'(\\w[A-Z]+\\s*.*|\\w[A-Z]+.*\\s*)+', docs_04_str)\n",
        "print(\"\\nLongitud= \",len(respuesta04), \"\\n\")\n",
        "print(\"Respuesta 04\")\n",
        "respuesta04"
      ],
      "metadata": {
        "id": "K8VuZxvTMYj6",
        "colab": {
          "base_uri": "https://localhost:8080/"
        },
        "outputId": "4993536e-8344-4f00-e5d4-738d23d97d52"
      },
      "execution_count": 24,
      "outputs": [
        {
          "output_type": "stream",
          "name": "stdout",
          "text": [
            "docs=\n",
            " Wow... Loved this place.\n",
            " Crust is not good.\n",
            " Not tasty and the texture was just nasty.\n",
            " Stopped by during the late May \n",
            "\n",
            "Longitud=  60 \n",
            "\n",
            "Respuesta 04\n"
          ]
        },
        {
          "output_type": "execute_result",
          "data": {
            "text/plain": [
              "['THAT fresh.)',\n",
              " 'APPETIZERS!!!',\n",
              " 'WILL NEVER EVER STEP FORWARD IN IT AGAIN!\"',\n",
              " 'LOVED their mussels cooked in this wine reduction, the duck was tender, and their potato dishes were delicious.\"',\n",
              " 'AND we got a great deal!\"',\n",
              " 'REAL sushi lovers, let\\'s be honest - Yama is not that good.\"',\n",
              " 'BITCHES!\"',\n",
              " 'NYC bagels, good selections of cream cheese, real Lox with capers even.\"',\n",
              " 'STALE.\"',\n",
              " 'DELICIOUS!!',\n",
              " 'WORST EXPERIENCE EVER.',\n",
              " 'ALL needed salt and pepper..and of course there is none at the tables.\"',\n",
              " 'BARGAIN!',\n",
              " \"TV's.\",\n",
              " 'NONE of the rolls had sauces on them.\"',\n",
              " 'FREEZING cold.\"',\n",
              " 'AYCE sushi place I went to in Vegas.',\n",
              " 'FLAVOR!',\n",
              " 'NEVER see another dime from me!',\n",
              " 'BBQ, lighter fare, reasonable pricing and tell the public they are back to the old ways.\"',\n",
              " 'UNREAL!',\n",
              " 'OMG, the food was delicioso!\"',\n",
              " 'BETTER.\"',\n",
              " 'BLAND.',\n",
              " 'RUDE & INCONSIDERATE MANAGEMENT.',\n",
              " 'WILL NEVER EVER GO BACK AND HAVE TOLD MANY PEOPLE WHAT HAD HAPPENED.',\n",
              " 'TOTAL WASTE OF TIME.',\n",
              " 'FS restaurant has a wonderful breakfast/lunch.\"',\n",
              " 'AZ all the time and now have my new spot.',\n",
              " 'LOVED it!',\n",
              " 'CONCLUSION: Very filling meals.',\n",
              " 'BEST cheesecurds we have ever had!',\n",
              " 'GO NOW!',\n",
              " 'GC.',\n",
              " 'AVOID THIS ESTABLISHMENT!',\n",
              " 'AN HOUR... seriously?',\n",
              " 'NASTY!',\n",
              " 'OMG I felt like I had never eaten Thai food until this dish.',\n",
              " 'NO flavor.',\n",
              " 'BEST breakfast.',\n",
              " 'THE OWNERS REALLY REALLY need to quit being soooooo cheap let them wrap my freaking sandwich in two papers not one!',\n",
              " 'PERFECT for a sit-down family meal or get together with a few friends.',\n",
              " 'SCREAMS \"\"LEGIT\"\" in my book...somethat\\'s also pretty rare here in Vegas.\"',\n",
              " 'MGM!\"',\n",
              " 'BEST brick oven pizza with homemade dough!',\n",
              " 'FLY was in my apple juice.. A FLY!!!!!!!!',\n",
              " 'FANTASTIC!',\n",
              " 'GREAT place to eat!',\n",
              " 'OK, the beef is like shoe leather.\"',\n",
              " 'WAY too sugary for my taste.',\n",
              " 'MUST HAVE!',\n",
              " 'OK or even needed a water refill once they finally served us our food.',\n",
              " 'OVERPRICED!\"',\n",
              " 'BARE HANDS, no gloves.Everything is deep fried in oil.\"',\n",
              " 'WEAK, people!\"',\n",
              " 'SHOULD have been a hilarious, yummy Christmas Eve dinner to remember was the biggest fail of the entire trip for us.\"',\n",
              " 'RI style calamari was a joke.',\n",
              " 'WAAAAAAyyyyyyyyyy over rated is all I am saying.',\n",
              " 'VERY disappointed!!',\n",
              " 'NOT hard to make a decent hamburger.']"
            ]
          },
          "metadata": {},
          "execution_count": 24
        }
      ]
    },
    {
      "cell_type": "code",
      "source": [],
      "metadata": {
        "id": "PmKgX7sCMcDx"
      },
      "execution_count": 14,
      "outputs": []
    },
    {
      "cell_type": "markdown",
      "source": [
        "*   **Pregunta 5.**  \n",
        "\n",
        "Busca e imprime todas las palabras que tengan una vocal acentuada, del tipo á, é, í, ó, ú. \n",
        "\n",
        "Indica cuántos resultados obtuviste."
      ],
      "metadata": {
        "id": "a1i6qv7-McmU"
      }
    },
    {
      "cell_type": "code",
      "source": [
        "# -------------------------------\n",
        "# --   RESPUESTA Pregunta 5    --\n",
        "# -------------------------------\n",
        "\n",
        "docs_05 = copy.copy(docs)\n",
        "docs_05_str = ' '.join(docs_05)\n",
        "respuesta05 = re.findall(r'\\w*[áéíóú]', docs_05_str)\n",
        "print(\"\\nLongitud= \",len(respuesta05), \"\\n\")\n",
        "print(\"Respuesta 05\")\n",
        "respuesta05"
      ],
      "metadata": {
        "id": "nZZ5zKUOMeGD",
        "colab": {
          "base_uri": "https://localhost:8080/"
        },
        "outputId": "80a7942a-5c42-42a0-cd8f-04f8535fe5db"
      },
      "execution_count": 15,
      "outputs": [
        {
          "output_type": "stream",
          "name": "stdout",
          "text": [
            "\n",
            "Longitud=  3 \n",
            "\n",
            "Respuesta 05\n"
          ]
        },
        {
          "output_type": "execute_result",
          "data": {
            "text/plain": [
              "['fiancé', 'Café', 'puré']"
            ]
          },
          "metadata": {},
          "execution_count": 15
        }
      ]
    },
    {
      "cell_type": "markdown",
      "source": [
        "*   **Pregunta 6.**  \n",
        "\n",
        "Busca e imprime todas las cantidades numéricas monetarias, enteras o con decimales, que inician con el símbolo $\\$$. \n",
        "\n",
        "Indica cuántos resultados obtuviste."
      ],
      "metadata": {
        "id": "ZmPiAI82Mfb3"
      }
    },
    {
      "cell_type": "code",
      "source": [
        "# -------------------------------\n",
        "# --   RESPUESTA Pregunta 6    --\n",
        "# -------------------------------\n",
        "\n",
        "docs_06 = copy.copy(docs)\n",
        "docs_06_str = ' '.join(docs_06)\n",
        "respuesta06 = re.findall(r'\\$.*\\d+', docs_06_str)\n",
        "print(\"\\nLongitud= \",len(respuesta06), \"\\n\")\n",
        "print(\"Respuesta 06\")\n",
        "respuesta06"
      ],
      "metadata": {
        "id": "6vhe9-Y-MhL9",
        "colab": {
          "base_uri": "https://localhost:8080/"
        },
        "outputId": "0263e01b-94e3-4136-fbc4-32c76213d848"
      },
      "execution_count": 16,
      "outputs": [
        {
          "output_type": "stream",
          "name": "stdout",
          "text": [
            "\n",
            "Longitud=  8 \n",
            "\n",
            "Respuesta 06\n"
          ]
        },
        {
          "output_type": "execute_result",
          "data": {
            "text/plain": [
              "['$20', '$4.00', '$17', '$3', '$35', '$7.85', '$12', '$11.99']"
            ]
          },
          "metadata": {},
          "execution_count": 16
        }
      ]
    },
    {
      "cell_type": "markdown",
      "source": [
        "*   **Pregunta 7.**  \n",
        "\n",
        "Busca e imprime todas las palabras que sean variantes de la palabra \"love\", sin importar si incluyen mayúsculas o minúsculas, o la manera en que esté conjugada o alguna otra variación que se haga con dicha palabra.\n",
        "\n",
        "Indica cuántos resultados obtuviste."
      ],
      "metadata": {
        "id": "2j-HpvhwMhq2"
      }
    },
    {
      "cell_type": "code",
      "source": [
        "# -------------------------------\n",
        "# --   RESPUESTA Pregunta 7    --\n",
        "# -------------------------------\n",
        "\n",
        "docs_07 = copy.copy(docs)\n",
        "docs_07_str = ' '.join(docs_07)\n",
        "respuesta07 = re.findall(r'(lov\\w*|loV\\w*|lOv\\w*|lOV\\w*|Lov\\w*|LoV\\w*|LOv\\w*|LOV\\w*)', docs_07_str)\n",
        "#respuesta07_1 = re.findall(r'([lov]\\w*)', docs_07_str)\n",
        "\n",
        "print(\"\\nNúmero de resultados= \",len(respuesta07), \"\\n\")\n",
        "#print(\"\\nLongitud= \",len(respuesta07_1), \"\\n\")\n",
        "\n",
        "#print(\"Respuesta 07_1\")\n",
        "#respuesta07_1\n",
        "\n",
        "print(\"Respuesta 07\")\n",
        "respuesta07"
      ],
      "metadata": {
        "id": "kqqyRChVMjol",
        "colab": {
          "base_uri": "https://localhost:8080/"
        },
        "outputId": "c808542c-1281-486d-e330-95859f272f20"
      },
      "execution_count": 17,
      "outputs": [
        {
          "output_type": "stream",
          "name": "stdout",
          "text": [
            "\n",
            "Número de resultados=  37 \n",
            "\n",
            "Respuesta 07\n"
          ]
        },
        {
          "output_type": "execute_result",
          "data": {
            "text/plain": [
              "['Loved',\n",
              " 'loved',\n",
              " 'Loved',\n",
              " 'love',\n",
              " 'loves',\n",
              " 'LOVED',\n",
              " 'lovers',\n",
              " 'loving',\n",
              " 'love',\n",
              " 'lovers',\n",
              " 'Love',\n",
              " 'loved',\n",
              " 'loved',\n",
              " 'love',\n",
              " 'love',\n",
              " 'love',\n",
              " 'loved',\n",
              " 'love',\n",
              " 'loved',\n",
              " 'Love',\n",
              " 'LOVED',\n",
              " 'love',\n",
              " 'lovely',\n",
              " 'love',\n",
              " 'lovely',\n",
              " 'love',\n",
              " 'lover',\n",
              " 'loved',\n",
              " 'love',\n",
              " 'love',\n",
              " 'love',\n",
              " 'love',\n",
              " 'loves',\n",
              " 'love',\n",
              " 'love',\n",
              " 'love',\n",
              " 'love']"
            ]
          },
          "metadata": {},
          "execution_count": 17
        }
      ]
    },
    {
      "cell_type": "markdown",
      "source": [
        "*   **Pregunta 8.**  \n",
        "\n",
        "Busca e imprime todas las palabras, variantes de \"so\" y \"good\", que tengan dos o más \"o\" en \"so\" y 3 o más \"o\" en good. \n",
        "\n",
        "Indica cuántas encontraste.\n"
      ],
      "metadata": {
        "id": "Ctb-NTY3MkYG"
      }
    },
    {
      "cell_type": "code",
      "source": [
        "# -------------------------------\n",
        "# --   RESPUESTA Pregunta 8   --\n",
        "# -------------------------------\n",
        "\n",
        "docs_08 = copy.copy(docs)\n",
        "docs_08_str = ' '.join(docs_08)\n",
        "respuesta08 = re.findall(r'(goo[o+|O+]\\w*|goO[o+|O+]\\w*|gOo[o+|O+]\\w*|gOO[o+|O+]\\w*|Goo[o+|O+]\\w*|GoO[o+|O+]\\w*|GOo[o+|O+]\\w*|GOO[o+|O+]\\w*|so[o+|O+]\\w*|So[o+|O+]\\w*|sO[o+|O+]\\w*|SO[o+|O+]\\w*)', docs_07_str)\n",
        "print(\"\\nNúmero de resultados= \",len(respuesta08), \"\\n\")\n",
        "\n",
        "print(\"Respuesta 08\")\n",
        "respuesta08"
      ],
      "metadata": {
        "id": "A8Nf3B_cMlqg",
        "colab": {
          "base_uri": "https://localhost:8080/"
        },
        "outputId": "19169586-c91e-42dc-d84a-553facf6ae27"
      },
      "execution_count": 18,
      "outputs": [
        {
          "output_type": "stream",
          "name": "stdout",
          "text": [
            "\n",
            "Número de resultados=  14 \n",
            "\n",
            "Respuesta 08\n"
          ]
        },
        {
          "output_type": "execute_result",
          "data": {
            "text/plain": [
              "['Sooooo',\n",
              " 'soon',\n",
              " 'soooo',\n",
              " 'soon',\n",
              " 'soon',\n",
              " 'gooodd',\n",
              " 'soon',\n",
              " 'soon',\n",
              " 'soooooo',\n",
              " 'soon',\n",
              " 'soon',\n",
              " 'soooo',\n",
              " 'soon',\n",
              " 'soon']"
            ]
          },
          "metadata": {},
          "execution_count": 18
        }
      ]
    },
    {
      "cell_type": "markdown",
      "source": [
        "*   **Pregunta 9.**  \n",
        "\n",
        "Busca e imprime todas las palabras que tengan una longitud mayor estrictamente a 10 caracteres alfabéticos.\n",
        "\n",
        "No se consideran los signos de puntuación o caracteres especiales en la longitud de estas cadenas, solo caracteres alfabéticos en mayúsculas o minúsculas.\n",
        "\n",
        "Indica la cantidad de palabras encontradas.\n"
      ],
      "metadata": {
        "id": "hkak1opjMmlk"
      }
    },
    {
      "cell_type": "code",
      "source": [
        "# -------------------------------\n",
        "# --   RESPUESTA Pregunta 9   --\n",
        "# -------------------------------\n",
        "\n",
        "docs_09 = copy.copy(docs)\n",
        "docs_09_str = ' '.join(docs_09)\n",
        "respuesta09 = re.findall(r'\\w{11}', docs_09_str)\n",
        "print(\"\\nNúmero de resultados= \",len(respuesta09), \"\\n\")\n",
        "\n",
        "print(\"Respuesta 09\")\n",
        "respuesta09"
      ],
      "metadata": {
        "id": "PYxdp3uhMoD0",
        "colab": {
          "base_uri": "https://localhost:8080/"
        },
        "outputId": "8207a101-5653-4265-fc3f-f1cf1d24b123"
      },
      "execution_count": 19,
      "outputs": [
        {
          "output_type": "stream",
          "name": "stdout",
          "text": [
            "\n",
            "Número de resultados=  141 \n",
            "\n",
            "Respuesta 09\n"
          ]
        },
        {
          "output_type": "execute_result",
          "data": {
            "text/plain": [
              "['recommendat',\n",
              " 'recommended',\n",
              " 'overwhelmed',\n",
              " 'inexpensive',\n",
              " 'establishme',\n",
              " 'imaginative',\n",
              " 'opportunity',\n",
              " 'experiencin',\n",
              " 'underwhelmi',\n",
              " 'relationshi',\n",
              " 'unsatisfyin',\n",
              " 'disappointi',\n",
              " 'outrageousl',\n",
              " 'disappointi',\n",
              " 'expectation',\n",
              " 'restaurants',\n",
              " 'suggestions',\n",
              " 'disappointe',\n",
              " 'considering',\n",
              " 'Unfortunate',\n",
              " 'immediately',\n",
              " 'ingredients',\n",
              " 'accommodati',\n",
              " 'maintaining',\n",
              " 'Interesting',\n",
              " 'disrespecte',\n",
              " 'accordingly',\n",
              " 'unbelievabl',\n",
              " 'cheeseburge',\n",
              " 'description',\n",
              " 'inexpensive',\n",
              " 'disappointe',\n",
              " 'Veggitarian',\n",
              " 'outstanding',\n",
              " 'recommendat',\n",
              " 'disappointe',\n",
              " 'disappointe',\n",
              " 'neighborhoo',\n",
              " 'disappointe',\n",
              " 'corporation',\n",
              " 'considering',\n",
              " 'exceptional',\n",
              " 'shawarrrrrr',\n",
              " 'disappointe',\n",
              " 'vinaigrette',\n",
              " 'immediately',\n",
              " 'unbelievabl',\n",
              " 'replenished',\n",
              " 'disappointe',\n",
              " 'enthusiasti',\n",
              " 'Outstanding',\n",
              " 'comfortable',\n",
              " 'interesting',\n",
              " 'INCONSIDERA',\n",
              " 'considering',\n",
              " 'transcendan',\n",
              " 'disappointm',\n",
              " 'disappointe',\n",
              " 'disappointe',\n",
              " 'overwhelmed',\n",
              " 'professiona',\n",
              " 'Furthermore',\n",
              " 'combination',\n",
              " 'connoisseur',\n",
              " 'profiterole',\n",
              " 'outstanding',\n",
              " 'acknowledge',\n",
              " 'ventilation',\n",
              " 'beautifully',\n",
              " 'establishme',\n",
              " 'extraordina',\n",
              " 'disappointe',\n",
              " 'cheesecurds',\n",
              " 'disappointe',\n",
              " 'interesting',\n",
              " 'experienced',\n",
              " 'opportunity',\n",
              " 'disgraceful',\n",
              " 'restaurants',\n",
              " 'ESTABLISHME',\n",
              " 'recommended',\n",
              " 'disappointe',\n",
              " 'recommended',\n",
              " 'acknowledge',\n",
              " 'presentatio',\n",
              " 'Philadelphi',\n",
              " 'disappointe',\n",
              " 'disappointi',\n",
              " 'grandmother',\n",
              " 'drastically',\n",
              " 'informative',\n",
              " 'Disappointe',\n",
              " 'constructed',\n",
              " 'comfortable',\n",
              " 'Smashburger',\n",
              " 'cheeseburge',\n",
              " 'neighborhoo',\n",
              " 'disappointe',\n",
              " 'hospitality',\n",
              " 'recommendin',\n",
              " 'disappointe',\n",
              " 'deliciously',\n",
              " 'compliments',\n",
              " 'recommendat',\n",
              " 'establishme',\n",
              " 'calligraphy',\n",
              " 'traditional',\n",
              " 'combination',\n",
              " 'Unfortunate',\n",
              " 'Wienerschni',\n",
              " 'unfortunate',\n",
              " 'considering',\n",
              " 'highlighted',\n",
              " 'Mediterrane',\n",
              " 'unprofessio',\n",
              " 'anticipated',\n",
              " 'disappointi',\n",
              " 'unexperienc',\n",
              " 'disrespecte',\n",
              " 'professiona',\n",
              " 'restaurants',\n",
              " 'Disappointi',\n",
              " 'WAAAAAAyyyy',\n",
              " 'reservation',\n",
              " 'imagination',\n",
              " 'undercooked',\n",
              " 'disappointe',\n",
              " 'disappointm',\n",
              " 'disappointm',\n",
              " 'deuchebagge',\n",
              " 'disappointe',\n",
              " 'disappointm',\n",
              " 'immediately',\n",
              " 'Unfortunate',\n",
              " 'disapppoint',\n",
              " 'circumstanc',\n",
              " 'undercooked',\n",
              " 'caterpillar',\n",
              " 'presentatio',\n",
              " 'disappointe',\n",
              " 'underwhelmi']"
            ]
          },
          "metadata": {},
          "execution_count": 19
        }
      ]
    },
    {
      "cell_type": "code",
      "source": [],
      "metadata": {
        "id": "BR7e2F4FMof-"
      },
      "execution_count": 19,
      "outputs": []
    },
    {
      "cell_type": "markdown",
      "source": [
        "*   **Pregunta 10.**  \n",
        "\n",
        "Busca e imprime todas las palabras que inician con una letra mayúscula y terminan con una minúscula, pero que además no sea la primera palabra del comentario/string. \n",
        "\n",
        "Indica la cantidad de resultados obtenidos."
      ],
      "metadata": {
        "id": "ApjTNzSxMpDc"
      }
    },
    {
      "cell_type": "code",
      "source": [
        "# -------------------------------\n",
        "# --   RESPUESTA Pregunta 10   --\n",
        "# -------------------------------\n",
        "\n",
        "docs_10 = copy.copy(docs)\n",
        "docs_10_str = ' '.join(docs_10)\n",
        "respuesta_10 = re.findall(r'(\\w[A-Z]+\\s*.*|\\w[A-Z]+.*\\s*)+', docs_10_str)\n",
        "print(\"\\nNúmero de resultados= \",len(respuesta_10), \"\\n\")\n",
        "\n",
        "print(\"Respuesta 10\")\n",
        "respuesta_10"
      ],
      "metadata": {
        "id": "Vb0ndRGAMqdL",
        "colab": {
          "base_uri": "https://localhost:8080/"
        },
        "outputId": "745c7e47-5307-438d-d4a1-f69cef1acc93"
      },
      "execution_count": 20,
      "outputs": [
        {
          "output_type": "stream",
          "name": "stdout",
          "text": [
            "\n",
            "Número de resultados=  60 \n",
            "\n",
            "Respuesta 10\n"
          ]
        },
        {
          "output_type": "execute_result",
          "data": {
            "text/plain": [
              "['THAT fresh.)',\n",
              " 'APPETIZERS!!!',\n",
              " 'WILL NEVER EVER STEP FORWARD IN IT AGAIN!\"',\n",
              " 'LOVED their mussels cooked in this wine reduction, the duck was tender, and their potato dishes were delicious.\"',\n",
              " 'AND we got a great deal!\"',\n",
              " 'REAL sushi lovers, let\\'s be honest - Yama is not that good.\"',\n",
              " 'BITCHES!\"',\n",
              " 'NYC bagels, good selections of cream cheese, real Lox with capers even.\"',\n",
              " 'STALE.\"',\n",
              " 'DELICIOUS!!',\n",
              " 'WORST EXPERIENCE EVER.',\n",
              " 'ALL needed salt and pepper..and of course there is none at the tables.\"',\n",
              " 'BARGAIN!',\n",
              " \"TV's.\",\n",
              " 'NONE of the rolls had sauces on them.\"',\n",
              " 'FREEZING cold.\"',\n",
              " 'AYCE sushi place I went to in Vegas.',\n",
              " 'FLAVOR!',\n",
              " 'NEVER see another dime from me!',\n",
              " 'BBQ, lighter fare, reasonable pricing and tell the public they are back to the old ways.\"',\n",
              " 'UNREAL!',\n",
              " 'OMG, the food was delicioso!\"',\n",
              " 'BETTER.\"',\n",
              " 'BLAND.',\n",
              " 'RUDE & INCONSIDERATE MANAGEMENT.',\n",
              " 'WILL NEVER EVER GO BACK AND HAVE TOLD MANY PEOPLE WHAT HAD HAPPENED.',\n",
              " 'TOTAL WASTE OF TIME.',\n",
              " 'FS restaurant has a wonderful breakfast/lunch.\"',\n",
              " 'AZ all the time and now have my new spot.',\n",
              " 'LOVED it!',\n",
              " 'CONCLUSION: Very filling meals.',\n",
              " 'BEST cheesecurds we have ever had!',\n",
              " 'GO NOW!',\n",
              " 'GC.',\n",
              " 'AVOID THIS ESTABLISHMENT!',\n",
              " 'AN HOUR... seriously?',\n",
              " 'NASTY!',\n",
              " 'OMG I felt like I had never eaten Thai food until this dish.',\n",
              " 'NO flavor.',\n",
              " 'BEST breakfast.',\n",
              " 'THE OWNERS REALLY REALLY need to quit being soooooo cheap let them wrap my freaking sandwich in two papers not one!',\n",
              " 'PERFECT for a sit-down family meal or get together with a few friends.',\n",
              " 'SCREAMS \"\"LEGIT\"\" in my book...somethat\\'s also pretty rare here in Vegas.\"',\n",
              " 'MGM!\"',\n",
              " 'BEST brick oven pizza with homemade dough!',\n",
              " 'FLY was in my apple juice.. A FLY!!!!!!!!',\n",
              " 'FANTASTIC!',\n",
              " 'GREAT place to eat!',\n",
              " 'OK, the beef is like shoe leather.\"',\n",
              " 'WAY too sugary for my taste.',\n",
              " 'MUST HAVE!',\n",
              " 'OK or even needed a water refill once they finally served us our food.',\n",
              " 'OVERPRICED!\"',\n",
              " 'BARE HANDS, no gloves.Everything is deep fried in oil.\"',\n",
              " 'WEAK, people!\"',\n",
              " 'SHOULD have been a hilarious, yummy Christmas Eve dinner to remember was the biggest fail of the entire trip for us.\"',\n",
              " 'RI style calamari was a joke.',\n",
              " 'WAAAAAAyyyyyyyyyy over rated is all I am saying.',\n",
              " 'VERY disappointed!!',\n",
              " 'NOT hard to make a decent hamburger.']"
            ]
          },
          "metadata": {},
          "execution_count": 20
        }
      ]
    },
    {
      "cell_type": "code",
      "source": [],
      "metadata": {
        "id": "dLPTRPnTMqqx"
      },
      "execution_count": 20,
      "outputs": []
    },
    {
      "cell_type": "markdown",
      "source": [
        "*   **Pregunta 11.**  \n",
        "\n",
        "Busca e imprime la secuencia de dos o más palabras que están separadas por un guion, \"-\", sin que tengan espacios en blanco entre ellas.\n",
        "\n",
        "Por ejemplo \"Go-Kart\" sería válido, pero \"Go  -Kart\" o \"Go  -  Kart\" no lo serían. \n",
        "\n",
        "Indica la cantidad de resultados obtenidos."
      ],
      "metadata": {
        "id": "u7nfm4KhMrNW"
      }
    },
    {
      "cell_type": "code",
      "source": [
        "# -------------------------------\n",
        "# --   RESPUESTA Pregunta 11   --\n",
        "# -------------------------------\n",
        "\n",
        "docs_11 = copy.copy(docs)\n",
        "docs_11_str = ' '.join(docs_11)\n",
        "respuesta_11 = re.findall(r'\\w+[^\\s]-\\w+', docs_11_str)\n",
        "print(\"\\nNúmero de resultados= \",len(respuesta_11), \"\\n\")\n",
        "\n",
        "print(\"Respuesta 11\")\n",
        "respuesta_11"
      ],
      "metadata": {
        "id": "OwU-a7eGMsub",
        "colab": {
          "base_uri": "https://localhost:8080/"
        },
        "outputId": "8eb314dc-5d06-45fe-ae14-d14cd658bd9a"
      },
      "execution_count": 21,
      "outputs": [
        {
          "output_type": "stream",
          "name": "stdout",
          "text": [
            "\n",
            "Número de resultados=  21 \n",
            "\n",
            "Respuesta 11\n"
          ]
        },
        {
          "output_type": "execute_result",
          "data": {
            "text/plain": [
              "['flat-lined',\n",
              " 'hands-down',\n",
              " 'must-stop',\n",
              " 'sub-par',\n",
              " 'Service-check',\n",
              " 'in-house',\n",
              " 'been-stepped',\n",
              " 'in-and',\n",
              " 'tracked-everywhere',\n",
              " 'multi-grain',\n",
              " 'to-go',\n",
              " 'non-customer',\n",
              " 'High-quality',\n",
              " 'sit-down',\n",
              " 'over-whelm',\n",
              " 'low-key',\n",
              " 'non-fancy',\n",
              " 'golden-crispy',\n",
              " 'over-priced',\n",
              " 'over-hip',\n",
              " 'under-services']"
            ]
          },
          "metadata": {},
          "execution_count": 21
        }
      ]
    },
    {
      "cell_type": "markdown",
      "source": [
        "*   **Pregunta 12.**  \n",
        "\n",
        "Busca e imprime todas las palabras que terminan en \"ing\" o \"ed\". \n",
        "\n",
        "Indica la cantidad de palabras que encontraste de cada una."
      ],
      "metadata": {
        "id": "DEIgl79HMthr"
      }
    },
    {
      "cell_type": "code",
      "source": [
        "# -------------------------------\n",
        "# --   RESPUESTA Pregunta 12   --\n",
        "# -------------------------------\n",
        "\n",
        "docs_12 = copy.copy(docs)\n",
        "docs_12_str = ' '.join(docs_12)\n",
        "respuesta_12 = re.findall(r'.\\Z', docs_12_str)\n",
        "print(\"\\nNúmero de resultados= \",len(respuesta_12), \"\\n\")\n",
        "\n",
        "print(\"Respuesta 12\")\n",
        "respuesta_12"
      ],
      "metadata": {
        "id": "I4TSofBMMv9y",
        "colab": {
          "base_uri": "https://localhost:8080/"
        },
        "outputId": "cf4d7b3d-41cf-400b-814a-eb13206a08c0"
      },
      "execution_count": 32,
      "outputs": [
        {
          "output_type": "stream",
          "name": "stdout",
          "text": [
            "\n",
            "Número de resultados=  1 \n",
            "\n",
            "Respuesta 12\n"
          ]
        },
        {
          "output_type": "execute_result",
          "data": {
            "text/plain": [
              "['\"']"
            ]
          },
          "metadata": {},
          "execution_count": 32
        }
      ]
    },
    {
      "cell_type": "code",
      "source": [],
      "metadata": {
        "id": "AhGq6De2Mvyh"
      },
      "execution_count": 22,
      "outputs": []
    },
    {
      "cell_type": "markdown",
      "source": [
        "#**Parte 3. Proceso de limpieza.**"
      ],
      "metadata": {
        "id": "70StdqAZa9E9"
      }
    },
    {
      "cell_type": "markdown",
      "source": [
        "*   **Pregunta 13.**  \n",
        "\n",
        "Ahora realiza un proceso de limpieza del corpus que incluya los siguientes procesos:\n",
        "\n",
        "*   Solo se deben considerar caracteres alfabéticos. Es decir, se eliminan todos los signos de puntuación y caracteres especiales.\n",
        "*   Todos los caracteres alfabéticos se transforman a minúsculas.\n",
        "*   Se deben eliminar todos los espacios en blanco adicionales que se puedan encontrar en cada comentario.\n",
        "\n",
        "Al finalizar dicho proceso de limpieza, imprime el resultado de los primeros 10 comentarios resultantes. \n",
        "   \n",
        "\n",
        "\n"
      ],
      "metadata": {
        "id": "xaDUFXHrMvX2"
      }
    },
    {
      "cell_type": "code",
      "source": [
        "# -------------------------------\n",
        "# --   RESPUESTA Pregunta 13   --\n",
        "# -------------------------------\n",
        "\n",
        "#Limpieza eliminar caracteres especiales\n",
        "docs_13 = copy.copy(docs)\n",
        "docs_13_str = ' '.join(docs_13)\n",
        "respuesta_13 = re.findall(r'\\w[a-zA-Z]+', docs_13_str)\n",
        "print(\"\\nNúmero de resultados= \",len(respuesta_13), \"\\n\")\n",
        "\n",
        "print(\"Respuesta 13\")\n",
        "respuesta_13[0:10]"
      ],
      "metadata": {
        "id": "K3kQzPOPMx0w",
        "colab": {
          "base_uri": "https://localhost:8080/"
        },
        "outputId": "b8cbcb51-6cb0-4b62-c835-933780a0a116"
      },
      "execution_count": 33,
      "outputs": [
        {
          "output_type": "stream",
          "name": "stdout",
          "text": [
            "\n",
            "Número de resultados=  10278 \n",
            "\n",
            "Respuesta 13\n"
          ]
        },
        {
          "output_type": "execute_result",
          "data": {
            "text/plain": [
              "['Wow', 'Loved', 'this', 'place', 'Crust', 'is', 'not', 'good', 'Not', 'tasty']"
            ]
          },
          "metadata": {},
          "execution_count": 33
        }
      ]
    },
    {
      "cell_type": "code",
      "source": [
        "#Pasandola a minúsculas\n",
        "docs_13_str_lower = docs_13_str.lower()\n",
        "docs_13_str_lower"
      ],
      "metadata": {
        "id": "mYEDlHSFMyJN",
        "colab": {
          "base_uri": "https://localhost:8080/",
          "height": 218
        },
        "outputId": "3cf4f340-3fa7-4947-ccbe-5f70f09fcff8"
      },
      "execution_count": 36,
      "outputs": [
        {
          "output_type": "execute_result",
          "data": {
            "text/plain": [
              "'wow... loved this place.\\n crust is not good.\\n not tasty and the texture was just nasty.\\n stopped by during the late may bank holiday off rick steve recommendation and loved it.\\n the selection on the menu was great and so were the prices.\\n now i am getting angry and i want my damn pho.\\n honeslty it didn\\'t taste that fresh.)\\n the potatoes were like rubber and you could tell they had been made up ahead of time being kept under a warmer.\\n the fries were great too.\\n a great touch.\\n service was very prompt.\\n would not go back.\\n the cashier had no care what so ever on what i had to say it still ended up being wayyy overpriced.\\n \"i tried the cape cod ravoli, chicken,with cranberry...mmmm!\"\\n i was disgusted because i was pretty sure that was human hair.\\n i was shocked because no signs indicate cash only.\\n highly recommended.\\n waitress was a little slow in service.\\n \"this place is not worth your time, let alone vegas.\"\\n did not like at all.\\n the burrittos blah!\\n \"the food, amazing.\"\\n service is also cute.\\n i could care less... the interior is just beautiful.\\n so they performed.\\n that\\'s right....the red velvet cake.....ohhh this stuff is so good.\\n - they never brought a salad we asked for.\\n \"this hole in the wall has great mexican street tacos, and friendly staff.\"\\n \"took an hour to get our food only 4 tables in restaurant my food was luke warm, our sever was running around like he was totally overwhelmed.\"\\n the worst was the salmon sashimi.\\n \"also there are combos like a burger, fries, and beer for 23 which is a decent deal.\"\\n this was like the final blow!\\n i found this place by accident and i could not be happier.\\n \"seems like a good quick place to grab a bite of some familiar pub food, but do yourself a favor and look elsewhere.\"\\n \"overall, i like this place a lot.\"\\n the only redeeming quality of the restaurant was that it was very inexpensive.\\n ample portions and good prices.\\n \"poor service, the waiter made me feel like i was stupid every time he came to the table.\"\\n my first visit to hiro was a delight!\\n service sucks.\\n the shrimp tender and moist.\\n there is not a deal good enough that would drag me into that establishment again.\\n hard to judge whether these sides were good because we were grossed out by the melted styrofoam and didn\\'t want to eat it for fear of getting sick.\\n \"on a positive note, our server was very attentive and provided great service.\"\\n \"frozen pucks of disgust, with some of the worst people behind the register.\"\\n the only thing i did like was the prime rib and dessert section.\\n it\\'s too bad the food is so damn generic.\\n \"the burger is good beef, cooked just right.\"\\n if you want a sandwich just go to any firehouse!!!!!\\n \"my side greek salad with the greek dressing was so tasty, and the pita and hummus was very refreshing.\"\\n we ordered the duck rare and it was pink and tender on the inside with a nice char on the outside.\\n he came running after us when he realized my husband had left his sunglasses on the table.\\n their chow mein is so good!\\n \"they have horrible attitudes towards customers, and talk down to each one when customers don\\'t enjoy their food.\"\\n the portion was huge!\\n \"loved it...friendly servers, great food, wonderful and imaginative menu.\"\\n the heart attack grill in downtown vegas is an absolutely flat-lined excuse for a restaurant.\\n not much seafood and like 5 strings of pasta at the bottom.\\n \"the salad had just the right amount of sauce to not over power the scallop, which was perfectly cooked.\"\\n \"the ripped banana was not only ripped, but petrified and tasteless.\"\\n at least think to refill my water before i struggle to wave you over for 10 minutes.\\n this place receives stars for their appetizers!!!\\n the cocktails are all handmade and delicious.\\n we\\'d definitely go back here again.\\n we are so glad we found this place.\\n \"great food and service, huge portions and they give a military discount.\"\\n always a great time at dos gringos!\\n update.....went back for a second time and it was still just as amazing\\n we got the food and apparently they have never heard of salt and the batter on the fish was chewy.\\n a great way to finish a great.\\n \"the deal included 5 tastings and 2 drinks, and jeff went above and beyond what we expected.\"\\n \"- really, really good rice, all the time.\"\\n the service was meh.\\n \"it took over 30 min to get their milkshake, which was nothing more than chocolate milk.\"\\n \"i guess i should have known that this place would suck, because it is inside of the excalibur, but i didn\\'t use my common sense.\"\\n the scallop dish is quite appalling for value as well.\\n 2 times - very bad customer service !\\n the sweet potato fries were very good and seasoned well.\\n today is the second time i\\'ve been to their lunch buffet and it was pretty good.\\n there is so much good food in vegas that i feel cheated for wasting an eating opportunity by going to rice and company.\\n coming here is like experiencing an underwhelming relationship where both parties can\\'t wait for the other person to ask to break up.\\n walked in and the place smelled like an old grease trap and only 2 others there eating.\\n the turkey and roast beef were bland.\\n this place has it!\\n the pan cakes everyone are raving about taste like a sugary disaster tailored to the palate of a six year old.\\n i love the pho and the spring rolls oh so yummy you have to try.\\n the poor batter to meat ratio made the chicken tenders very unsatisfying.\\n all i have to say is the food was amazing!!!\\n omelets are to die for!\\n everything was fresh and delicious!\\n \"in summary, this was a largely disappointing dining experience.\"\\n \"it\\'s like a really sexy party in your mouth, where you\\'re outrageously flirting with the hottest person at the party.\"\\n \"never been to hard rock casino before, will never ever step forward in it again!\"\\n best breakfast buffet!!!\\n say bye bye to your tip lady!\\n we\\'ll never go again.\\n will be back again!\\n food arrived quickly!\\n it was not good.\\n \"on the up side, their cafe serves really good food.\"\\n \"our server was fantastic and when he found out the wife loves roasted garlic and bone marrow, he added extra to our meal and another marrow to go!\"\\n \"the only good thing was our waiter, he was very helpful and kept the bloddy mary\\'s coming.\"\\n \"best buffet in town, for the price you cannot beat it.\"\\n \"i loved their mussels cooked in this wine reduction, the duck was tender, and their potato dishes were delicious.\"\\n this is one of the better buffets that i have been to.\\n so we went to tigerlilly and had a fantastic afternoon!\\n \"the food was delicious, our bartender was attentive and personable and we got a great deal!\"\\n the ambience is wonderful and there is music playing.\\n will go back next trip out.\\n sooooo good!!\\n \"real sushi lovers, let\\'s be honest - yama is not that good.\"\\n \"at least 40min passed in between us ordering and the food arriving, and it wasn\\'t that busy.\"\\n this is a really fantastic thai restaurant which is definitely worth a visit.\\n \"nice, spicy and tender.\"\\n good prices.\\n check it out.\\n it was pretty gross!\\n i\\'ve had better atmosphere.\\n kind of hard to mess up a steak but they did.\\n \"although i very much liked the look and sound of this place, the actual experience was a bit disappointing.\"\\n i just don\\'t know how this place managed to served the blandest food i have ever eaten when they are preparing indian cuisine.\\n \"worst service to boot, but that is the least of their worries.\"\\n service was fine and the waitress was friendly.\\n \"the guys all had steaks, and our steak loving son who has had steak at the best and worst places said it was the best steak he\\'s ever eaten.\"\\n \"we thought you\\'d have to venture further away to get good sushi, but this place really hit the spot that night.\"\\n \"host staff were, for lack of a better word, bitches!\"\\n bland... not a liking this place for a number of reasons and i don\\'t want to waste time on bad reviewing.. i\\'ll leave it at that...\\n \"phenomenal food, service and ambiance.\"\\n i wouldn\\'t return.\\n \"definitely worth venturing off the strip for the pork belly, will return next time i\\'m in vegas.\"\\n this place is way too overpriced for mediocre food.\\n penne vodka excellent!\\n \"they have a good selection of food including a massive meatloaf sandwich, a crispy chicken wrap, a delish tuna melt and some tasty burgers.\"\\n the management is rude.\\n \"delicious nyc bagels, good selections of cream cheese, real lox with capers even.\"\\n \"great subway, in fact it\\'s so good when you come here every other subway will not meet your expectations.\"\\n i had a seriously solid breakfast here.\\n this is one of the best bars with food in vegas.\\n \"he was extremely rude and really, there are so many other restaurants i would love to dine at during a weekend in vegas.\"\\n my drink was never empty and he made some really great menu suggestions.\\n don\\'t do it!!!!\\n the waiter wasn\\'t helpful or friendly and rarely checked on us.\\n my husband and i ate lunch here and were very disappointed with the food and service.\\n and the red curry had so much bamboo shoots and wasn\\'t very tasty to me.\\n nice blanket of moz over top but i feel like this was done to cover up the subpar food.\\n the bathrooms are clean and the place itself is well decorated.\\n \"the menu is always changing, food quality is going down & service is extremely slow.\"\\n \"the service was a little slow , considering that were served by 3 people servers so the food was coming in a slow pace.\"\\n i give it 2 thumbs down\\n we watched our waiter pay a lot more attention to other tables and ignore us.\\n my fiancé and i came in the middle of the day and we were greeted and seated right away.\\n this is a great restaurant at the mandalay bay.\\n we waited for forty five minutes in vain.\\n crostini that came with the salad was stale.\\n some highlights : great quality nigiri here!\\n the staff is friendly and the joint is always clean.\\n this was a different cut than the piece the other day but still wonderful and tender s well as well flavored.\\n i ordered the voodoo pasta and it was the first time i\\'d had really excellent pasta since going gluten free several years ago.\\n this place is good.\\n \"unfortunately, we must have hit the bakery on leftover day because everything we ordered was stale.\"\\n i came back today since they relocated and still not impressed.\\n i was seated immediately.\\n \"their menu is diverse, and reasonably priced.\"\\n avoid at all cost!\\n restaurant is always full but never a wait.\\n delicious!!\\n this place is hands-down one of the best places to eat in the phoenix metro area.\\n so don\\'t go there if you are looking for good food...\\n i\\'ve never been treated so bad.\\n bacon is hella salty.\\n we also ordered the spinach and avocado salad; the ingredients were sad and the dressing literally had zero taste.\\n \"this really is how vegas fine dining used to be, right down to the menus handed to the ladies that have no prices listed.\"\\n the waitresses are very friendly.\\n \"lordy, the khao soi is a dish that is not to be missed for curry lovers!\"\\n everything on the menu is terrific and we were also thrilled that they made amazing accommodations for our vegetarian daughter.\\n \"perhaps i caught them on an off night judging by the other reviews, but i\\'m not inspired to go back.\"\\n the service here leaves a lot to be desired.\\n \"the atmosphere is modern and hip, while maintaining a touch of coziness.\"\\n \"not a weekly haunt, but definitely a place to come back to every once in a while.\"\\n we literally sat there for 20 minutes with no one asking to take our order.\\n \"the burger had absolutely no flavor - the meat itself was totally bland, the burger was overcooked and there was no charcoal flavor.\"\\n i also decided not to send it back because our waitress looked like she was on the verge of having a heart attack.\\n i dressed up to be treated so rudely!\\n it was probably dirt.\\n \"love this place, hits the spot when i want something healthy but not lacking in quantity or flavor.\"\\n i ordered the lemon raspberry ice cocktail which was also incredible.\\n \"the food sucked, which we expected but it sucked more than we could have imagined.\"\\n interesting decor.\\n what i really like there is the crepe station.\\n \"also were served hot bread and butter, and home made potato chips with bacon bits on top....very original and very good.\"\\n you can watch them preparing the delicious food!)\\n both of the egg rolls were fantastic.\\n \"when my order arrived, one of the gyros was missing.\"\\n \"i had a salad with the wings, and some ice cream for dessert and left feeling quite satisfied.\"\\n i\\'m not really sure how joey\\'s was voted best hot dog in the valley by readers of phoenix magazine.\\n the best place to go for a tasty bowl of pho!\\n the live music on fridays totally blows.\\n i\\'ve never been more insulted or felt disrespected.\\n very friendly staff.\\n it is worth the drive.\\n \"i had heard good things about this place, but it exceeding every hope i could have dreamed of.\"\\n food was great and so was the serivce!\\n the warm beer didn\\'t help.\\n great brunch spot.\\n service is friendly and inviting.\\n very good lunch spot.\\n i\\'ve lived here since 1979 and this was the first (and last) time i\\'ve stepped foot into this place.\\n the worst experience ever.\\n must have been an off night at this place.\\n \"the sides are delish - mixed mushrooms, yukon gold puree, white corn - beateous.\"\\n \"if that bug never showed up i would have given a 4 for sure, but on the other side of the wall where this bug was climbing was the kitchen.\"\\n \"for about 10 minutes, we we\\'re waiting for her salad when we realized that it wasn\\'t coming any time soon.\"\\n my friend loved the salmon tartar.\\n won\\'t go back.\\n extremely tasty!\\n waitress was good though!\\n soggy and not good.\\n the jamaican mojitos are delicious.\\n which are small and not worth the price.\\n - the food is rich so order accordingly.\\n \"the shower area is outside so you can only rinse, not take a full shower, unless you don\\'t mind being nude for everyone to see!\"\\n the service was a bit lacking.\\n \"lobster bisque, bussell sprouts, risotto, filet all needed salt and pepper..and of course there is none at the tables.\"\\n hopefully this bodes for them going out of business and someone who can cook can come in.\\n \"it was either too cold, not enough flavor or just bad.\"\\n i loved the bacon wrapped dates.\\n this is an unbelievable bargain!\\n the folks at otto always make us feel so welcome and special.\\n \"as for the \"\"mains,\"\" also uninspired.\"\\n this is the place where i first had pho and it was amazing!!\\n this wonderful experience made this place a must-stop whenever we are in town again.\\n \"if the food isn\\'t bad enough for you, then enjoy dealing with the world\\'s worst/annoying drunk people.\"\\n very very fun chef.\\n \"ordered a double cheeseburger & got a single patty that was falling apart (picture uploaded) yeah, still sucks.\"\\n great place to have a couple drinks and watch any and all sporting events as the walls are covered with tv\\'s.\\n \"if it were possible to give them zero stars, they\\'d have it.\"\\n \"the descriptions said \"\"yum yum sauce\"\" and another said \"\"eel sauce\"\", yet another said \"\"spicy mayo\"\"...well none of the rolls had sauces on them.\"\\n \"i\\'d say that would be the hardest decision... honestly, all of m\\'s dishes taste how they are supposed to taste (amazing).\"\\n if she had not rolled the eyes we may have stayed... not sure if we will go back and try it again.\\n \"everyone is very attentive, providing excellent customer service.\"\\n horrible - don\\'t waste your time and money.\\n now this dish was quite flavourful.\\n by this time our side of the restaurant was almost empty so there was no excuse.\\n \"(it wasn\\'t busy either) also, the building was freezing cold.\"\\n \"like the other reviewer said \"\"you couldn\\'t pay me to eat at this place again.\"\"\"\\n -drinks took close to 30 minutes to come out at one point.\\n \"seriously flavorful delights, folks.\"\\n much better than the other ayce sushi place i went to in vegas.\\n the lighting is just dark enough to set the mood.\\n based on the sub-par service i received and no effort to show their gratitude for my business i won\\'t be going back.\\n owner\\'s are really great people.!\\n there is nothing privileged about working/eating there.\\n the greek dressing was very creamy and flavorful.\\n \"overall, i don\\'t think that i would take my parents to this place again because they made most of the similar complaints that i silently felt too.\"\\n now the pizza itself was good the peanut sauce was very tasty.\\n we had 7 at our table and the service was pretty fast.\\n fantastic service here.\\n i as well would\\'ve given godfathers zero stars if possible.\\n they know how to make them here.\\n very tough and very short on flavor!\\n i hope this place sticks around.\\n \"i have been in more than a few bars in vegas, and do not ever recall being charged for tap water.\"\\n the restaurant atmosphere was exquisite.\\n \"good service, very clean, and inexpensive, to boot!\"\\n the seafood was fresh and generous in portion.\\n \"plus, it\\'s only 8 bucks.\"\\n \"the service was not up to par, either.\"\\n \"thus far, have only visited twice and the food was absolutely delicious each time.\"\\n just as good as when i had it more than a year ago!\\n \"for a self proclaimed coffee cafe, i was wildly disappointed.\"\\n the veggitarian platter is out of this world!\\n you cant go wrong with any of the food here.\\n you can\\'t beat that.\\n \"stopped by this place while in madison for the ironman, very friendly, kind staff.\"\\n the chefs were friendly and did a good job.\\n \"i\\'ve had better, not only from dedicated boba tea spots, but even from jenni pho.\"\\n i liked the patio and the service was outstanding.\\n the goat taco didn\\'t skimp on the meat and wow what flavor!\\n i think not again\\n i had the mac salad and it was pretty bland so i will not be getting that again.\\n i went to bachi burger on a friend\\'s recommendation and was not disappointed.\\n service stinks here!\\n i waited and waited.\\n \"this place is not quality sushi, it is not a quality restaurant.\"\\n i would definitely recommend the wings as well as the pizza.\\n great pizza and salads!\\n things that went wrong: - they burned the saganaki.\\n we waited an hour for what was a breakfast i could have done 100 times better at home.\\n this place is amazing!\\n \"i hate to disagree with my fellow yelpers, but my husband and i were so disappointed with this place.\"\\n waited 2 hours & never got either of our pizzas as many other around us who came in later did!\\n just don\\'t know why they were so slow.\\n \"the staff is great, the food is delish, and they have an incredible beer selection.\"\\n \"i live in the neighborhood so i am disappointed i won\\'t be back here, because it is a convenient location.\"\\n i didn\\'t know pulled pork could be soooo delicious.\\n \"you get incredibly fresh fish, prepared with care.\"\\n before i go in to why i gave a 1 star rating please know that this was my third time eating at bachi burger before writing a review.\\n i love the fact that everything on their menu is worth it.\\n never again will i be dining at this place!\\n the food was excellent and service was very good.\\n good beer & drink selection and good food selection.\\n please stay away from the shrimp stir fried noodles.\\n the potato chip order was sad... i could probably count how many chips were in that box and it was probably around 12.\\n food was really boring.\\n good service-check!\\n this greedy corporation will never see another dime from me!\\n \"will never, ever go back.\"\\n \"as much as i\\'d like to go back, i can\\'t get passed the atrocious service and will never return.\"\\n \"in the summer, you can dine in a charming outdoor patio - so very delightful.\"\\n i did not expect this to be so good!\\n fantastic food!\\n she ordered a toasted english muffin that came out untoasted.\\n the food was very good.\\n never going back.\\n \"great food for the price, which is very high quality and house made.\"\\n the bus boy on the other hand was so rude.\\n \"by this point, my friends and i had basically figured out this place was a joke and didn\\'t mind making it publicly and loudly known.\"\\n \"back to good bbq, lighter fare, reasonable pricing and tell the public they are back to the old ways.\"\\n \"and considering the two of us left there very full and happy for about $20, you just can\\'t go wrong.\"\\n all the bread is made in-house!\\n the only downside is the service.\\n \"also, the fries are without a doubt the worst fries i\\'ve ever had.\"\\n service was exceptional and food was a good as all the reviews.\\n \"a couple of months later, i returned and had an amazing meal.\"\\n favorite place in town for shawarrrrrrma!!!!!!\\n the black eyed peas and sweet potatoes... unreal!\\n you won\\'t be disappointed.\\n \"they could serve it with just the vinaigrette and it may make for a better overall dish, but it was still very good.\"\\n \"i go to far too many places and i\\'ve never seen any restaurant that serves a 1 egg breakfast, especially for $4.00.\"\\n when my mom and i got home she immediately got sick and she only had a few bites of salad.\\n the servers are not pleasant to deal with and they don\\'t always honor pizza hut coupons.\\n \"both of them were truly unbelievably good, and i am so glad we went back.\"\\n \"we had fantastic service, and were pleased by the atmosphere.\"\\n everything was gross.\\n i love this place.\\n great service and food.\\n first - the bathrooms at this location were dirty- seat covers were not replenished & just plain yucky!!!\\n \"the burger... i got the \"\"gold standard\"\" a $17 burger and was kind of disappointed.\"\\n \"omg, the food was delicioso!\"\\n there is nothing authentic about this place.\\n the spaghetti is nothing special whatsoever.\\n \"of all the dishes, the salmon was the best, but all were great.\"\\n the vegetables are so fresh and the sauce feels like authentic thai.\\n it\\'s worth driving up from tucson!\\n the selection was probably the worst i\\'ve seen in vegas.....there was none.\\n pretty good beer selection too.\\n \"this place is like chipotle, but better.\"\\n \"classy/warm atmosphere, fun and fresh appetizers, succulent steaks (baseball steak!!!!!\"\\n 5 stars for the brick oven bread app!\\n \"i have eaten here multiple times, and each time the food was delicious.\"\\n we sat another ten minutes and finally gave up and left.\\n he was terrible!\\n everyone is treated equally special.\\n it shouldn\\'t take 30 min for pancakes and eggs.\\n it was delicious!!!\\n \"on the good side, the staff was genuinely pleasant and enthusiastic - a real treat.\"\\n \"sadly, gordon ramsey\\'s steak is a place we shall sharply avoid during our next trip to vegas.\"\\n as always the evening was wonderful and the food delicious!\\n best fish i\\'ve ever had in my life!\\n (the bathroom is just next door and very nice.)\\n the buffet is small and all the food they offered was bland.\\n this is an outstanding little restaurant with some of the best food i have ever tasted.\\n pretty cool i would say.\\n definitely a turn off for me & i doubt i\\'ll be back unless someone else is buying.\\n server did a great job handling our large rowdy table.\\n \"i find wasting food to be despicable, but this just wasn\\'t food.\"\\n my wife had the lobster bisque soup which was lukewarm.\\n would come back again if i had a sushi craving while in vegas.\\n \"the staff are great, the ambiance is great.\"\\n he deserves 5 stars.\\n i left with a stomach ache and felt sick the rest of the day.\\n they dropped more than the ball.\\n \"the dining space is tiny, but elegantly decorated and comfortable.\"\\n \"they will customize your order any way you\\'d like, my usual is eggplant with green bean stir fry, love it!\"\\n and the beans and rice were mediocre at best.\\n best tacos in town by far!!\\n i took back my money and got outta there.\\n \"in an interesting part of town, this place is amazing.\"\\n rude & inconsiderate management.\\n \"the staff are now not as friendly, the wait times for being served are horrible, no one even says hi for the first 10 minutes.\"\\n i won\\'t be back.\\n they have great dinners.\\n the service was outshining & i definitely recommend the halibut.\\n the food was terrible.\\n will never ever go back and have told many people what had happened.\\n i don\\'t recommend unless your car breaks down in front of it and you are starving.\\n i will come back here every time i\\'m in vegas.\\n this place deserves one star and 90% has to do with the food.\\n this is a disgrace.\\n def coming back to bowl next time\\n \"if you want healthy authentic or ethic food, try this place.\"\\n i will continue to come here on ladies night andddd date night ... highly recommend this place to anyone who is in the area (;\\n \"i have been here several times in the past, and the experience has always been great.\"\\n we walked away stuffed and happy about our first vegas buffet experience.\\n service was excellent and prices are pretty reasonable considering this is vegas and located inside the crystals shopping mall by aria.\\n \"to summarize... the food was incredible, nay, transcendant... but nothing brings me joy quite like the memory of the pneumatic condiment dispenser.\"\\n i\\'m probably one of the few people to ever go to ians and not like it.\\n kids pizza is always a hit too with lots of great side dish options for the kiddos!\\n service is perfect and the family atmosphere is nice to see.\\n cooked to perfection and the service was impeccable.\\n this one is simply a disappointment.\\n \"overall, i was very disappointed with the quality of food at bouchon.\"\\n i don\\'t have to be an accountant to know i\\'m getting screwed!\\n \"great place to eat, reminds me of the little mom and pop shops in the san francisco bay area.\"\\n today was my first taste of a buldogis gourmet hot dog and i have to tell you it was more than i ever thought possible.\\n left very frustrated.\\n i\\'ll definitely be in soon again.\\n food was really good and i got full petty fast.\\n service was fantastic.\\n total waste of time.\\n i don\\'t know what kind it is but they have the best iced tea.\\n \"come hungry, leave happy and stuffed!\"\\n \"for service, i give them no stars.\"\\n i can assure you that you won\\'t be disappointed.\\n i can take a little bad service but the food sucks.\\n gave up trying to eat any of the crust (teeth still sore).\\n but now i was completely grossed out.\\n i really enjoyed eating here.\\n first time going but i think i will quickly become a regular.\\n \"our server was very nice, and even though he looked a little overwhelmed with all of our needs, he stayed professional and friendly until the end.\"\\n from what my dinner companions told me...everything was very fresh with nice texture and taste.\\n \"on the ground, right next to our table was a large, smeared, been-stepped-in-and-tracked-everywhere pile of green bird poop.\"\\n \"furthermore, you can\\'t even find hours of operation on the website!\"\\n we\\'ve tried to like this place but after 10+ times i think we\\'re done with them.\\n what a mistake that was!\\n no complaints!\\n this is some seriously good pizza and i\\'m an expert/connisseur on the topic.\\n waiter was a jerk.\\n \"strike 2, who wants to be rushed.\"\\n these are the nicest restaurant owners i\\'ve ever come across.\\n i never come again.\\n we loved the biscuits!!!\\n service is quick and friendly.\\n ordered an appetizer and took 40 minutes and then the pizza another 10 minutes.\\n so absolutley fantastic.\\n it was a huge awkward 1.5lb piece of cow that was 3/4ths gristle and fat.\\n definitely will come back here again.\\n i like steiners because it\\'s dark and it feels like a bar.\\n wow very spicy but delicious.\\n \"if you\\'re not familiar, check it out.\"\\n i\\'ll take my business dinner dollars elsewhere.\\n i\\'d love to go back.\\n \"anyway, this fs restaurant has a wonderful breakfast/lunch.\"\\n nothing special.\\n each day of the week they have a different deal and it\\'s all so delicious!\\n \"not to mention the combination of pears, almonds and bacon is a big winner!\"\\n will not be back.\\n sauce was tasteless.\\n \"the food is delicious and just spicy enough, so be sure to ask for spicier if you prefer it that way.\"\\n my ribeye steak was cooked perfectly and had great mesquite flavor.\\n i don\\'t think we\\'ll be going back anytime soon.\\n food was so gooodd.\\n i am far from a sushi connoisseur but i can definitely tell the difference between good food and bad food and this was certainly bad food.\\n i was so insulted.\\n the last 3 times i had lunch here has been bad.\\n the chicken wings contained the driest chicken meat i have ever eaten.\\n \"the food was very good and i enjoyed every mouthful, an enjoyable relaxed venue for couples small family groups etc.\"\\n nargile - i think you are great.\\n best tater tots in the southwest.\\n we loved the place.\\n definitely not worth the $3 i paid.\\n the vanilla ice cream was creamy and smooth while the profiterole (choux) pastry was fresh enough.\\n im in az all the time and now have my new spot.\\n the manager was the worst.\\n the inside is really quite nice and very clean.\\n the food was outstanding and the prices were very reasonable.\\n i don\\'t think i\\'ll be running back to carly\\'s anytime soon for food.\\n \"this is was due to the fact that it took 20 minutes to be acknowledged, then another 35 minutes to get our food...and they kept forgetting things.\"\\n \"love the margaritas, too!\"\\n this was my first and only vegas buffet and it did not disappoint.\\n \"very good, though!\"\\n the one down note is the ventilation could use some upgrading.\\n great pork sandwich.\\n don\\'t waste your time here.\\n \"total letdown, i would much rather just go to the camelback flower shop and cartel coffee.\"\\n \"third, the cheese on my friend\\'s burger was cold.\"\\n we enjoy their pizza and brunch.\\n the steaks are all well trimmed and also perfectly cooked.\\n we had a group of 70+ when we claimed we would only have 40 and they handled us beautifully.\\n i loved it!\\n we asked for the bill to leave without eating and they didn\\'t bring that either.\\n \"this place is a jewel in las vegas, and exactly what i\\'ve been hoping to find in nearly ten years living here.\"\\n seafood was limited to boiled shrimp and crab legs but the crab legs definitely did not taste fresh.\\n the selection of food was not the best.\\n delicious and i will absolutely be back!\\n \"this isn\\'t a small family restaurant, this is a fine dining establishment.\"\\n they had a toro tartare with a cavier that was extraordinary and i liked the thinly sliced wagyu with white truffle.\\n i dont think i will be back for a very long time.\\n \"it was attached to a gas station, and that is rarely a good sign.\"\\n how awesome is that.\\n i will be back many times soon.\\n the menu had so much good stuff on it i could not decide!\\n \"worse of all, he humiliated his worker right in front of me..bunch of horrible name callings.\"\\n conclusion: very filling meals.\\n their daily specials are always a hit with my group.\\n and then tragedy struck.\\n the pancake was also really good and pretty large at that.\\n \"this was my first crawfish experience, and it was delicious!\"\\n their monster chicken fried steak and eggs is my all time favorite.\\n waitress was sweet and funny.\\n \"i also had to taste my mom\\'s multi-grain pumpkin pancakes with pecan butter and they were amazing, fluffy, and delicious!\"\\n \"i\\'d rather eat airline food, seriously.\"\\n cant say enough good things about this place.\\n the ambiance was incredible.\\n the waitress and manager are so friendly.\\n i would not recommend this place.\\n overall i wasn\\'t very impressed with noca.\\n my gyro was basically lettuce only.\\n terrible service!\\n thoroughly disappointed!\\n \"i don\\'t each much pasta, but i love the homemade /hand made pastas and thin pizzas here.\"\\n \"give it a try, you will be happy you did.\"\\n by far the best cheesecurds we have ever had!\\n reasonably priced also!\\n everything was perfect the night we were in.\\n the food is very good for your typical bar food.\\n it was a drive to get there.\\n \"at first glance it is a lovely bakery cafe - nice ambiance, clean, friendly staff.\"\\n \"anyway, i do not think i will go back there.\"\\n \"point your finger at any item on the menu, order it and you won\\'t be disappointed.\"\\n \"oh this is such a thing of beauty, this restaurant.\"\\n if you haven\\'t gone here go now!\\n \"a greasy, unhealthy meal.\"\\n first time there and might just be the last.\\n those burgers were amazing.\\n \"similarly, the delivery man did not say a word of apology when our food was 45 minutes late.\"\\n and it was way to expensive.\\n \"be sure to order dessert, even if you need to pack it to-go - the tiramisu and cannoli are both to die for.\"\\n this was my first time and i can\\'t wait until the next.\\n the bartender was also nice.\\n everything was good and tasty!\\n this place is two thumbs up....way up.\\n \"the best place in vegas for breakfast (just check out a sat, or sun.\"\\n \"if you love authentic mexican food and want a whole bunch of interesting, yet delicious meats to choose from, you need to try this place.\"\\n terrible management.\\n an excellent new restaurant by an experienced frenchman.\\n if there were zero stars i would give it zero stars.\\n \"great steak, great sides, great wine, amazing desserts.\"\\n worst martini ever!\\n the steak and the shrimp are in my opinion the best entrees at gc.\\n i had the opportunity today to sample your amazing pizzas!\\n we waited for thirty minutes to be seated (although there were 8 vacant tables and we were the only folks waiting).\\n the yellowtail carpaccio was melt in your mouth fresh.\\n i won\\'t try going back there even if it\\'s empty.\\n \"no, i\\'m going to eat the potato that i found some strangers hair in it.\"\\n just spicy enough.. perfect actually.\\n last night was my second time dining here and i was so happy i decided to go back!\\n \"not even a \"\"hello, we will be right with you.\"\"\"\\n the desserts were a bit strange.\\n my boyfriend and i came here for the first time on a recent trip to vegas and could not have been more pleased with the quality of food and service.\\n \"i really do recommend this place, you can go wrong with this donut place!\"\\n nice ambiance.\\n i would recommend saving room for this!\\n i guess maybe we went on an off night but it was disgraceful.\\n \"however, my recent experience at this particular location was not so good.\"\\n \"i know this is not like the other restaurants at all, something is very off here!\"\\n avoid this establishment!\\n i think this restaurant suffers from not trying hard enough.\\n all of the tapas dishes were delicious!\\n i *heart* this place.\\n my salad had a bland vinegrette on the baby greens and hearts of palm.\\n after two i felt disgusting.\\n a good time!\\n i believe that this place is a great stop for those with a huge belly and hankering for sushi.\\n generous portions and great taste.\\n i will never go back to this place and will never ever recommended this place to anyone!\\n \"the servers went back and forth several times, not even so much as an \"\"are you being helped?\"\"\"\\n food was delicious!\\n an hour... seriously?\\n i consider this theft.\\n eew... this location needs a complete overhaul.\\n we recently witnessed her poor quality of management towards other guests as well.\\n waited and waited and waited.\\n \"he also came back to check on us regularly, excellent service.\"\\n our server was super nice and checked on us many times.\\n \"the pizza tasted old, super chewy in not a good way.\"\\n i swung in to give them a try but was deeply disappointed.\\n service was good and the company was better!\\n the staff are also very friendly and efficient.\\n \"as for the service: i\\'m a fan, because it\\'s quick and you\\'re being served by some nice folks.\"\\n boy was that sucker dry!!.\\n over rated.\\n \"if you look for authentic thai food, go else where.\"\\n their steaks are 100% recommended!\\n after i pulled up my car i waited for another 15 minutes before being acknowledged.\\n great food and great service in a clean and friendly setting.\\n \"all in all, i can assure you i\\'ll be back.\"\\n i hate those things as much as cheap quality black olives.\\n \"my breakfast was perpared great, with a beautiful presentation of 3 giant slices of toast, lightly dusted with powdered sugar.\"\\n the kids play area is nasty!\\n great place fo take out or eat in.\\n the waitress was friendly and happy to accomodate for vegan/veggie options.\\n omg i felt like i had never eaten thai food until this dish.\\n \"it was extremely \"\"crumby\"\" and pretty tasteless.\"\\n it was a pale color instead of nice and char and has no flavor.\\n the croutons also taste homemade which is an extra plus.\\n i got home to see the driest damn wings ever!\\n it\\'ll be a regular stop on my trips to phoenix!\\n i really enjoyed crema café before they expanded; i even told friends they had the best breakfast.\\n not good for the money.\\n i miss it and wish they had one in philadelphia!\\n \"we got sitting fairly fast, but, ended up waiting 40 minutes just to place our order, another 30 minutes before the food arrived.\"\\n they also have the best cheese crisp in town.\\n \"good value, great food, great service.\"\\n couldn\\'t ask for a more satisfying meal.\\n the food is good.\\n it was awesome.\\n i just wanted to leave.\\n we made the drive all the way from north scottsdale... and i was not one bit disappointed!\\n i will not be eating there again.\\n !....the owners really really need to quit being soooooo cheap let them wrap my freaking sandwich in two papers not one!\\n i checked out this place a couple years ago and was not impressed.\\n \"the chicken i got was definitely reheated and was only ok, the wedges were cold and soggy.\"\\n \"sorry, i will not be getting food from here anytime soon :(\"\\n an absolute must visit!\\n the cow tongue and cheek tacos are amazing.\\n my friend did not like his bloody mary.\\n \"despite how hard i rate businesses, its actually rare for me to give a 1 star.\"\\n they really want to make your experience a good one.\\n i will not return.\\n i had the chicken pho and it tasted very bland.\\n very disappointing!!!\\n the grilled chicken was so tender and yellow from the saffron seasoning.\\n \"a drive thru means you do not want to wait around for half an hour for your food, but somehow when we end up going here they make us wait and wait.\"\\n pretty awesome place.\\n ambience is perfect.\\n best of luck to the rude and non-customer service focused new management.\\n any grandmother can make a roasted chicken better than this one.\\n i asked multiple times for the wine list and after some time of being ignored i went to the hostess and got one myself.\\n \"the staff is always super friendly and helpful, which is especially cool when you bring two small boys and a baby!\"\\n four stars for the food & the guy in the blue shirt for his great vibe & still letting us in to eat !\\n the roast beef sandwich tasted really good!\\n \"same evening, him and i are both drastically sick.\"\\n high-quality chicken on the chicken caesar salad.\\n ordered burger rare came in we\\'ll done.\\n we were promptly greeted and seated.\\n tried to go here for lunch and it was a madhouse.\\n \"i was proven dead wrong by this sushi bar, not only because the quality is great, but the service is fast and the food, impeccable.\"\\n \"after waiting an hour and being seated, i was not in the greatest of moods.\"\\n this is a good joint.\\n the macarons here are insanely good.\\n i\\'m not eating here!\\n \"our waiter was very attentive, friendly, and informative.\"\\n maybe if they weren\\'t cold they would have been somewhat edible.\\n this place has a lot of promise but fails to deliver.\\n very bad experience!\\n what a mistake.\\n food was average at best.\\n great food.\\n we won\\'t be going back anytime soon!\\n very very disappointed ordered the $35 big bay plater.\\n great place to relax and have an awesome burger and beer.\\n it is perfect for a sit-down family meal or get together with a few friends.\\n \"not much flavor to them, and very poorly constructed.\"\\n the patio seating was very comfortable.\\n the fried rice was dry as well.\\n hands down my favorite italian restaurant!\\n \"that just screams \"\"legit\"\" in my book...somethat\\'s also pretty rare here in vegas.\"\\n it was just not a fun experience.\\n the atmosphere was great with a lovely duo of violinists playing songs we requested.\\n \"i personally love the hummus, pita, baklava, falafels and baba ganoush (it\\'s amazing what they do with eggplant!).\"\\n \"very convenient, since we were staying at the mgm!\"\\n the owners are super friendly and the staff is courteous.\\n both great!\\n eclectic selection.\\n the sweet potato tots were good but the onion rings were perfection or as close as i have had.\\n the staff was very attentive.\\n and the chef was generous with his time (even came around twice so we can take pictures with him).\\n \"the owner used to work at nobu, so this place is really similar for half the price.\"\\n google mediocre and i imagine smashburger will pop up.\\n dont go here.\\n i promise they won\\'t disappoint.\\n as a sushi lover avoid this place by all means.\\n what a great double cheeseburger!\\n awesome service and food.\\n a fantastic neighborhood gem !!!\\n i can\\'t wait to go back.\\n the plantains were the worst i\\'ve ever tasted.\\n it\\'s a great place and i highly recommend it.\\n service was slow and not attentive.\\n \"i gave it 5 stars then, and i\\'m giving it 5 stars now.\"\\n your staff spends more time talking to themselves than me.\\n dessert: panna cotta was amazing.\\n \"very good food, great atmosphere.1\"\\n damn good steak.\\n total brunch fail.\\n \"prices are very reasonable, flavors are spot on, the sauce is home made, and the slaw is not drenched in mayo.\"\\n \"the decor is nice, and the piano music soundtrack is pleasant.\"\\n the steak was amazing...rge fillet relleno was the best seafood plate i have ever had!\\n \"good food , good service .\"\\n it was absolutely amazing.\\n \"i probably won\\'t be back, to be honest.\"\\n will definitely be back!\\n the sergeant pepper beef sandwich with auju sauce is an excellent sandwich as well.\\n \"hawaiian breeze, mango magic, and pineapple delight are the smoothies that i\\'ve tried so far and they\\'re all good.\"\\n went for lunch - service was slow.\\n \"we had so much to say about the place before we walked in that he expected it to be amazing, but was quickly disappointed.\"\\n i was mortified.\\n \"needless to say, we will never be back here again.\"\\n \"anyways, the food was definitely not filling at all, and for the price you pay you should expect more.\"\\n \"the chips that came out were dripping with grease, and mostly not edible.\"\\n i wasn\\'t really impressed with strip steak.\\n have been going since 2007 and every meal has been awesome!!\\n our server was very nice and attentive as were the other serving staff.\\n the cashier was friendly and even brought the food out to me.\\n i work in the hospitality industry in paradise valley and have refrained from recommending cibo any longer.\\n the atmosphere here is fun.\\n would not recommend to others.\\n \"service is quick and even \"\"to go\"\" orders are just like we like it!\"\\n \"i mean really, how do you get so famous for your fish and chips when it\\'s so terrible!?!\"\\n \"that said, our mouths and bellies were still quite pleased.\"\\n not my thing.\\n 2 thumbs up!!\\n if you are reading this please don\\'t go there.\\n \"i loved the grilled pizza, reminded me of legit italian pizza.\"\\n only pros : large seating area/ nice bar area/ great simple drink menu/ the best brick oven pizza with homemade dough!\\n they have a really nice atmosphere.\\n tonight i had the elk filet special...and it sucked.\\n \"after one bite, i was hooked.\"\\n we ordered some old classics and some new dishes after going there a few times and were sorely disappointed with everything.\\n \"cute, quaint, simple, honest.\"\\n the chicken was deliciously seasoned and had the perfect fry on the outside and moist chicken on the inside.\\n \"the food was great as always, compliments to the chef.\"\\n special thanks to dylan t. for the recommendation on what to order :) all yummy for my tummy.\\n awesome selection of beer.\\n great food and awesome service!\\n \"one nice thing was that they added gratuity on the bill since our party was larger than 6 or 8, and they didn\\'t expect more tip than that.\"\\n a fly was in my apple juice.. a fly!!!!!!!!\\n the han nan chicken was also very tasty.\\n \"as for the service, i thought it was good.\"\\n \"the food was barely lukewarm, so it must have been sitting waiting for the server to bring it out to us.\"\\n ryan\\'s bar is definitely one edinburgh establishment i won\\'t be revisiting.\\n nicest chinese restaurant i\\'ve been in a while.\\n \"overall, i like there food and the service.\"\\n they also now serve indian naan bread with hummus and some spicy pine nut sauce that was out of this world.\\n \"probably never coming back, and wouldn\\'t recommend it.\"\\n \"friend\\'s pasta -- also bad, he barely touched it.\"\\n \"try them in the airport to experience some tasty food and speedy, friendly service.\"\\n i love the decor with the chinese calligraphy wall paper.\\n never had anything to complain about here.\\n the restaurant is very clean and has a family restaurant feel to it.\\n it was way over fried.\\n i\\'m not sure how long we stood there but it was long enough for me to begin to feel awkwardly out of place.\\n \"when i opened the sandwich, i was impressed, but not in a good way.\"\\n will not be back!\\n there was a warm feeling with the service and i felt like their guest for a special treat.\\n an extensive menu provides lots of options for breakfast.\\n \"i always order from the vegetarian menu during dinner, which has a wide array of options to choose from.\"\\n \"i have watched their prices inflate, portions get smaller and management attitudes grow rapidly!\"\\n wonderful lil tapas and the ambience made me feel all warm and fuzzy inside.\\n \"i got to enjoy the seafood salad, with a fabulous vinegrette.\"\\n \"the wontons were thin, not thick and chewy, almost melt in your mouth.\"\\n \"level 5 spicy was perfect, where spice didn\\'t over-whelm the soup.\"\\n we were sat right on time and our server from the get go was fantastic!\\n \"main thing i didn\\'t enjoy is that the crowd is of older crowd, around mid 30s and up.\"\\n \"when i\\'m on this side of town, this will definitely be a spot i\\'ll hit up again!\"\\n i had to wait over 30 minutes to get my drink and longer to get 2 arepas.\\n this is a great place to eat!\\n the jalapeno bacon is soooo good.\\n the service was poor and thats being nice.\\n \"food was good, service was good, prices were good.\"\\n the place was not clean and the food oh so stale!\\n \"the chicken dishes are ok, the beef is like shoe leather.\"\\n but the service was beyond bad.\\n \"i\\'m so happy to be here!!!\"\"\"\\n tasted like dirt.\\n one of the few places in phoenix that i would definately go back to again .\\n the block was amazing.\\n \"it\\'s close to my house, it\\'s low-key, non-fancy, affordable prices, good food.\"\\n * both the hot & sour & the egg flower soups were absolutely 5 stars!\\n my sashimi was poor quality being soggy and tasteless.\\n great time - family dinner on a sunday night.\\n \"the food is not tasty at all, not to say its \"\"real traditional hunan style\"\".\"\\n \"what did bother me, was the slow service.\"\\n the flair bartenders are absolutely amazing!\\n their frozen margaritas are way too sugary for my taste.\\n these were so good we ordered them twice.\\n so in a nutshell: 1) the restaraunt smells like a combination of a dirty fish market and a sewer.\\n my girlfriend\\'s veal was very bad.\\n \"unfortunately, it was not good.\"\\n i had a pretty satifying experience.\\n join the club and get awesome offers via email.\\n \"perfect for someone (me) who only likes beer ice cold, or in this case, even colder.\"\\n bland and flavorless is a good way of describing the barely tepid meat.\\n \"the chains, which i\\'m no fan of, beat this place easily.\"\\n the nachos are a must have!\\n we will not be coming back.\\n \"i don\\'t have very many words to say about this place, but it does everything pretty well.\"\\n \"the staff is super nice and very quick even with the crazy crowds of the downtown juries, lawyers, and court staff.\"\\n \"great atmosphere, friendly and fast service.\"\\n when i received my pita it was huge it did have a lot of meat in it so thumbs up there.\\n once your food arrives it\\'s meh.\\n paying $7.85 for a hot dog and fries that looks like it came out of a kid\\'s meal at the wienerschnitzel is not my idea of a good meal.\\n the classic maine lobster roll was fantastic.\\n \"my brother in law who works at the mall ate here same day, and guess what he was sick all night too.\"\\n so good i am going to have to review this place twice - once hereas a tribute to the place and once as a tribute to an event held here last night.\\n \"the chips and salsa were really good, the salsa was very fresh.\"\\n this place is great!!!!!!!!!!!!!!\\n mediocre food.\\n once you get inside you\\'ll be impressed with the place.\\n i\\'m super pissd.\\n and service was super friendly.\\n why are these sad little vegetables so overcooked?\\n this place was such a nice surprise!\\n they were golden-crispy and delicious.\\n \"i had high hopes for this place since the burgers are cooked over a charcoal grill, but unfortunately the taste fell flat, way flat.\"\\n i could eat their bruschetta all day it is devine.\\n not a single employee came out to see if we were ok or even needed a water refill once they finally served us our food.\\n \"lastly, the mozzarella sticks, they were the best thing we ordered.\"\\n \"the first time i ever came here i had an amazing experience, i still tell people how awesome the duck was.\"\\n the server was very negligent of our needs and made us feel very unwelcome... i would not suggest this place!\\n the service was terrible though.\\n \"this place is overpriced, not consistent with their boba, and it really is overpriced!\"\\n it was packed!!\\n i love this place.\\n i can say that the desserts were yummy.\\n the food was terrible.\\n the seasonal fruit was fresh white peach puree.\\n it kept getting worse and worse so now i\\'m officially done.\\n this place should honestly be blown up.\\n but i definitely would not eat here again.\\n do not waste your money here!\\n i love that they put their food in nice plastic containers as opposed to cramming it in little paper takeout boxes.\\n the crêpe was delicate and thin and moist.\\n awful service.\\n won\\'t ever go here again.\\n food quality has been horrible.\\n for that price i can think of a few place i would have much rather gone.\\n the service here is fair at best.\\n \"i do love sushi, but i found kabuki to be over-priced, over-hip and under-services.\"\\n do yourself a favor and stay away from this dish.\\n very poor service.\\n no one at the table thought the food was above average or worth the wait that we had for it.\\n \"best service and food ever, maria our server was so good and friendly she made our day.\"\\n they were excellent.\\n i paid the bill but did not tip because i felt the server did a terrible job.\\n just had lunch here and had a great experience.\\n i have never had such bland food which surprised me considering the article we read focused so much on their spices and flavor.\\n food is way overpriced and portions are fucking small.\\n i recently tried caballero\\'s and i have been back every week since!\\n \"for 40 bucks a head, i really expect better food.\"\\n the food came out at a good pace.\\n \"i ate there twice on my last visit, and especially enjoyed the salmon salad.\"\\n i won\\'t be back.\\n we could not believe how dirty the oysters were!\\n this place deserves no stars.\\n i would not recommend this place.\\n \"in fact i\\'m going to round up to 4 stars, just because she was so awesome.\"\\n \"to my disbelief, each dish qualified as the worst version of these foods i have ever tasted.\"\\n \"bad day or not, i have a very low tolerance for rude customer service people, it is your job to be nice and polite, wash dishes otherwise!!\"\\n the potatoes were great and so was the biscuit.\\n i probably would not go here again.\\n so flavorful and has just the perfect amount of heat.\\n the price is reasonable and the service is great.\\n \"the wife hated her meal (coconut shrimp), and our friends really did not enjoy their meals, either.\"\\n my fella got the huevos rancheros and they didn\\'t look too appealing.\\n \"went in for happy hour, great list of wines.\"\\n some may say this buffet is pricey but i think you get what you pay for and this place you are getting quite a lot!\\n i probably won\\'t be coming back here.\\n worst food/service i\\'ve had in a while.\\n \"this place is pretty good, nice little vibe in the restaurant.\"\\n talk about great customer service of course we will be back.\\n \"hot dishes are not hot, cold dishes are close to room temp.i watched staff prepare food with bare hands, no gloves.everything is deep fried in oil.\"\\n i love their fries and their beans.\\n always a pleasure dealing with him.\\n \"they have a plethora of salads and sandwiches, and everything i\\'ve tried gets my seal of approval.\"\\n this place is awesome if you want something light and healthy during the summer.\\n \"for sushi on the strip, this is the place to go.\"\\n \"the service was great, even the manager came and helped with our table.\"\\n the feel of the dining room was more college cooking course than high class dining and the service was slow at best.\\n \"i started this review with two stars, but i\\'m editing it to give it only one.\"\\n this is the worst sushi i have ever eat besides costco\\'s.\\n \"all in all an excellent restaurant highlighted by great service, a unique menu, and a beautiful setting.\"\\n my boyfriend and i sat at the bar and had a completely delightful experience.\\n weird vibe from owners.\\n there was hardly any meat.\\n i\\'ve had better bagels from the grocery store.\\n go to place for gyros.\\n \"i love the owner/chef, his one authentic japanese cool dude!\"\\n \"now the burgers aren\\'t as good, the pizza which used to be amazing is doughy and flavorless.\"\\n i found a six inch long piece of wire in my salsa.\\n \"the service was terrible, food was mediocre.\"\\n we definately enjoyed ourselves.\\n i ordered albondigas soup - which was just warm - and tasted like tomato soup with frozen meatballs.\\n \"on three different occasions i asked for well done or medium well, and all three times i got the bloodiest piece of meat on my plate.\"\\n i had about two bites and refused to eat anymore.\\n the service was extremely slow.\\n \"after 20 minutes wait, i got a table.\"\\n seriously killer hot chai latte.\\n \"no allergy warnings on the menu, and the waitress had absolutely no clue as to which meals did or did not contain peanuts.\"\\n my boyfriend tried the mediterranean chicken salad and fell in love.\\n their rotating beers on tap is also a highlight of this place.\\n pricing is a bit of a concern at mellow mushroom.\\n worst thai ever.\\n if you stay in vegas you must get breakfast here at least once.\\n i want to first say our server was great and we had perfect service.\\n the pizza selections are good.\\n \"i had strawberry tea, which was good.\"\\n highly unprofessional and rude to a loyal patron!\\n \"overall, a great experience.\"\\n spend your money elsewhere.\\n their regular toasted bread was equally satisfying with the occasional pats of butter... mmmm...!\\n the buffet at bellagio was far from what i anticipated.\\n \"and the drinks are weak, people!\"\\n -my order was not correct.\\n \"also, i feel like the chips are bought, not made in house.\"\\n after the disappointing dinner we went elsewhere for dessert.\\n the chips and sals a here is amazing!!!!!!!!!!!!!!!!!!!\\n we won\\'t be returning.\\n this is my new fav vegas buffet spot.\\n i seriously cannot believe that the owner has so many unexperienced employees that all are running around like chickens with their heads cut off.\\n \"very, very sad.\"\\n \"i felt insulted and disrespected, how could you talk and judge another human being like that?\"\\n \"how can you call yourself a steakhouse if you can\\'t properly cook a steak, i don\\'t understand!\"\\n i\\'m not impressed with the concept or the food.\\n the only thing i wasn\\'t too crazy about was their guacamole as i don\\'t like it puréed.\\n \"there is really nothing for me at postinos, hope your experience is better\"\\n i got food poisoning here at the buffet.\\n they brought a fresh batch of fries and i was thinking yay something warm but no!\\n \"what should have been a hilarious, yummy christmas eve dinner to remember was the biggest fail of the entire trip for us.\"\\n \"needless to say, i won\\'t be going back anytime soon.\"\\n this place is disgusting!\\n \"every time i eat here, i see caring teamwork to a professional degree.\"\\n the ri style calamari was a joke.\\n \"however, there was so much garlic in the fondue, it was barely edible.\"\\n \"i could barely stomach the meal, but didn\\'t complain because it was a business lunch.\"\\n \"it was so bad, i had lost the heart to finish it.\"\\n it also took her forever to bring us the check when we asked for it.\\n we aren\\'t ones to make a scene at restaurants but i just don\\'t get it...definitely lost the love after this one!\\n disappointing experience.\\n \"the food is about on par with denny\\'s, which is to say, not good at all.\"\\n \"if you want to wait for mediocre food and downright terrible service, then this is the place for you.\"\\n waaaaaayyyyyyyyyy over rated is all i am saying.\\n we won\\'t be going back.\\n the place was fairly clean but the food simply wasn\\'t worth it.\\n this place lacked style!!\\n \"the sangria was about half of a glass wine full and was $12, ridiculous.\"\\n don\\'t bother coming here.\\n \"the meat was pretty dry, i had the sliced brisket and pulled pork.\"\\n \"the building itself seems pretty neat; the bathroom is pretty trippy, but i wouldn\\'t eat here again.\"\\n it was equally awful.\\n probably not in a hurry to go back.\\n very slow at seating even with reservation.\\n not good by any stretch of the imagination.\\n the cashew cream sauce was bland and the vegetables were undercooked.\\n \"the chipolte ranch dipping sause was tasteless, seemed thin and watered down with no heat.\"\\n \"it was a bit too sweet, not really spicy enough, and lacked flavor.\"\\n i was very disappointed!!\\n this place is horrible and way overpriced.\\n \"maybe it\\'s just their vegetarian fare, but i\\'ve been twice and i thought it was average at best.\"\\n it wasn\\'t busy at all and now we know why.\\n the tables outside are also dirty a lot of the time and the workers are not always friendly and helpful with the menu.\\n \"the ambiance here did not feel like a buffet setting, but more of a douchey indoor garden for tea and biscuits.\"\\n con: spotty service.\\n \"the fries were not hot, and neither was my burger.\"\\n but then they came back cold.\\n \"then our food came out, disappointment ensued.\"\\n the real disappointment was our waiter.\\n my husband said she was very rude... did not even apologize for the bad food or anything.\\n the only reason to eat here would be to fill up before a night of binge drinking just to get some carbs in your stomach.\\n \"insults, profound deuchebaggery, and had to go outside for a smoke break while serving just to solidify it.\"\\n if someone orders two tacos don\\'t\\' you think it may be part of customer service to ask if it is combo or ala cart?\\n she was quite disappointed although some blame needs to be placed at her door.\\n after all the rave reviews i couldn\\'t wait to eat here......what a disappointment!\\n del taco is pretty nasty and should be avoided if possible.\\n it\\'s not hard to make a decent hamburger.\\n but i don\\'t like it.\\n hell no will i go back\\n we\\'ve have gotten a much better service from the pizza place next door than the services we received from this restaurant.\\n \"i don\\'t know what the big deal is about this place, but i won\\'t be back \"\"ya\\'all\"\".\"\\n i immediately said i wanted to talk to the manager but i did not want to talk to the guy who was doing shots of fireball behind the bar.\\n the ambiance isn\\'t much better.\\n \"unfortunately, it only set us up for disapppointment with our entrees.\"\\n the food wasn\\'t good.\\n \"your servers suck, wait, correction, our server heimer sucked.\"\\n what happened next was pretty....off putting.\\n \"too bad cause i know it\\'s family owned, i really wanted to like this place.\"\\n overpriced for what you are getting.\\n i vomited in the bathroom mid lunch.\\n \"i kept looking at the time and it had soon become 35 minutes, yet still no food.\"\\n \"i have been to very few places to eat that under no circumstances would i ever return to, and this tops the list.\"\\n we started with the tuna sashimi which was brownish in color and obviously wasn\\'t fresh.\\n food was below average.\\n it sure does beat the nachos at the movies but i would expect a little bit more coming from a restaurant.\\n \"all in all, ha long bay was a bit of a flop.\"\\n the problem i have is that they charge $11.99 for a sandwich that is no bigger than a subway sub (which offers better and more amount of vegetables).\\n shrimp- when i unwrapped it (i live only 1/2 a mile from brushfire) it was literally ice cold.\\n \"it lacked flavor, seemed undercooked, and dry.\"\\n it really is impressive that the place hasn\\'t closed down.\\n i would avoid this place if you are staying in the mirage.\\n the refried beans that came with my meal were dried out and crusty and the food was bland.\\n spend your money and time some place else.\\n a lady at the table next to us found a live green caterpillar in her salad.\\n the presentation of the food was awful.\\n i can\\'t tell you how disappointed i was.\\n i think food should have flavor and texture and both were lacking.\\n appetite instantly gone.\\n overall i was not impressed and would not go back.\\n \"the whole experience was underwhelming, and i think we\\'ll just go to ninja sushi next time.\"\\n \"then, as if i hadn\\'t wasted enough of my life there, they poured salt in the wound by drawing out the time it took to bring the check.\"'"
            ],
            "application/vnd.google.colaboratory.intrinsic+json": {
              "type": "string"
            }
          },
          "metadata": {},
          "execution_count": 36
        }
      ]
    },
    {
      "cell_type": "code",
      "source": [
        "docs_limpio = re.findall(r'\\s\\w+', docs_13_str_lower)\n",
        "''.join(docs_limpio)"
      ],
      "metadata": {
        "colab": {
          "base_uri": "https://localhost:8080/",
          "height": 218
        },
        "id": "-P-hGnfewlIU",
        "outputId": "64814c3c-93c9-4658-f9ea-d08b09d38f1a"
      },
      "execution_count": 44,
      "outputs": [
        {
          "output_type": "execute_result",
          "data": {
            "text/plain": [
              "' loved this place crust is not good not tasty and the texture was just nasty stopped by during the late may bank holiday off rick steve recommendation and loved it the selection on the menu was great and so were the prices now i am getting angry and i want my damn pho honeslty it didn taste that fresh the potatoes were like rubber and you could tell they had been made up ahead of time being kept under a warmer the fries were great too a great touch service was very prompt would not go back the cashier had no care what so ever on what i had to say it still ended up being wayyy overpriced tried the cape cod ravoli chicken cranberry i was disgusted because i was pretty sure that was human hair i was shocked because no signs indicate cash only highly recommended waitress was a little slow in service place is not worth your time let alone vegas did not like at all the burrittos blah food amazing service is also cute i could care less the interior is just beautiful so they performed that right red velvet cake this stuff is so good they never brought a salad we asked for hole in the wall has great mexican street tacos and friendly staff an hour to get our food only 4 tables in restaurant my food was luke warm our sever was running around like he was totally overwhelmed the worst was the salmon sashimi there are combos like a burger fries and beer for 23 which is a decent deal this was like the final blow i found this place by accident and i could not be happier like a good quick place to grab a bite of some familiar pub food but do yourself a favor and look elsewhere i like this place a lot the only redeeming quality of the restaurant was that it was very inexpensive ample portions and good prices service the waiter made me feel like i was stupid every time he came to the table my first visit to hiro was a delight service sucks the shrimp tender and moist there is not a deal good enough that would drag me into that establishment again hard to judge whether these sides were good because we were grossed out by the melted styrofoam and didn want to eat it for fear of getting sick a positive note our server was very attentive and provided great service pucks of disgust with some of the worst people behind the register the only thing i did like was the prime rib and dessert section it too bad the food is so damn generic burger is good beef cooked just right if you want a sandwich just go to any firehouse side greek salad with the greek dressing was so tasty and the pita and hummus was very refreshing we ordered the duck rare and it was pink and tender on the inside with a nice char on the outside he came running after us when he realized my husband had left his sunglasses on the table their chow mein is so good have horrible attitudes towards customers and talk down to each one when customers don enjoy their food the portion was huge it servers great food wonderful and imaginative menu the heart attack grill in downtown vegas is an absolutely flat excuse for a restaurant not much seafood and like 5 strings of pasta at the bottom salad had just the right amount of sauce to not over power the scallop which was perfectly cooked ripped banana was not only ripped but petrified and tasteless at least think to refill my water before i struggle to wave you over for 10 minutes this place receives stars for their appetizers the cocktails are all handmade and delicious we definitely go back here again we are so glad we found this place food and service huge portions and they give a military discount always a great time at dos gringos update back for a second time and it was still just as amazing we got the food and apparently they have never heard of salt and the batter on the fish was chewy a great way to finish a great deal included 5 tastings and 2 drinks and jeff went above and beyond what we expected really really good rice all the time the service was meh took over 30 min to get their milkshake which was nothing more than chocolate milk guess i should have known that this place would suck because it is inside of the excalibur but i didn use my common sense the scallop dish is quite appalling for value as well 2 times very bad customer service the sweet potato fries were very good and seasoned well today is the second time i been to their lunch buffet and it was pretty good there is so much good food in vegas that i feel cheated for wasting an eating opportunity by going to rice and company coming here is like experiencing an underwhelming relationship where both parties can wait for the other person to ask to break up walked in and the place smelled like an old grease trap and only 2 others there eating the turkey and roast beef were bland this place has it the pan cakes everyone are raving about taste like a sugary disaster tailored to the palate of a six year old i love the pho and the spring rolls oh so yummy you have to try the poor batter to meat ratio made the chicken tenders very unsatisfying all i have to say is the food was amazing omelets are to die for everything was fresh and delicious summary this was a largely disappointing dining experience like a really sexy party in your mouth where you outrageously flirting with the hottest person at the party been to hard rock casino before will never ever step forward in it again best breakfast buffet say bye bye to your tip lady we never go again will be back again food arrived quickly it was not good the up side their cafe serves really good food server was fantastic and when he found out the wife loves roasted garlic and bone marrow he added extra to our meal and another marrow to go only good thing was our waiter he was very helpful and kept the bloddy mary coming buffet in town for the price you cannot beat it loved their mussels cooked in this wine reduction the duck was tender and their potato dishes were delicious this is one of the better buffets that i have been to so we went to tigerlilly and had a fantastic afternoon food was delicious our bartender was attentive and personable and we got a great deal the ambience is wonderful and there is music playing will go back next trip out sooooo good sushi lovers let be honest yama is not that good least 40min passed in between us ordering and the food arriving and it wasn that busy this is a really fantastic thai restaurant which is definitely worth a visit spicy and tender good prices check it out it was pretty gross i had better atmosphere kind of hard to mess up a steak but they did i very much liked the look and sound of this place the actual experience was a bit disappointing i just don know how this place managed to served the blandest food i have ever eaten when they are preparing indian cuisine service to boot but that is the least of their worries service was fine and the waitress was friendly guys all had steaks and our steak loving son who has had steak at the best and worst places said it was the best steak he ever eaten thought you have to venture further away to get good sushi but this place really hit the spot that night staff were for lack of a better word bitches bland not a liking this place for a number of reasons and i don want to waste time on bad reviewing i leave it at that food service and ambiance i wouldn return worth venturing off the strip for the pork belly will return next time i in vegas this place is way too overpriced for mediocre food penne vodka excellent have a good selection of food including a massive meatloaf sandwich a crispy chicken wrap a delish tuna melt and some tasty burgers the management is rude nyc bagels good selections of cream cheese real lox with capers even subway in fact it so good when you come here every other subway will not meet your expectations i had a seriously solid breakfast here this is one of the best bars with food in vegas was extremely rude and really there are so many other restaurants i would love to dine at during a weekend in vegas my drink was never empty and he made some really great menu suggestions don do it the waiter wasn helpful or friendly and rarely checked on us my husband and i ate lunch here and were very disappointed with the food and service and the red curry had so much bamboo shoots and wasn very tasty to me nice blanket of moz over top but i feel like this was done to cover up the subpar food the bathrooms are clean and the place itself is well decorated menu is always changing food quality is going down service is extremely slow service was a little slow considering that were served by 3 people servers so the food was coming in a slow pace i give it 2 thumbs down we watched our waiter pay a lot more attention to other tables and ignore us my fiancé and i came in the middle of the day and we were greeted and seated right away this is a great restaurant at the mandalay bay we waited for forty five minutes in vain crostini that came with the salad was stale some highlights great quality nigiri here the staff is friendly and the joint is always clean this was a different cut than the piece the other day but still wonderful and tender s well as well flavored i ordered the voodoo pasta and it was the first time i had really excellent pasta since going gluten free several years ago this place is good we must have hit the bakery on leftover day because everything we ordered was stale i came back today since they relocated and still not impressed i was seated immediately menu is diverse and reasonably priced avoid at all cost restaurant is always full but never a wait delicious this place is hands one of the best places to eat in the phoenix metro area so don go there if you are looking for good food i never been treated so bad bacon is hella salty we also ordered the spinach and avocado salad the ingredients were sad and the dressing literally had zero taste really is how vegas fine dining used to be right down to the menus handed to the ladies that have no prices listed the waitresses are very friendly the khao soi is a dish that is not to be missed for curry lovers everything on the menu is terrific and we were also thrilled that they made amazing accommodations for our vegetarian daughter i caught them on an off night judging by the other reviews but i not inspired to go back the service here leaves a lot to be desired atmosphere is modern and hip while maintaining a touch of coziness a weekly haunt but definitely a place to come back to every once in a while we literally sat there for 20 minutes with no one asking to take our order burger had absolutely no flavor the meat itself was totally bland the burger was overcooked and there was no charcoal flavor i also decided not to send it back because our waitress looked like she was on the verge of having a heart attack i dressed up to be treated so rudely it was probably dirt this place hits the spot when i want something healthy but not lacking in quantity or flavor i ordered the lemon raspberry ice cocktail which was also incredible food sucked which we expected but it sucked more than we could have imagined interesting decor what i really like there is the crepe station were served hot bread and butter and home made potato chips with bacon bits on top original and very good you can watch them preparing the delicious food both of the egg rolls were fantastic my order arrived one of the gyros was missing had a salad with the wings and some ice cream for dessert and left feeling quite satisfied i not really sure how joey was voted best hot dog in the valley by readers of phoenix magazine the best place to go for a tasty bowl of pho the live music on fridays totally blows i never been more insulted or felt disrespected very friendly staff it is worth the drive had heard good things about this place but it exceeding every hope i could have dreamed of food was great and so was the serivce the warm beer didn help great brunch spot service is friendly and inviting very good lunch spot i lived here since 1979 and this was the first last time i stepped foot into this place the worst experience ever must have been an off night at this place sides are delish mixed mushrooms yukon gold puree white corn beateous that bug never showed up i would have given a 4 for sure but on the other side of the wall where this bug was climbing was the kitchen about 10 minutes we we waiting for her salad when we realized that it wasn coming any time soon my friend loved the salmon tartar won go back extremely tasty waitress was good though soggy and not good the jamaican mojitos are delicious which are small and not worth the price the food is rich so order accordingly shower area is outside so you can only rinse not take a full shower unless you don mind being nude for everyone to see the service was a bit lacking bisque bussell sprouts risotto filet all needed salt and pepper of course there is none at the tables hopefully this bodes for them going out of business and someone who can cook can come in was either too cold not enough flavor or just bad i loved the bacon wrapped dates this is an unbelievable bargain the folks at otto always make us feel so welcome and special for the also uninspired this is the place where i first had pho and it was amazing this wonderful experience made this place a must whenever we are in town again the food isn bad enough for you then enjoy dealing with the world worst drunk people very very fun chef a double cheeseburger got a single patty that was falling apart uploaded yeah still sucks great place to have a couple drinks and watch any and all sporting events as the walls are covered with tv it were possible to give them zero stars they have it descriptions said yum sauce and another said sauce yet another said mayo none of the rolls had sauces on them say that would be the hardest decision honestly all of m dishes taste how they are supposed to taste if she had not rolled the eyes we may have stayed not sure if we will go back and try it again is very attentive providing excellent customer service horrible don waste your time and money now this dish was quite flavourful by this time our side of the restaurant was almost empty so there was no excuse wasn busy either also the building was freezing cold the other reviewer said couldn pay me to eat at this place again took close to 30 minutes to come out at one point flavorful delights folks much better than the other ayce sushi place i went to in vegas the lighting is just dark enough to set the mood based on the sub service i received and no effort to show their gratitude for my business i won be going back owner are really great people there is nothing privileged about working there the greek dressing was very creamy and flavorful i don think that i would take my parents to this place again because they made most of the similar complaints that i silently felt too now the pizza itself was good the peanut sauce was very tasty we had 7 at our table and the service was pretty fast fantastic service here i as well would given godfathers zero stars if possible they know how to make them here very tough and very short on flavor i hope this place sticks around have been in more than a few bars in vegas and do not ever recall being charged for tap water the restaurant atmosphere was exquisite service very clean and inexpensive to boot the seafood was fresh and generous in portion it only 8 bucks service was not up to par either far have only visited twice and the food was absolutely delicious each time just as good as when i had it more than a year ago a self proclaimed coffee cafe i was wildly disappointed the veggitarian platter is out of this world you cant go wrong with any of the food here you can beat that by this place while in madison for the ironman very friendly kind staff the chefs were friendly and did a good job had better not only from dedicated boba tea spots but even from jenni pho i liked the patio and the service was outstanding the goat taco didn skimp on the meat and wow what flavor i think not again i had the mac salad and it was pretty bland so i will not be getting that again i went to bachi burger on a friend recommendation and was not disappointed service stinks here i waited and waited place is not quality sushi it is not a quality restaurant i would definitely recommend the wings as well as the pizza great pizza and salads things that went wrong they burned the saganaki we waited an hour for what was a breakfast i could have done 100 times better at home this place is amazing hate to disagree with my fellow yelpers but my husband and i were so disappointed with this place waited 2 hours never got either of our pizzas as many other around us who came in later did just don know why they were so slow staff is great the food is delish and they have an incredible beer selection live in the neighborhood so i am disappointed i won be back here because it is a convenient location i didn know pulled pork could be soooo delicious get incredibly fresh fish prepared with care before i go in to why i gave a 1 star rating please know that this was my third time eating at bachi burger before writing a review i love the fact that everything on their menu is worth it never again will i be dining at this place the food was excellent and service was very good good beer drink selection and good food selection please stay away from the shrimp stir fried noodles the potato chip order was sad i could probably count how many chips were in that box and it was probably around 12 food was really boring good service this greedy corporation will never see another dime from me never ever go back much as i like to go back i can get passed the atrocious service and will never return the summer you can dine in a charming outdoor patio so very delightful i did not expect this to be so good fantastic food she ordered a toasted english muffin that came out untoasted the food was very good never going back food for the price which is very high quality and house made the bus boy on the other hand was so rude this point my friends and i had basically figured out this place was a joke and didn mind making it publicly and loudly known to good bbq lighter fare reasonable pricing and tell the public they are back to the old ways considering the two of us left there very full and happy for about you just can go wrong all the bread is made in the only downside is the service the fries are without a doubt the worst fries i ever had service was exceptional and food was a good as all the reviews couple of months later i returned and had an amazing meal favorite place in town for shawarrrrrrma the black eyed peas and sweet potatoes unreal you won be disappointed could serve it with just the vinaigrette and it may make for a better overall dish but it was still very good go to far too many places and i never seen any restaurant that serves a 1 egg breakfast especially for when my mom and i got home she immediately got sick and she only had a few bites of salad the servers are not pleasant to deal with and they don always honor pizza hut coupons of them were truly unbelievably good and i am so glad we went back had fantastic service and were pleased by the atmosphere everything was gross i love this place great service and food first the bathrooms at this location were dirty seat covers were not replenished just plain yucky burger i got the standard a burger and was kind of disappointed the food was delicioso there is nothing authentic about this place the spaghetti is nothing special whatsoever all the dishes the salmon was the best but all were great the vegetables are so fresh and the sauce feels like authentic thai it worth driving up from tucson the selection was probably the worst i seen in vegas was none pretty good beer selection too place is like chipotle but better atmosphere fun and fresh appetizers succulent steaks steak 5 stars for the brick oven bread app have eaten here multiple times and each time the food was delicious we sat another ten minutes and finally gave up and left he was terrible everyone is treated equally special it shouldn take 30 min for pancakes and eggs it was delicious the good side the staff was genuinely pleasant and enthusiastic a real treat gordon ramsey steak is a place we shall sharply avoid during our next trip to vegas as always the evening was wonderful and the food delicious best fish i ever had in my life bathroom is just next door and very nice the buffet is small and all the food they offered was bland this is an outstanding little restaurant with some of the best food i have ever tasted pretty cool i would say definitely a turn off for me i doubt i be back unless someone else is buying server did a great job handling our large rowdy table find wasting food to be despicable but this just wasn food my wife had the lobster bisque soup which was lukewarm would come back again if i had a sushi craving while in vegas staff are great the ambiance is great he deserves 5 stars i left with a stomach ache and felt sick the rest of the day they dropped more than the ball dining space is tiny but elegantly decorated and comfortable will customize your order any way you like my usual is eggplant with green bean stir fry love it and the beans and rice were mediocre at best best tacos in town by far i took back my money and got outta there an interesting part of town this place is amazing rude inconsiderate management staff are now not as friendly the wait times for being served are horrible no one even says hi for the first 10 minutes i won be back they have great dinners the service was outshining i definitely recommend the halibut the food was terrible will never ever go back and have told many people what had happened i don recommend unless your car breaks down in front of it and you are starving i will come back here every time i in vegas this place deserves one star and 90 has to do with the food this is a disgrace def coming back to bowl next time you want healthy authentic or ethic food try this place i will continue to come here on ladies night andddd date night highly recommend this place to anyone who is in the area have been here several times in the past and the experience has always been great we walked away stuffed and happy about our first vegas buffet experience service was excellent and prices are pretty reasonable considering this is vegas and located inside the crystals shopping mall by aria summarize the food was incredible nay transcendant but nothing brings me joy quite like the memory of the pneumatic condiment dispenser i probably one of the few people to ever go to ians and not like it kids pizza is always a hit too with lots of great side dish options for the kiddos service is perfect and the family atmosphere is nice to see cooked to perfection and the service was impeccable this one is simply a disappointment i was very disappointed with the quality of food at bouchon i don have to be an accountant to know i getting screwed place to eat reminds me of the little mom and pop shops in the san francisco bay area today was my first taste of a buldogis gourmet hot dog and i have to tell you it was more than i ever thought possible left very frustrated i definitely be in soon again food was really good and i got full petty fast service was fantastic total waste of time i don know what kind it is but they have the best iced tea hungry leave happy and stuffed service i give them no stars i can assure you that you won be disappointed i can take a little bad service but the food sucks gave up trying to eat any of the crust still sore but now i was completely grossed out i really enjoyed eating here first time going but i think i will quickly become a regular server was very nice and even though he looked a little overwhelmed with all of our needs he stayed professional and friendly until the end from what my dinner companions told me was very fresh with nice texture and taste the ground right next to our table was a large smeared been pile of green bird poop you can even find hours of operation on the website we tried to like this place but after 10 times i think we done with them what a mistake that was no complaints this is some seriously good pizza and i an expert on the topic waiter was a jerk 2 who wants to be rushed these are the nicest restaurant owners i ever come across i never come again we loved the biscuits service is quick and friendly ordered an appetizer and took 40 minutes and then the pizza another 10 minutes so absolutley fantastic it was a huge awkward 1 piece of cow that was 3 gristle and fat definitely will come back here again i like steiners because it dark and it feels like a bar wow very spicy but delicious you not familiar check it out i take my business dinner dollars elsewhere i love to go back this fs restaurant has a wonderful breakfast nothing special each day of the week they have a different deal and it all so delicious to mention the combination of pears almonds and bacon is a big winner will not be back sauce was tasteless food is delicious and just spicy enough so be sure to ask for spicier if you prefer it that way my ribeye steak was cooked perfectly and had great mesquite flavor i don think we be going back anytime soon food was so gooodd i am far from a sushi connoisseur but i can definitely tell the difference between good food and bad food and this was certainly bad food i was so insulted the last 3 times i had lunch here has been bad the chicken wings contained the driest chicken meat i have ever eaten food was very good and i enjoyed every mouthful an enjoyable relaxed venue for couples small family groups etc nargile i think you are great best tater tots in the southwest we loved the place definitely not worth the i paid the vanilla ice cream was creamy and smooth while the profiterole pastry was fresh enough im in az all the time and now have my new spot the manager was the worst the inside is really quite nice and very clean the food was outstanding and the prices were very reasonable i don think i be running back to carly anytime soon for food is was due to the fact that it took 20 minutes to be acknowledged then another 35 minutes to get our food they kept forgetting things the margaritas too this was my first and only vegas buffet and it did not disappoint good though the one down note is the ventilation could use some upgrading great pork sandwich don waste your time here letdown i would much rather just go to the camelback flower shop and cartel coffee the cheese on my friend burger was cold we enjoy their pizza and brunch the steaks are all well trimmed and also perfectly cooked we had a group of 70 when we claimed we would only have 40 and they handled us beautifully i loved it we asked for the bill to leave without eating and they didn bring that either place is a jewel in las vegas and exactly what i been hoping to find in nearly ten years living here seafood was limited to boiled shrimp and crab legs but the crab legs definitely did not taste fresh the selection of food was not the best delicious and i will absolutely be back isn a small family restaurant this is a fine dining establishment they had a toro tartare with a cavier that was extraordinary and i liked the thinly sliced wagyu with white truffle i dont think i will be back for a very long time was attached to a gas station and that is rarely a good sign how awesome is that i will be back many times soon the menu had so much good stuff on it i could not decide of all he humiliated his worker right in front of me of horrible name callings conclusion very filling meals their daily specials are always a hit with my group and then tragedy struck the pancake was also really good and pretty large at that was my first crawfish experience and it was delicious their monster chicken fried steak and eggs is my all time favorite waitress was sweet and funny also had to taste my mom multi pumpkin pancakes with pecan butter and they were amazing fluffy and delicious rather eat airline food seriously cant say enough good things about this place the ambiance was incredible the waitress and manager are so friendly i would not recommend this place overall i wasn very impressed with noca my gyro was basically lettuce only terrible service thoroughly disappointed don each much pasta but i love the homemade made pastas and thin pizzas here it a try you will be happy you did by far the best cheesecurds we have ever had reasonably priced also everything was perfect the night we were in the food is very good for your typical bar food it was a drive to get there first glance it is a lovely bakery cafe nice ambiance clean friendly staff i do not think i will go back there your finger at any item on the menu order it and you won be disappointed this is such a thing of beauty this restaurant if you haven gone here go now greasy unhealthy meal first time there and might just be the last those burgers were amazing the delivery man did not say a word of apology when our food was 45 minutes late and it was way to expensive sure to order dessert even if you need to pack it to the tiramisu and cannoli are both to die for this was my first time and i can wait until the next the bartender was also nice everything was good and tasty this place is two thumbs up up best place in vegas for breakfast check out a sat or sun you love authentic mexican food and want a whole bunch of interesting yet delicious meats to choose from you need to try this place terrible management an excellent new restaurant by an experienced frenchman if there were zero stars i would give it zero stars steak great sides great wine amazing desserts worst martini ever the steak and the shrimp are in my opinion the best entrees at gc i had the opportunity today to sample your amazing pizzas we waited for thirty minutes to be seated there were 8 vacant tables and we were the only folks waiting the yellowtail carpaccio was melt in your mouth fresh i won try going back there even if it empty i going to eat the potato that i found some strangers hair in it just spicy enough perfect actually last night was my second time dining here and i was so happy i decided to go back even a we will be right with you the desserts were a bit strange my boyfriend and i came here for the first time on a recent trip to vegas and could not have been more pleased with the quality of food and service really do recommend this place you can go wrong with this donut place nice ambiance i would recommend saving room for this i guess maybe we went on an off night but it was disgraceful my recent experience at this particular location was not so good know this is not like the other restaurants at all something is very off here avoid this establishment i think this restaurant suffers from not trying hard enough all of the tapas dishes were delicious i this place my salad had a bland vinegrette on the baby greens and hearts of palm after two i felt disgusting a good time i believe that this place is a great stop for those with a huge belly and hankering for sushi generous portions and great taste i will never go back to this place and will never ever recommended this place to anyone servers went back and forth several times not even so much as an you being helped food was delicious an hour seriously i consider this theft eew this location needs a complete overhaul we recently witnessed her poor quality of management towards other guests as well waited and waited and waited also came back to check on us regularly excellent service our server was super nice and checked on us many times pizza tasted old super chewy in not a good way i swung in to give them a try but was deeply disappointed service was good and the company was better the staff are also very friendly and efficient for the service i a fan because it quick and you being served by some nice folks boy was that sucker dry over rated you look for authentic thai food go else where their steaks are 100 recommended after i pulled up my car i waited for another 15 minutes before being acknowledged great food and great service in a clean and friendly setting in all i can assure you i be back i hate those things as much as cheap quality black olives breakfast was perpared great with a beautiful presentation of 3 giant slices of toast lightly dusted with powdered sugar the kids play area is nasty great place fo take out or eat in the waitress was friendly and happy to accomodate for vegan options omg i felt like i had never eaten thai food until this dish was extremely and pretty tasteless it was a pale color instead of nice and char and has no flavor the croutons also taste homemade which is an extra plus i got home to see the driest damn wings ever it be a regular stop on my trips to phoenix i really enjoyed crema café before they expanded i even told friends they had the best breakfast not good for the money i miss it and wish they had one in philadelphia got sitting fairly fast but ended up waiting 40 minutes just to place our order another 30 minutes before the food arrived they also have the best cheese crisp in town value great food great service couldn ask for a more satisfying meal the food is good it was awesome i just wanted to leave we made the drive all the way from north scottsdale and i was not one bit disappointed i will not be eating there again owners really really need to quit being soooooo cheap let them wrap my freaking sandwich in two papers not one i checked out this place a couple years ago and was not impressed chicken i got was definitely reheated and was only ok the wedges were cold and soggy i will not be getting food from here anytime soon an absolute must visit the cow tongue and cheek tacos are amazing my friend did not like his bloody mary how hard i rate businesses its actually rare for me to give a 1 star they really want to make your experience a good one i will not return i had the chicken pho and it tasted very bland very disappointing the grilled chicken was so tender and yellow from the saffron seasoning drive thru means you do not want to wait around for half an hour for your food but somehow when we end up going here they make us wait and wait pretty awesome place ambience is perfect best of luck to the rude and non service focused new management any grandmother can make a roasted chicken better than this one i asked multiple times for the wine list and after some time of being ignored i went to the hostess and got one myself staff is always super friendly and helpful which is especially cool when you bring two small boys and a baby four stars for the food the guy in the blue shirt for his great vibe still letting us in to eat the roast beef sandwich tasted really good evening him and i are both drastically sick high chicken on the chicken caesar salad ordered burger rare came in we done we were promptly greeted and seated tried to go here for lunch and it was a madhouse was proven dead wrong by this sushi bar not only because the quality is great but the service is fast and the food impeccable waiting an hour and being seated i was not in the greatest of moods this is a good joint the macarons here are insanely good i not eating here waiter was very attentive friendly and informative maybe if they weren cold they would have been somewhat edible this place has a lot of promise but fails to deliver very bad experience what a mistake food was average at best great food we won be going back anytime soon very very disappointed ordered the big bay plater great place to relax and have an awesome burger and beer it is perfect for a sit family meal or get together with a few friends much flavor to them and very poorly constructed the patio seating was very comfortable the fried rice was dry as well hands down my favorite italian restaurant just screams in my book also pretty rare here in vegas it was just not a fun experience the atmosphere was great with a lovely duo of violinists playing songs we requested personally love the hummus pita baklava falafels and baba ganoush amazing what they do with eggplant convenient since we were staying at the mgm the owners are super friendly and the staff is courteous both great eclectic selection the sweet potato tots were good but the onion rings were perfection or as close as i have had the staff was very attentive and the chef was generous with his time came around twice so we can take pictures with him owner used to work at nobu so this place is really similar for half the price google mediocre and i imagine smashburger will pop up dont go here i promise they won disappoint as a sushi lover avoid this place by all means what a great double cheeseburger awesome service and food a fantastic neighborhood gem i can wait to go back the plantains were the worst i ever tasted it a great place and i highly recommend it service was slow and not attentive gave it 5 stars then and i giving it 5 stars now your staff spends more time talking to themselves than me dessert panna cotta was amazing good food great atmosphere damn good steak total brunch fail are very reasonable flavors are spot on the sauce is home made and the slaw is not drenched in mayo decor is nice and the piano music soundtrack is pleasant the steak was amazing fillet relleno was the best seafood plate i have ever had food good service it was absolutely amazing probably won be back to be honest will definitely be back the sergeant pepper beef sandwich with auju sauce is an excellent sandwich as well breeze mango magic and pineapple delight are the smoothies that i tried so far and they all good went for lunch service was slow had so much to say about the place before we walked in that he expected it to be amazing but was quickly disappointed i was mortified to say we will never be back here again the food was definitely not filling at all and for the price you pay you should expect more chips that came out were dripping with grease and mostly not edible i wasn really impressed with strip steak have been going since 2007 and every meal has been awesome our server was very nice and attentive as were the other serving staff the cashier was friendly and even brought the food out to me i work in the hospitality industry in paradise valley and have refrained from recommending cibo any longer the atmosphere here is fun would not recommend to others is quick and even go orders are just like we like it mean really how do you get so famous for your fish and chips when it so terrible said our mouths and bellies were still quite pleased not my thing 2 thumbs up if you are reading this please don go there loved the grilled pizza reminded me of legit italian pizza only pros large seating area nice bar area great simple drink menu the best brick oven pizza with homemade dough they have a really nice atmosphere tonight i had the elk filet special it sucked one bite i was hooked we ordered some old classics and some new dishes after going there a few times and were sorely disappointed with everything quaint simple honest the chicken was deliciously seasoned and had the perfect fry on the outside and moist chicken on the inside food was great as always compliments to the chef special thanks to dylan t for the recommendation on what to order all yummy for my tummy awesome selection of beer great food and awesome service nice thing was that they added gratuity on the bill since our party was larger than 6 or 8 and they didn expect more tip than that a fly was in my apple juice a fly the han nan chicken was also very tasty for the service i thought it was good food was barely lukewarm so it must have been sitting waiting for the server to bring it out to us ryan bar is definitely one edinburgh establishment i won be revisiting nicest chinese restaurant i been in a while i like there food and the service they also now serve indian naan bread with hummus and some spicy pine nut sauce that was out of this world never coming back and wouldn recommend it pasta also bad he barely touched it them in the airport to experience some tasty food and speedy friendly service i love the decor with the chinese calligraphy wall paper never had anything to complain about here the restaurant is very clean and has a family restaurant feel to it it was way over fried i not sure how long we stood there but it was long enough for me to begin to feel awkwardly out of place i opened the sandwich i was impressed but not in a good way will not be back there was a warm feeling with the service and i felt like their guest for a special treat an extensive menu provides lots of options for breakfast always order from the vegetarian menu during dinner which has a wide array of options to choose from have watched their prices inflate portions get smaller and management attitudes grow rapidly wonderful lil tapas and the ambience made me feel all warm and fuzzy inside got to enjoy the seafood salad with a fabulous vinegrette wontons were thin not thick and chewy almost melt in your mouth 5 spicy was perfect where spice didn over the soup we were sat right on time and our server from the get go was fantastic thing i didn enjoy is that the crowd is of older crowd around mid 30s and up i on this side of town this will definitely be a spot i hit up again i had to wait over 30 minutes to get my drink and longer to get 2 arepas this is a great place to eat the jalapeno bacon is soooo good the service was poor and thats being nice was good service was good prices were good the place was not clean and the food oh so stale chicken dishes are ok the beef is like shoe leather but the service was beyond bad so happy to be here tasted like dirt one of the few places in phoenix that i would definately go back to again the block was amazing close to my house it low non affordable prices good food both the hot sour the egg flower soups were absolutely 5 stars my sashimi was poor quality being soggy and tasteless great time family dinner on a sunday night food is not tasty at all not to say its traditional hunan style did bother me was the slow service the flair bartenders are absolutely amazing their frozen margaritas are way too sugary for my taste these were so good we ordered them twice so in a nutshell 1 the restaraunt smells like a combination of a dirty fish market and a sewer my girlfriend veal was very bad it was not good i had a pretty satifying experience join the club and get awesome offers via email for someone who only likes beer ice cold or in this case even colder bland and flavorless is a good way of describing the barely tepid meat chains which i no fan of beat this place easily the nachos are a must have we will not be coming back don have very many words to say about this place but it does everything pretty well staff is super nice and very quick even with the crazy crowds of the downtown juries lawyers and court staff atmosphere friendly and fast service when i received my pita it was huge it did have a lot of meat in it so thumbs up there once your food arrives it meh paying for a hot dog and fries that looks like it came out of a kid meal at the wienerschnitzel is not my idea of a good meal the classic maine lobster roll was fantastic brother in law who works at the mall ate here same day and guess what he was sick all night too so good i am going to have to review this place twice once hereas a tribute to the place and once as a tribute to an event held here last night chips and salsa were really good the salsa was very fresh this place is great mediocre food once you get inside you be impressed with the place i super pissd and service was super friendly why are these sad little vegetables so overcooked this place was such a nice surprise they were golden and delicious had high hopes for this place since the burgers are cooked over a charcoal grill but unfortunately the taste fell flat way flat i could eat their bruschetta all day it is devine not a single employee came out to see if we were ok or even needed a water refill once they finally served us our food the mozzarella sticks they were the best thing we ordered first time i ever came here i had an amazing experience i still tell people how awesome the duck was the server was very negligent of our needs and made us feel very unwelcome i would not suggest this place the service was terrible though place is overpriced not consistent with their boba and it really is overpriced it was packed i love this place i can say that the desserts were yummy the food was terrible the seasonal fruit was fresh white peach puree it kept getting worse and worse so now i officially done this place should honestly be blown up but i definitely would not eat here again do not waste your money here i love that they put their food in nice plastic containers as opposed to cramming it in little paper takeout boxes the crêpe was delicate and thin and moist awful service won ever go here again food quality has been horrible for that price i can think of a few place i would have much rather gone the service here is fair at best do love sushi but i found kabuki to be over over and under do yourself a favor and stay away from this dish very poor service no one at the table thought the food was above average or worth the wait that we had for it service and food ever maria our server was so good and friendly she made our day they were excellent i paid the bill but did not tip because i felt the server did a terrible job just had lunch here and had a great experience i have never had such bland food which surprised me considering the article we read focused so much on their spices and flavor food is way overpriced and portions are fucking small i recently tried caballero and i have been back every week since 40 bucks a head i really expect better food the food came out at a good pace ate there twice on my last visit and especially enjoyed the salmon salad i won be back we could not believe how dirty the oysters were this place deserves no stars i would not recommend this place fact i going to round up to 4 stars just because she was so awesome my disbelief each dish qualified as the worst version of these foods i have ever tasted day or not i have a very low tolerance for rude customer service people it is your job to be nice and polite wash dishes otherwise the potatoes were great and so was the biscuit i probably would not go here again so flavorful and has just the perfect amount of heat the price is reasonable and the service is great wife hated her meal shrimp and our friends really did not enjoy their meals either my fella got the huevos rancheros and they didn look too appealing in for happy hour great list of wines some may say this buffet is pricey but i think you get what you pay for and this place you are getting quite a lot i probably won be coming back here worst food i had in a while place is pretty good nice little vibe in the restaurant talk about great customer service of course we will be back dishes are not hot cold dishes are close to room temp watched staff prepare food with bare hands no gloves is deep fried in oil i love their fries and their beans always a pleasure dealing with him have a plethora of salads and sandwiches and everything i tried gets my seal of approval this place is awesome if you want something light and healthy during the summer sushi on the strip this is the place to go service was great even the manager came and helped with our table the feel of the dining room was more college cooking course than high class dining and the service was slow at best started this review with two stars but i editing it to give it only one this is the worst sushi i have ever eat besides costco in all an excellent restaurant highlighted by great service a unique menu and a beautiful setting my boyfriend and i sat at the bar and had a completely delightful experience weird vibe from owners there was hardly any meat i had better bagels from the grocery store go to place for gyros love the owner his one authentic japanese cool dude the burgers aren as good the pizza which used to be amazing is doughy and flavorless i found a six inch long piece of wire in my salsa service was terrible food was mediocre we definately enjoyed ourselves i ordered albondigas soup which was just warm and tasted like tomato soup with frozen meatballs three different occasions i asked for well done or medium well and all three times i got the bloodiest piece of meat on my plate i had about two bites and refused to eat anymore the service was extremely slow 20 minutes wait i got a table seriously killer hot chai latte allergy warnings on the menu and the waitress had absolutely no clue as to which meals did or did not contain peanuts my boyfriend tried the mediterranean chicken salad and fell in love their rotating beers on tap is also a highlight of this place pricing is a bit of a concern at mellow mushroom worst thai ever if you stay in vegas you must get breakfast here at least once i want to first say our server was great and we had perfect service the pizza selections are good had strawberry tea which was good highly unprofessional and rude to a loyal patron a great experience spend your money elsewhere their regular toasted bread was equally satisfying with the occasional pats of butter mmmm the buffet at bellagio was far from what i anticipated the drinks are weak people order was not correct i feel like the chips are bought not made in house after the disappointing dinner we went elsewhere for dessert the chips and sals a here is amazing we won be returning this is my new fav vegas buffet spot i seriously cannot believe that the owner has so many unexperienced employees that all are running around like chickens with their heads cut off very sad felt insulted and disrespected how could you talk and judge another human being like that can you call yourself a steakhouse if you can properly cook a steak i don understand i not impressed with the concept or the food the only thing i wasn too crazy about was their guacamole as i don like it puréed is really nothing for me at postinos hope your experience is better i got food poisoning here at the buffet they brought a fresh batch of fries and i was thinking yay something warm but no should have been a hilarious yummy christmas eve dinner to remember was the biggest fail of the entire trip for us to say i won be going back anytime soon this place is disgusting time i eat here i see caring teamwork to a professional degree the ri style calamari was a joke there was so much garlic in the fondue it was barely edible could barely stomach the meal but didn complain because it was a business lunch was so bad i had lost the heart to finish it it also took her forever to bring us the check when we asked for it we aren ones to make a scene at restaurants but i just don get it lost the love after this one disappointing experience food is about on par with denny which is to say not good at all you want to wait for mediocre food and downright terrible service then this is the place for you waaaaaayyyyyyyyyy over rated is all i am saying we won be going back the place was fairly clean but the food simply wasn worth it this place lacked style sangria was about half of a glass wine full and was ridiculous don bother coming here meat was pretty dry i had the sliced brisket and pulled pork building itself seems pretty neat the bathroom is pretty trippy but i wouldn eat here again it was equally awful probably not in a hurry to go back very slow at seating even with reservation not good by any stretch of the imagination the cashew cream sauce was bland and the vegetables were undercooked chipolte ranch dipping sause was tasteless seemed thin and watered down with no heat was a bit too sweet not really spicy enough and lacked flavor i was very disappointed this place is horrible and way overpriced it just their vegetarian fare but i been twice and i thought it was average at best it wasn busy at all and now we know why the tables outside are also dirty a lot of the time and the workers are not always friendly and helpful with the menu ambiance here did not feel like a buffet setting but more of a douchey indoor garden for tea and biscuits con spotty service fries were not hot and neither was my burger but then they came back cold our food came out disappointment ensued the real disappointment was our waiter my husband said she was very rude did not even apologize for the bad food or anything the only reason to eat here would be to fill up before a night of binge drinking just to get some carbs in your stomach profound deuchebaggery and had to go outside for a smoke break while serving just to solidify it if someone orders two tacos don you think it may be part of customer service to ask if it is combo or ala cart she was quite disappointed although some blame needs to be placed at her door after all the rave reviews i couldn wait to eat here a disappointment del taco is pretty nasty and should be avoided if possible it not hard to make a decent hamburger but i don like it hell no will i go back we have gotten a much better service from the pizza place next door than the services we received from this restaurant don know what the big deal is about this place but i won be back i immediately said i wanted to talk to the manager but i did not want to talk to the guy who was doing shots of fireball behind the bar the ambiance isn much better it only set us up for disapppointment with our entrees the food wasn good servers suck wait correction our server heimer sucked what happened next was pretty putting bad cause i know it family owned i really wanted to like this place overpriced for what you are getting i vomited in the bathroom mid lunch kept looking at the time and it had soon become 35 minutes yet still no food have been to very few places to eat that under no circumstances would i ever return to and this tops the list we started with the tuna sashimi which was brownish in color and obviously wasn fresh food was below average it sure does beat the nachos at the movies but i would expect a little bit more coming from a restaurant in all ha long bay was a bit of a flop the problem i have is that they charge for a sandwich that is no bigger than a subway sub offers better and more amount of vegetables shrimp when i unwrapped it live only 1 a mile from brushfire it was literally ice cold lacked flavor seemed undercooked and dry it really is impressive that the place hasn closed down i would avoid this place if you are staying in the mirage the refried beans that came with my meal were dried out and crusty and the food was bland spend your money and time some place else a lady at the table next to us found a live green caterpillar in her salad the presentation of the food was awful i can tell you how disappointed i was i think food should have flavor and texture and both were lacking appetite instantly gone overall i was not impressed and would not go back whole experience was underwhelming and i think we just go to ninja sushi next time as if i hadn wasted enough of my life there they poured salt in the wound by drawing out the time it took to bring the check'"
            ],
            "application/vnd.google.colaboratory.intrinsic+json": {
              "type": "string"
            }
          },
          "metadata": {},
          "execution_count": 44
        }
      ]
    },
    {
      "cell_type": "code",
      "source": [],
      "metadata": {
        "id": "InBzfCu9xG7R"
      },
      "execution_count": null,
      "outputs": []
    },
    {
      "cell_type": "markdown",
      "source": [
        "*   **Pregunta 14.**  \n",
        "\n",
        "Con el resultado de la limpieza obtenido en la pregunta anterior, realiza ahora un proceso de tokenización por palabras del corpus. \n",
        "\n",
        "Es decir, al final de este proceso de tokenización, debes tener como resultado una lista de listas, donde cada comentario estará tokenizado por palabras.\n",
        "\n",
        "Al terminar calcula el total de tokens obtenido en todo el corpus. "
      ],
      "metadata": {
        "id": "WZwEhg2lUSAX"
      }
    },
    {
      "cell_type": "code",
      "source": [],
      "metadata": {
        "id": "kbAL9-v0V-jx"
      },
      "execution_count": null,
      "outputs": []
    },
    {
      "cell_type": "code",
      "source": [],
      "metadata": {
        "id": "DZs_etmiV-fd"
      },
      "execution_count": null,
      "outputs": []
    },
    {
      "cell_type": "markdown",
      "source": [
        "*   **Pregunta 15.**  \n",
        "\n",
        "Finalmente, en este ejercicio definiremos nuestro conjunto de palabras \"stopwords\", las cuales deberás eliminar de todo el corpus. \n",
        "\n",
        "Recuerda que ejemplos de stopwords son artículos, adverbios, conectivos, etcétera, que tienen frecuencias de aparición muy altas en cualquier documento, pero que no brindan mucho significado en cuanto al significado de un enunciado.\n",
        "\n",
        "Con base a la lista de stopwords que se te proporciona, realiza un proceso de limpieza eliminando todas estas palabras del corpus obtenido en el ejercicio anterior.\n",
        "\n",
        "Obtener cuántos tokens/palabras quedan finalmente en todo el corpus.\n",
        "\n",
        "Obtener cuántos de estos tokens/palabras son diferentes, es decir, cuántos tokens únicos tendrá lo que llamaremos más adelante nuestro vocabulario."
      ],
      "metadata": {
        "id": "EFeu0OJ7WDPD"
      }
    },
    {
      "cell_type": "code",
      "source": [
        "# Considera la siguiente lista como tu conjunto de stopwords:\n",
        "mis_stopwords = ['i', 'me', 'my', 'myself', 'we', 'our', 'ours', 'ourselves', 'you', 'your', 'yours', 'he', 'him', 'his', 'himself', 'she', 'her', 'hers', 'herself', 'it', 'its', 'itself', 'they', 'them', 'their', 'theirs', 'themselves', 'what', 'which', 'who', 'whom', 'this', 'that', 'these', 'those', 'am', 'is', 'are', 'was', 'were', 'be', 'been', 'being', 'have', 'has', 'had', 'having', 'do', 'does', 'did', 'doing', 'a', 'an', 'the', 'and', 'but', 'if', 'or', 'because', 'as', 'until', 'while', 'of', 'at', 'by', 'for', 'with', 'about', 'against', 'between', 'into', 'through', 'during', 'before', 'after', 'above', 'below', 'to', 'from', 'up', 'down', 'in', 'out', 'on', 'over', 'under', 'again', 'further', 'then', 'once', 'here', 'there', 'when', 'where', 'why', 'how', 'all', 'any', 'both', 'each', 'few', 'more', 'most', 'other', 'some', 'such', 'only', 'own', 'same', 'so', 'than', 'too', 'very', 's', 't', 'can', 'will', 'just', 'should', 'now', 'll']"
      ],
      "metadata": {
        "id": "6FP4FF3KXGxm"
      },
      "execution_count": null,
      "outputs": []
    },
    {
      "cell_type": "code",
      "source": [],
      "metadata": {
        "id": "CD8yjyq1ZrwY"
      },
      "execution_count": null,
      "outputs": []
    },
    {
      "cell_type": "code",
      "source": [],
      "metadata": {
        "id": "4ZPi5prKZro5"
      },
      "execution_count": null,
      "outputs": []
    },
    {
      "cell_type": "markdown",
      "source": [
        "*   **Comentarios**\n",
        "\n",
        "Incluye finalmente tus comentarios de la actividad."
      ],
      "metadata": {
        "id": "NDbKkuxRbLoX"
      }
    },
    {
      "cell_type": "markdown",
      "source": [
        "<< incluye aquí tus comentarios >>"
      ],
      "metadata": {
        "id": "o7fzbvqVbUGr"
      }
    },
    {
      "cell_type": "markdown",
      "source": [
        "##**Fin de la Actividad de la semana 2.**"
      ],
      "metadata": {
        "id": "PHaKw_6Ldbaf"
      }
    }
  ]
}